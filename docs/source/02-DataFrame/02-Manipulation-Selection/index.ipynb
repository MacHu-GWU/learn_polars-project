{
 "cells": [
  {
   "cell_type": "raw",
   "id": "6a1158e668cec115",
   "metadata": {
    "collapsed": false,
    "editable": true,
    "jupyter": {
     "outputs_hidden": false
    },
    "raw_mimetype": "text/restructuredtext",
    "slideshow": {
     "slide_type": ""
    },
    "tags": []
   },
   "source": [
    ".. _manipulation-selection:\n",
    "\n",
    "Manipulation Selection\n",
    "==============================================================================\n",
    "Ref:\n",
    "\n",
    "- https://docs.pola.rs/api/python/stable/reference/dataframe/modify_select.html"
   ]
  },
  {
   "cell_type": "code",
   "execution_count": 2,
   "id": "d0d3ba4b9efdd4ad",
   "metadata": {
    "ExecuteTime": {
     "end_time": "2024-08-04T23:27:56.688455Z",
     "start_time": "2024-08-04T23:27:56.657290Z"
    },
    "collapsed": false,
    "editable": true,
    "jupyter": {
     "outputs_hidden": false
    },
    "slideshow": {
     "slide_type": ""
    },
    "tags": []
   },
   "outputs": [
    {
     "data": {
      "text/html": [
       "<div><style>\n",
       ".dataframe > thead > tr,\n",
       ".dataframe > tbody > tr {\n",
       "  text-align: right;\n",
       "  white-space: pre-wrap;\n",
       "}\n",
       "</style>\n",
       "<small>shape: (50, 3)</small><table border=\"1\" class=\"dataframe\"><thead><tr><th>id</th><th>name</th><th>phone</th></tr><tr><td>i64</td><td>str</td><td>str</td></tr></thead><tbody><tr><td>1</td><td>&quot;Maria Powell&quot;</td><td>&quot;836.602.8286x06763&quot;</td></tr><tr><td>2</td><td>&quot;Jacqueline Fletcher PhD&quot;</td><td>&quot;+1-801-639-6835&quot;</td></tr><tr><td>3</td><td>&quot;Mary Wilson&quot;</td><td>&quot;(999)905-1935&quot;</td></tr><tr><td>4</td><td>&quot;Kenneth Davis&quot;</td><td>&quot;332-275-7129x0289&quot;</td></tr><tr><td>5</td><td>&quot;Christopher Martin&quot;</td><td>&quot;(792)727-8878x82819&quot;</td></tr><tr><td>&hellip;</td><td>&hellip;</td><td>&hellip;</td></tr><tr><td>46</td><td>&quot;William Keller&quot;</td><td>&quot;(695)744-1587x0883&quot;</td></tr><tr><td>47</td><td>&quot;Vickie Perez&quot;</td><td>&quot;+1-297-963-9194x6132&quot;</td></tr><tr><td>48</td><td>&quot;William Howard&quot;</td><td>&quot;630.391.0772x26252&quot;</td></tr><tr><td>49</td><td>&quot;Laura Nash&quot;</td><td>&quot;(495)680-1361x6763&quot;</td></tr><tr><td>50</td><td>&quot;Donald Johnson&quot;</td><td>&quot;(282)973-8109x024&quot;</td></tr></tbody></table></div>"
      ],
      "text/plain": [
       "shape: (50, 3)\n",
       "┌─────┬─────────────────────────┬──────────────────────┐\n",
       "│ id  ┆ name                    ┆ phone                │\n",
       "│ --- ┆ ---                     ┆ ---                  │\n",
       "│ i64 ┆ str                     ┆ str                  │\n",
       "╞═════╪═════════════════════════╪══════════════════════╡\n",
       "│ 1   ┆ Maria Powell            ┆ 836.602.8286x06763   │\n",
       "│ 2   ┆ Jacqueline Fletcher PhD ┆ +1-801-639-6835      │\n",
       "│ 3   ┆ Mary Wilson             ┆ (999)905-1935        │\n",
       "│ 4   ┆ Kenneth Davis           ┆ 332-275-7129x0289    │\n",
       "│ 5   ┆ Christopher Martin      ┆ (792)727-8878x82819  │\n",
       "│ …   ┆ …                       ┆ …                    │\n",
       "│ 46  ┆ William Keller          ┆ (695)744-1587x0883   │\n",
       "│ 47  ┆ Vickie Perez            ┆ +1-297-963-9194x6132 │\n",
       "│ 48  ┆ William Howard          ┆ 630.391.0772x26252   │\n",
       "│ 49  ┆ Laura Nash              ┆ (495)680-1361x6763   │\n",
       "│ 50  ┆ Donald Johnson          ┆ (282)973-8109x024    │\n",
       "└─────┴─────────────────────────┴──────────────────────┘"
      ]
     },
     "execution_count": 2,
     "metadata": {},
     "output_type": "execute_result"
    }
   ],
   "source": [
    "import polars as pl\n",
    "import faker\n",
    "\n",
    "fake = faker.Faker()\n",
    "\n",
    "n_row = 50\n",
    "data = {\n",
    "    \"id\": list(range(1, 1+n_row)),\n",
    "    \"name\": [fake.name() for _ in range(n_row)],\n",
    "    \"phone\": [fake.phone_number() for _ in range(n_row)],\n",
    "}\n",
    "df = pl.DataFrame(data)\n",
    "df"
   ]
  },
  {
   "cell_type": "markdown",
   "id": "fc4cab74e5ff176c",
   "metadata": {
    "collapsed": false,
    "editable": true,
    "jupyter": {
     "outputs_hidden": false
    },
    "slideshow": {
     "slide_type": ""
    },
    "tags": []
   },
   "source": [
    "## Select by Rows\n",
    "\n",
    "### Take First N"
   ]
  },
  {
   "cell_type": "code",
   "execution_count": 3,
   "id": "ac8a97cc37034eaa",
   "metadata": {
    "ExecuteTime": {
     "end_time": "2024-08-04T23:28:24.689762Z",
     "start_time": "2024-08-04T23:28:24.686411Z"
    },
    "collapsed": false,
    "editable": true,
    "jupyter": {
     "outputs_hidden": false
    },
    "slideshow": {
     "slide_type": ""
    },
    "tags": []
   },
   "outputs": [
    {
     "data": {
      "text/html": [
       "<div><style>\n",
       ".dataframe > thead > tr,\n",
       ".dataframe > tbody > tr {\n",
       "  text-align: right;\n",
       "  white-space: pre-wrap;\n",
       "}\n",
       "</style>\n",
       "<small>shape: (5, 3)</small><table border=\"1\" class=\"dataframe\"><thead><tr><th>id</th><th>name</th><th>phone</th></tr><tr><td>i64</td><td>str</td><td>str</td></tr></thead><tbody><tr><td>1</td><td>&quot;Maria Powell&quot;</td><td>&quot;836.602.8286x06763&quot;</td></tr><tr><td>2</td><td>&quot;Jacqueline Fletcher PhD&quot;</td><td>&quot;+1-801-639-6835&quot;</td></tr><tr><td>3</td><td>&quot;Mary Wilson&quot;</td><td>&quot;(999)905-1935&quot;</td></tr><tr><td>4</td><td>&quot;Kenneth Davis&quot;</td><td>&quot;332-275-7129x0289&quot;</td></tr><tr><td>5</td><td>&quot;Christopher Martin&quot;</td><td>&quot;(792)727-8878x82819&quot;</td></tr></tbody></table></div>"
      ],
      "text/plain": [
       "shape: (5, 3)\n",
       "┌─────┬─────────────────────────┬─────────────────────┐\n",
       "│ id  ┆ name                    ┆ phone               │\n",
       "│ --- ┆ ---                     ┆ ---                 │\n",
       "│ i64 ┆ str                     ┆ str                 │\n",
       "╞═════╪═════════════════════════╪═════════════════════╡\n",
       "│ 1   ┆ Maria Powell            ┆ 836.602.8286x06763  │\n",
       "│ 2   ┆ Jacqueline Fletcher PhD ┆ +1-801-639-6835     │\n",
       "│ 3   ┆ Mary Wilson             ┆ (999)905-1935       │\n",
       "│ 4   ┆ Kenneth Davis           ┆ 332-275-7129x0289   │\n",
       "│ 5   ┆ Christopher Martin      ┆ (792)727-8878x82819 │\n",
       "└─────┴─────────────────────────┴─────────────────────┘"
      ]
     },
     "execution_count": 3,
     "metadata": {},
     "output_type": "execute_result"
    }
   ],
   "source": [
    "df.head(5)"
   ]
  },
  {
   "cell_type": "markdown",
   "id": "ef1bbc4b2aa2cf20",
   "metadata": {
    "collapsed": false,
    "editable": true,
    "jupyter": {
     "outputs_hidden": false
    },
    "slideshow": {
     "slide_type": ""
    },
    "tags": []
   },
   "source": [
    "### Take Last N"
   ]
  },
  {
   "cell_type": "code",
   "execution_count": 4,
   "id": "e848e009368f0f6b",
   "metadata": {
    "ExecuteTime": {
     "end_time": "2024-08-04T23:28:33.708540Z",
     "start_time": "2024-08-04T23:28:33.704667Z"
    },
    "collapsed": false,
    "editable": true,
    "jupyter": {
     "outputs_hidden": false
    },
    "slideshow": {
     "slide_type": ""
    },
    "tags": []
   },
   "outputs": [
    {
     "data": {
      "text/html": [
       "<div><style>\n",
       ".dataframe > thead > tr,\n",
       ".dataframe > tbody > tr {\n",
       "  text-align: right;\n",
       "  white-space: pre-wrap;\n",
       "}\n",
       "</style>\n",
       "<small>shape: (5, 3)</small><table border=\"1\" class=\"dataframe\"><thead><tr><th>id</th><th>name</th><th>phone</th></tr><tr><td>i64</td><td>str</td><td>str</td></tr></thead><tbody><tr><td>46</td><td>&quot;William Keller&quot;</td><td>&quot;(695)744-1587x0883&quot;</td></tr><tr><td>47</td><td>&quot;Vickie Perez&quot;</td><td>&quot;+1-297-963-9194x6132&quot;</td></tr><tr><td>48</td><td>&quot;William Howard&quot;</td><td>&quot;630.391.0772x26252&quot;</td></tr><tr><td>49</td><td>&quot;Laura Nash&quot;</td><td>&quot;(495)680-1361x6763&quot;</td></tr><tr><td>50</td><td>&quot;Donald Johnson&quot;</td><td>&quot;(282)973-8109x024&quot;</td></tr></tbody></table></div>"
      ],
      "text/plain": [
       "shape: (5, 3)\n",
       "┌─────┬────────────────┬──────────────────────┐\n",
       "│ id  ┆ name           ┆ phone                │\n",
       "│ --- ┆ ---            ┆ ---                  │\n",
       "│ i64 ┆ str            ┆ str                  │\n",
       "╞═════╪════════════════╪══════════════════════╡\n",
       "│ 46  ┆ William Keller ┆ (695)744-1587x0883   │\n",
       "│ 47  ┆ Vickie Perez   ┆ +1-297-963-9194x6132 │\n",
       "│ 48  ┆ William Howard ┆ 630.391.0772x26252   │\n",
       "│ 49  ┆ Laura Nash     ┆ (495)680-1361x6763   │\n",
       "│ 50  ┆ Donald Johnson ┆ (282)973-8109x024    │\n",
       "└─────┴────────────────┴──────────────────────┘"
      ]
     },
     "execution_count": 4,
     "metadata": {},
     "output_type": "execute_result"
    }
   ],
   "source": [
    "df.tail(5)"
   ]
  },
  {
   "cell_type": "markdown",
   "id": "f97c044e9e8e1b03",
   "metadata": {
    "collapsed": false,
    "editable": true,
    "jupyter": {
     "outputs_hidden": false
    },
    "slideshow": {
     "slide_type": ""
    },
    "tags": []
   },
   "source": [
    "### Select By Index Range\n",
    "\n",
    "Note: [Polars does not have a multi-index/index](https://docs.pola.rs/user-guide/migration/pandas/#polars-does-not-have-a-multi-indexindex), you have to use integer index to select rows."
   ]
  },
  {
   "cell_type": "code",
   "execution_count": 5,
   "id": "ab1ee609114a4f67",
   "metadata": {
    "ExecuteTime": {
     "end_time": "2024-08-04T23:29:45.715277Z",
     "start_time": "2024-08-04T23:29:45.712911Z"
    },
    "collapsed": false,
    "editable": true,
    "jupyter": {
     "outputs_hidden": false
    },
    "slideshow": {
     "slide_type": ""
    },
    "tags": []
   },
   "outputs": [
    {
     "data": {
      "text/html": [
       "<div><style>\n",
       ".dataframe > thead > tr,\n",
       ".dataframe > tbody > tr {\n",
       "  text-align: right;\n",
       "  white-space: pre-wrap;\n",
       "}\n",
       "</style>\n",
       "<small>shape: (10, 3)</small><table border=\"1\" class=\"dataframe\"><thead><tr><th>id</th><th>name</th><th>phone</th></tr><tr><td>i64</td><td>str</td><td>str</td></tr></thead><tbody><tr><td>6</td><td>&quot;Patricia Brown&quot;</td><td>&quot;363-719-4855x7138&quot;</td></tr><tr><td>7</td><td>&quot;Richard Hodges&quot;</td><td>&quot;(831)255-4407x13496&quot;</td></tr><tr><td>8</td><td>&quot;Steve Green&quot;</td><td>&quot;671-700-3796x127&quot;</td></tr><tr><td>9</td><td>&quot;Luis Smith&quot;</td><td>&quot;844.513.7054x4915&quot;</td></tr><tr><td>10</td><td>&quot;Morgan Hensley&quot;</td><td>&quot;001-741-524-3690x958&quot;</td></tr><tr><td>11</td><td>&quot;Tanya Peck&quot;</td><td>&quot;819-449-4406&quot;</td></tr><tr><td>12</td><td>&quot;Mr. Joseph Parrish&quot;</td><td>&quot;409-954-9495x85424&quot;</td></tr><tr><td>13</td><td>&quot;Juan Frazier&quot;</td><td>&quot;282.948.5514x337&quot;</td></tr><tr><td>14</td><td>&quot;David Murray&quot;</td><td>&quot;902-780-8331x8359&quot;</td></tr><tr><td>15</td><td>&quot;Ryan Campbell&quot;</td><td>&quot;7713098760&quot;</td></tr></tbody></table></div>"
      ],
      "text/plain": [
       "shape: (10, 3)\n",
       "┌─────┬────────────────────┬──────────────────────┐\n",
       "│ id  ┆ name               ┆ phone                │\n",
       "│ --- ┆ ---                ┆ ---                  │\n",
       "│ i64 ┆ str                ┆ str                  │\n",
       "╞═════╪════════════════════╪══════════════════════╡\n",
       "│ 6   ┆ Patricia Brown     ┆ 363-719-4855x7138    │\n",
       "│ 7   ┆ Richard Hodges     ┆ (831)255-4407x13496  │\n",
       "│ 8   ┆ Steve Green        ┆ 671-700-3796x127     │\n",
       "│ 9   ┆ Luis Smith         ┆ 844.513.7054x4915    │\n",
       "│ 10  ┆ Morgan Hensley     ┆ 001-741-524-3690x958 │\n",
       "│ 11  ┆ Tanya Peck         ┆ 819-449-4406         │\n",
       "│ 12  ┆ Mr. Joseph Parrish ┆ 409-954-9495x85424   │\n",
       "│ 13  ┆ Juan Frazier       ┆ 282.948.5514x337     │\n",
       "│ 14  ┆ David Murray       ┆ 902-780-8331x8359    │\n",
       "│ 15  ┆ Ryan Campbell      ┆ 7713098760           │\n",
       "└─────┴────────────────────┴──────────────────────┘"
      ]
     },
     "execution_count": 5,
     "metadata": {},
     "output_type": "execute_result"
    }
   ],
   "source": [
    "# Method 1\n",
    "df.slice(offset=5, length=10)"
   ]
  },
  {
   "cell_type": "code",
   "execution_count": 6,
   "id": "50f48ed61c0006d1",
   "metadata": {
    "ExecuteTime": {
     "end_time": "2024-08-04T23:30:12.050734Z",
     "start_time": "2024-08-04T23:30:12.045898Z"
    },
    "collapsed": false,
    "editable": true,
    "jupyter": {
     "outputs_hidden": false
    },
    "slideshow": {
     "slide_type": ""
    },
    "tags": []
   },
   "outputs": [
    {
     "data": {
      "text/html": [
       "<div><style>\n",
       ".dataframe > thead > tr,\n",
       ".dataframe > tbody > tr {\n",
       "  text-align: right;\n",
       "  white-space: pre-wrap;\n",
       "}\n",
       "</style>\n",
       "<small>shape: (10, 3)</small><table border=\"1\" class=\"dataframe\"><thead><tr><th>id</th><th>name</th><th>phone</th></tr><tr><td>i64</td><td>str</td><td>str</td></tr></thead><tbody><tr><td>6</td><td>&quot;Patricia Brown&quot;</td><td>&quot;363-719-4855x7138&quot;</td></tr><tr><td>7</td><td>&quot;Richard Hodges&quot;</td><td>&quot;(831)255-4407x13496&quot;</td></tr><tr><td>8</td><td>&quot;Steve Green&quot;</td><td>&quot;671-700-3796x127&quot;</td></tr><tr><td>9</td><td>&quot;Luis Smith&quot;</td><td>&quot;844.513.7054x4915&quot;</td></tr><tr><td>10</td><td>&quot;Morgan Hensley&quot;</td><td>&quot;001-741-524-3690x958&quot;</td></tr><tr><td>11</td><td>&quot;Tanya Peck&quot;</td><td>&quot;819-449-4406&quot;</td></tr><tr><td>12</td><td>&quot;Mr. Joseph Parrish&quot;</td><td>&quot;409-954-9495x85424&quot;</td></tr><tr><td>13</td><td>&quot;Juan Frazier&quot;</td><td>&quot;282.948.5514x337&quot;</td></tr><tr><td>14</td><td>&quot;David Murray&quot;</td><td>&quot;902-780-8331x8359&quot;</td></tr><tr><td>15</td><td>&quot;Ryan Campbell&quot;</td><td>&quot;7713098760&quot;</td></tr></tbody></table></div>"
      ],
      "text/plain": [
       "shape: (10, 3)\n",
       "┌─────┬────────────────────┬──────────────────────┐\n",
       "│ id  ┆ name               ┆ phone                │\n",
       "│ --- ┆ ---                ┆ ---                  │\n",
       "│ i64 ┆ str                ┆ str                  │\n",
       "╞═════╪════════════════════╪══════════════════════╡\n",
       "│ 6   ┆ Patricia Brown     ┆ 363-719-4855x7138    │\n",
       "│ 7   ┆ Richard Hodges     ┆ (831)255-4407x13496  │\n",
       "│ 8   ┆ Steve Green        ┆ 671-700-3796x127     │\n",
       "│ 9   ┆ Luis Smith         ┆ 844.513.7054x4915    │\n",
       "│ 10  ┆ Morgan Hensley     ┆ 001-741-524-3690x958 │\n",
       "│ 11  ┆ Tanya Peck         ┆ 819-449-4406         │\n",
       "│ 12  ┆ Mr. Joseph Parrish ┆ 409-954-9495x85424   │\n",
       "│ 13  ┆ Juan Frazier       ┆ 282.948.5514x337     │\n",
       "│ 14  ┆ David Murray       ┆ 902-780-8331x8359    │\n",
       "│ 15  ┆ Ryan Campbell      ┆ 7713098760           │\n",
       "└─────┴────────────────────┴──────────────────────┘"
      ]
     },
     "execution_count": 6,
     "metadata": {},
     "output_type": "execute_result"
    }
   ],
   "source": [
    "# Method 2\n",
    "start_idx = 6\n",
    "end_idx = 15\n",
    "df.slice(offset=start_idx-1, length=(end_idx-start_idx+1))"
   ]
  },
  {
   "cell_type": "markdown",
   "id": "1fbf043a5590459f",
   "metadata": {
    "collapsed": false,
    "editable": true,
    "jupyter": {
     "outputs_hidden": false
    },
    "slideshow": {
     "slide_type": ""
    },
    "tags": []
   },
   "source": [
    "### Select One Row By Index"
   ]
  },
  {
   "cell_type": "code",
   "execution_count": 7,
   "id": "5251442173e5d7b",
   "metadata": {
    "ExecuteTime": {
     "end_time": "2024-08-04T23:55:49.333956Z",
     "start_time": "2024-08-04T23:55:49.328907Z"
    },
    "collapsed": false,
    "editable": true,
    "jupyter": {
     "outputs_hidden": false
    },
    "slideshow": {
     "slide_type": ""
    },
    "tags": []
   },
   "outputs": [
    {
     "data": {
      "text/plain": [
       "(6, 'Patricia Brown', '363-719-4855x7138')"
      ]
     },
     "execution_count": 7,
     "metadata": {},
     "output_type": "execute_result"
    }
   ],
   "source": [
    "# Don't do df[5], it will return a dataframe\n",
    "df.row(5)"
   ]
  },
  {
   "cell_type": "code",
   "execution_count": 8,
   "id": "729b6e05e5ec8053",
   "metadata": {
    "ExecuteTime": {
     "end_time": "2024-08-04T23:56:10.411175Z",
     "start_time": "2024-08-04T23:56:10.404266Z"
    },
    "collapsed": false,
    "editable": true,
    "jupyter": {
     "outputs_hidden": false
    },
    "slideshow": {
     "slide_type": ""
    },
    "tags": []
   },
   "outputs": [
    {
     "data": {
      "text/plain": [
       "{'id': 6, 'name': 'Patricia Brown', 'phone': '363-719-4855x7138'}"
      ]
     },
     "execution_count": 8,
     "metadata": {},
     "output_type": "execute_result"
    }
   ],
   "source": [
    "df.row(5, named=True)"
   ]
  },
  {
   "cell_type": "markdown",
   "id": "de89cfefa0854eda",
   "metadata": {
    "collapsed": false,
    "editable": true,
    "jupyter": {
     "outputs_hidden": false
    },
    "slideshow": {
     "slide_type": ""
    },
    "tags": []
   },
   "source": [
    "### Select Rows by Multiple Index"
   ]
  },
  {
   "cell_type": "code",
   "execution_count": 9,
   "id": "a09172b83c7b7f88",
   "metadata": {
    "ExecuteTime": {
     "end_time": "2024-08-04T23:36:34.321689Z",
     "start_time": "2024-08-04T23:36:34.318793Z"
    },
    "collapsed": false,
    "editable": true,
    "jupyter": {
     "outputs_hidden": false
    },
    "slideshow": {
     "slide_type": ""
    },
    "tags": []
   },
   "outputs": [
    {
     "data": {
      "text/html": [
       "<div><style>\n",
       ".dataframe > thead > tr,\n",
       ".dataframe > tbody > tr {\n",
       "  text-align: right;\n",
       "  white-space: pre-wrap;\n",
       "}\n",
       "</style>\n",
       "<small>shape: (3, 3)</small><table border=\"1\" class=\"dataframe\"><thead><tr><th>id</th><th>name</th><th>phone</th></tr><tr><td>i64</td><td>str</td><td>str</td></tr></thead><tbody><tr><td>2</td><td>&quot;Jacqueline Fletcher PhD&quot;</td><td>&quot;+1-801-639-6835&quot;</td></tr><tr><td>4</td><td>&quot;Kenneth Davis&quot;</td><td>&quot;332-275-7129x0289&quot;</td></tr><tr><td>6</td><td>&quot;Patricia Brown&quot;</td><td>&quot;363-719-4855x7138&quot;</td></tr></tbody></table></div>"
      ],
      "text/plain": [
       "shape: (3, 3)\n",
       "┌─────┬─────────────────────────┬───────────────────┐\n",
       "│ id  ┆ name                    ┆ phone             │\n",
       "│ --- ┆ ---                     ┆ ---               │\n",
       "│ i64 ┆ str                     ┆ str               │\n",
       "╞═════╪═════════════════════════╪═══════════════════╡\n",
       "│ 2   ┆ Jacqueline Fletcher PhD ┆ +1-801-639-6835   │\n",
       "│ 4   ┆ Kenneth Davis           ┆ 332-275-7129x0289 │\n",
       "│ 6   ┆ Patricia Brown          ┆ 363-719-4855x7138 │\n",
       "└─────┴─────────────────────────┴───────────────────┘"
      ]
     },
     "execution_count": 9,
     "metadata": {},
     "output_type": "execute_result"
    }
   ],
   "source": [
    "df[[1, 3, 5]]"
   ]
  },
  {
   "cell_type": "markdown",
   "id": "146f916d4004997f",
   "metadata": {
    "collapsed": false,
    "editable": true,
    "jupyter": {
     "outputs_hidden": false
    },
    "slideshow": {
     "slide_type": ""
    },
    "tags": []
   },
   "source": [
    "### Randomly Sample By Rows"
   ]
  },
  {
   "cell_type": "code",
   "execution_count": 10,
   "id": "4841cc2774ecad35",
   "metadata": {
    "ExecuteTime": {
     "end_time": "2024-08-04T23:56:59.846774Z",
     "start_time": "2024-08-04T23:56:59.840388Z"
    },
    "collapsed": false,
    "editable": true,
    "jupyter": {
     "outputs_hidden": false
    },
    "slideshow": {
     "slide_type": ""
    },
    "tags": []
   },
   "outputs": [
    {
     "data": {
      "text/html": [
       "<div><style>\n",
       ".dataframe > thead > tr,\n",
       ".dataframe > tbody > tr {\n",
       "  text-align: right;\n",
       "  white-space: pre-wrap;\n",
       "}\n",
       "</style>\n",
       "<small>shape: (5, 3)</small><table border=\"1\" class=\"dataframe\"><thead><tr><th>id</th><th>name</th><th>phone</th></tr><tr><td>i64</td><td>str</td><td>str</td></tr></thead><tbody><tr><td>24</td><td>&quot;Erica Keller&quot;</td><td>&quot;864.464.0633&quot;</td></tr><tr><td>46</td><td>&quot;William Keller&quot;</td><td>&quot;(695)744-1587x0883&quot;</td></tr><tr><td>18</td><td>&quot;James Miller&quot;</td><td>&quot;369.515.1819x923&quot;</td></tr><tr><td>21</td><td>&quot;Daniel Walker MD&quot;</td><td>&quot;+1-832-758-6101x9324&quot;</td></tr><tr><td>12</td><td>&quot;Mr. Joseph Parrish&quot;</td><td>&quot;409-954-9495x85424&quot;</td></tr></tbody></table></div>"
      ],
      "text/plain": [
       "shape: (5, 3)\n",
       "┌─────┬────────────────────┬──────────────────────┐\n",
       "│ id  ┆ name               ┆ phone                │\n",
       "│ --- ┆ ---                ┆ ---                  │\n",
       "│ i64 ┆ str                ┆ str                  │\n",
       "╞═════╪════════════════════╪══════════════════════╡\n",
       "│ 24  ┆ Erica Keller       ┆ 864.464.0633         │\n",
       "│ 46  ┆ William Keller     ┆ (695)744-1587x0883   │\n",
       "│ 18  ┆ James Miller       ┆ 369.515.1819x923     │\n",
       "│ 21  ┆ Daniel Walker MD   ┆ +1-832-758-6101x9324 │\n",
       "│ 12  ┆ Mr. Joseph Parrish ┆ 409-954-9495x85424   │\n",
       "└─────┴────────────────────┴──────────────────────┘"
      ]
     },
     "execution_count": 10,
     "metadata": {},
     "output_type": "execute_result"
    }
   ],
   "source": [
    "df.sample(n=5)"
   ]
  },
  {
   "cell_type": "code",
   "execution_count": 11,
   "id": "11d1aa6f31727a15",
   "metadata": {
    "ExecuteTime": {
     "end_time": "2024-08-04T23:57:10.051615Z",
     "start_time": "2024-08-04T23:57:10.045818Z"
    },
    "collapsed": false,
    "editable": true,
    "jupyter": {
     "outputs_hidden": false
    },
    "slideshow": {
     "slide_type": ""
    },
    "tags": []
   },
   "outputs": [
    {
     "data": {
      "text/html": [
       "<div><style>\n",
       ".dataframe > thead > tr,\n",
       ".dataframe > tbody > tr {\n",
       "  text-align: right;\n",
       "  white-space: pre-wrap;\n",
       "}\n",
       "</style>\n",
       "<small>shape: (5, 3)</small><table border=\"1\" class=\"dataframe\"><thead><tr><th>id</th><th>name</th><th>phone</th></tr><tr><td>i64</td><td>str</td><td>str</td></tr></thead><tbody><tr><td>30</td><td>&quot;Sarah Pittman&quot;</td><td>&quot;6854545835&quot;</td></tr><tr><td>11</td><td>&quot;Tanya Peck&quot;</td><td>&quot;819-449-4406&quot;</td></tr><tr><td>8</td><td>&quot;Steve Green&quot;</td><td>&quot;671-700-3796x127&quot;</td></tr><tr><td>17</td><td>&quot;Andrew Lee&quot;</td><td>&quot;754-587-2094&quot;</td></tr><tr><td>40</td><td>&quot;Francisco Gonzalez&quot;</td><td>&quot;001-427-821-4543x436&quot;</td></tr></tbody></table></div>"
      ],
      "text/plain": [
       "shape: (5, 3)\n",
       "┌─────┬────────────────────┬──────────────────────┐\n",
       "│ id  ┆ name               ┆ phone                │\n",
       "│ --- ┆ ---                ┆ ---                  │\n",
       "│ i64 ┆ str                ┆ str                  │\n",
       "╞═════╪════════════════════╪══════════════════════╡\n",
       "│ 30  ┆ Sarah Pittman      ┆ 6854545835           │\n",
       "│ 11  ┆ Tanya Peck         ┆ 819-449-4406         │\n",
       "│ 8   ┆ Steve Green        ┆ 671-700-3796x127     │\n",
       "│ 17  ┆ Andrew Lee         ┆ 754-587-2094         │\n",
       "│ 40  ┆ Francisco Gonzalez ┆ 001-427-821-4543x436 │\n",
       "└─────┴────────────────────┴──────────────────────┘"
      ]
     },
     "execution_count": 11,
     "metadata": {},
     "output_type": "execute_result"
    }
   ],
   "source": [
    "df.sample(fraction=0.1)"
   ]
  },
  {
   "cell_type": "code",
   "execution_count": 12,
   "id": "b06ed265c332469f",
   "metadata": {
    "ExecuteTime": {
     "end_time": "2024-08-04T23:57:59.437595Z",
     "start_time": "2024-08-04T23:57:59.421452Z"
    },
    "collapsed": false,
    "editable": true,
    "jupyter": {
     "outputs_hidden": false
    },
    "slideshow": {
     "slide_type": ""
    },
    "tags": []
   },
   "outputs": [
    {
     "data": {
      "text/html": [
       "<div><style>\n",
       ".dataframe > thead > tr,\n",
       ".dataframe > tbody > tr {\n",
       "  text-align: right;\n",
       "  white-space: pre-wrap;\n",
       "}\n",
       "</style>\n",
       "<small>shape: (25, 3)</small><table border=\"1\" class=\"dataframe\"><thead><tr><th>id</th><th>name</th><th>phone</th></tr><tr><td>i64</td><td>str</td><td>str</td></tr></thead><tbody><tr><td>14</td><td>&quot;David Murray&quot;</td><td>&quot;902-780-8331x8359&quot;</td></tr><tr><td>12</td><td>&quot;Mr. Joseph Parrish&quot;</td><td>&quot;409-954-9495x85424&quot;</td></tr><tr><td>24</td><td>&quot;Erica Keller&quot;</td><td>&quot;864.464.0633&quot;</td></tr><tr><td>20</td><td>&quot;Lindsay Meza&quot;</td><td>&quot;466-888-0910x674&quot;</td></tr><tr><td>35</td><td>&quot;Patricia Simmons&quot;</td><td>&quot;(816)705-8827x9632&quot;</td></tr><tr><td>&hellip;</td><td>&hellip;</td><td>&hellip;</td></tr><tr><td>24</td><td>&quot;Erica Keller&quot;</td><td>&quot;864.464.0633&quot;</td></tr><tr><td>24</td><td>&quot;Erica Keller&quot;</td><td>&quot;864.464.0633&quot;</td></tr><tr><td>10</td><td>&quot;Morgan Hensley&quot;</td><td>&quot;001-741-524-3690x958&quot;</td></tr><tr><td>42</td><td>&quot;Tina Allen&quot;</td><td>&quot;669.671.7571&quot;</td></tr><tr><td>50</td><td>&quot;Donald Johnson&quot;</td><td>&quot;(282)973-8109x024&quot;</td></tr></tbody></table></div>"
      ],
      "text/plain": [
       "shape: (25, 3)\n",
       "┌─────┬────────────────────┬──────────────────────┐\n",
       "│ id  ┆ name               ┆ phone                │\n",
       "│ --- ┆ ---                ┆ ---                  │\n",
       "│ i64 ┆ str                ┆ str                  │\n",
       "╞═════╪════════════════════╪══════════════════════╡\n",
       "│ 14  ┆ David Murray       ┆ 902-780-8331x8359    │\n",
       "│ 12  ┆ Mr. Joseph Parrish ┆ 409-954-9495x85424   │\n",
       "│ 24  ┆ Erica Keller       ┆ 864.464.0633         │\n",
       "│ 20  ┆ Lindsay Meza       ┆ 466-888-0910x674     │\n",
       "│ 35  ┆ Patricia Simmons   ┆ (816)705-8827x9632   │\n",
       "│ …   ┆ …                  ┆ …                    │\n",
       "│ 24  ┆ Erica Keller       ┆ 864.464.0633         │\n",
       "│ 24  ┆ Erica Keller       ┆ 864.464.0633         │\n",
       "│ 10  ┆ Morgan Hensley     ┆ 001-741-524-3690x958 │\n",
       "│ 42  ┆ Tina Allen         ┆ 669.671.7571         │\n",
       "│ 50  ┆ Donald Johnson     ┆ (282)973-8109x024    │\n",
       "└─────┴────────────────────┴──────────────────────┘"
      ]
     },
     "execution_count": 12,
     "metadata": {},
     "output_type": "execute_result"
    }
   ],
   "source": [
    "df_res = df.sample(fraction=0.5, with_replacement=True)\n",
    "df_res"
   ]
  },
  {
   "cell_type": "code",
   "execution_count": 13,
   "id": "4f7ac079ef91f022",
   "metadata": {
    "ExecuteTime": {
     "end_time": "2024-08-04T23:58:01.890440Z",
     "start_time": "2024-08-04T23:58:01.882528Z"
    },
    "collapsed": false,
    "editable": true,
    "jupyter": {
     "outputs_hidden": false
    },
    "slideshow": {
     "slide_type": ""
    },
    "tags": []
   },
   "outputs": [
    {
     "data": {
      "text/plain": [
       "16"
      ]
     },
     "execution_count": 13,
     "metadata": {},
     "output_type": "execute_result"
    }
   ],
   "source": [
    "# most likely it won't be n_row / 2\n",
    "df_res.n_unique()"
   ]
  },
  {
   "cell_type": "markdown",
   "id": "8823a30ac67ada28",
   "metadata": {
    "collapsed": false,
    "editable": true,
    "jupyter": {
     "outputs_hidden": false
    },
    "slideshow": {
     "slide_type": ""
    },
    "tags": []
   },
   "source": [
    "## Select By Columns"
   ]
  },
  {
   "cell_type": "markdown",
   "id": "3e995b6db7b9952c",
   "metadata": {
    "collapsed": false,
    "editable": true,
    "jupyter": {
     "outputs_hidden": false
    },
    "slideshow": {
     "slide_type": ""
    },
    "tags": []
   },
   "source": [
    "### Select one Column"
   ]
  },
  {
   "cell_type": "code",
   "execution_count": 14,
   "id": "54b3bb3556df588b",
   "metadata": {
    "ExecuteTime": {
     "end_time": "2024-08-04T23:32:01.121059Z",
     "start_time": "2024-08-04T23:32:01.114247Z"
    },
    "collapsed": false,
    "editable": true,
    "jupyter": {
     "outputs_hidden": false
    },
    "slideshow": {
     "slide_type": ""
    },
    "tags": []
   },
   "outputs": [
    {
     "data": {
      "text/html": [
       "<div><style>\n",
       ".dataframe > thead > tr,\n",
       ".dataframe > tbody > tr {\n",
       "  text-align: right;\n",
       "  white-space: pre-wrap;\n",
       "}\n",
       "</style>\n",
       "<small>shape: (50, 1)</small><table border=\"1\" class=\"dataframe\"><thead><tr><th>name</th></tr><tr><td>str</td></tr></thead><tbody><tr><td>&quot;Maria Powell&quot;</td></tr><tr><td>&quot;Jacqueline Fletcher PhD&quot;</td></tr><tr><td>&quot;Mary Wilson&quot;</td></tr><tr><td>&quot;Kenneth Davis&quot;</td></tr><tr><td>&quot;Christopher Martin&quot;</td></tr><tr><td>&hellip;</td></tr><tr><td>&quot;William Keller&quot;</td></tr><tr><td>&quot;Vickie Perez&quot;</td></tr><tr><td>&quot;William Howard&quot;</td></tr><tr><td>&quot;Laura Nash&quot;</td></tr><tr><td>&quot;Donald Johnson&quot;</td></tr></tbody></table></div>"
      ],
      "text/plain": [
       "shape: (50, 1)\n",
       "┌─────────────────────────┐\n",
       "│ name                    │\n",
       "│ ---                     │\n",
       "│ str                     │\n",
       "╞═════════════════════════╡\n",
       "│ Maria Powell            │\n",
       "│ Jacqueline Fletcher PhD │\n",
       "│ Mary Wilson             │\n",
       "│ Kenneth Davis           │\n",
       "│ Christopher Martin      │\n",
       "│ …                       │\n",
       "│ William Keller          │\n",
       "│ Vickie Perez            │\n",
       "│ William Howard          │\n",
       "│ Laura Nash              │\n",
       "│ Donald Johnson          │\n",
       "└─────────────────────────┘"
      ]
     },
     "execution_count": 14,
     "metadata": {},
     "output_type": "execute_result"
    }
   ],
   "source": [
    "df.select(\"name\")"
   ]
  },
  {
   "cell_type": "markdown",
   "id": "efa4f4806490d437",
   "metadata": {
    "collapsed": false,
    "editable": true,
    "jupyter": {
     "outputs_hidden": false
    },
    "slideshow": {
     "slide_type": ""
    },
    "tags": []
   },
   "source": [
    "### Select multiple Column"
   ]
  },
  {
   "cell_type": "code",
   "execution_count": 15,
   "id": "47e4b74671ca9f3f",
   "metadata": {
    "ExecuteTime": {
     "end_time": "2024-08-04T23:33:43.217038Z",
     "start_time": "2024-08-04T23:33:43.213045Z"
    },
    "collapsed": false,
    "editable": true,
    "jupyter": {
     "outputs_hidden": false
    },
    "slideshow": {
     "slide_type": ""
    },
    "tags": []
   },
   "outputs": [
    {
     "data": {
      "text/html": [
       "<div><style>\n",
       ".dataframe > thead > tr,\n",
       ".dataframe > tbody > tr {\n",
       "  text-align: right;\n",
       "  white-space: pre-wrap;\n",
       "}\n",
       "</style>\n",
       "<small>shape: (50, 2)</small><table border=\"1\" class=\"dataframe\"><thead><tr><th>id</th><th>name</th></tr><tr><td>i64</td><td>str</td></tr></thead><tbody><tr><td>1</td><td>&quot;Maria Powell&quot;</td></tr><tr><td>2</td><td>&quot;Jacqueline Fletcher PhD&quot;</td></tr><tr><td>3</td><td>&quot;Mary Wilson&quot;</td></tr><tr><td>4</td><td>&quot;Kenneth Davis&quot;</td></tr><tr><td>5</td><td>&quot;Christopher Martin&quot;</td></tr><tr><td>&hellip;</td><td>&hellip;</td></tr><tr><td>46</td><td>&quot;William Keller&quot;</td></tr><tr><td>47</td><td>&quot;Vickie Perez&quot;</td></tr><tr><td>48</td><td>&quot;William Howard&quot;</td></tr><tr><td>49</td><td>&quot;Laura Nash&quot;</td></tr><tr><td>50</td><td>&quot;Donald Johnson&quot;</td></tr></tbody></table></div>"
      ],
      "text/plain": [
       "shape: (50, 2)\n",
       "┌─────┬─────────────────────────┐\n",
       "│ id  ┆ name                    │\n",
       "│ --- ┆ ---                     │\n",
       "│ i64 ┆ str                     │\n",
       "╞═════╪═════════════════════════╡\n",
       "│ 1   ┆ Maria Powell            │\n",
       "│ 2   ┆ Jacqueline Fletcher PhD │\n",
       "│ 3   ┆ Mary Wilson             │\n",
       "│ 4   ┆ Kenneth Davis           │\n",
       "│ 5   ┆ Christopher Martin      │\n",
       "│ …   ┆ …                       │\n",
       "│ 46  ┆ William Keller          │\n",
       "│ 47  ┆ Vickie Perez            │\n",
       "│ 48  ┆ William Howard          │\n",
       "│ 49  ┆ Laura Nash              │\n",
       "│ 50  ┆ Donald Johnson          │\n",
       "└─────┴─────────────────────────┘"
      ]
     },
     "execution_count": 15,
     "metadata": {},
     "output_type": "execute_result"
    }
   ],
   "source": [
    "df.select([\"id\", \"name\"])"
   ]
  },
  {
   "cell_type": "code",
   "execution_count": 16,
   "id": "7284f79e9722cfe7",
   "metadata": {
    "ExecuteTime": {
     "end_time": "2024-08-04T23:34:15.918340Z",
     "start_time": "2024-08-04T23:34:15.914385Z"
    },
    "collapsed": false,
    "editable": true,
    "jupyter": {
     "outputs_hidden": false
    },
    "slideshow": {
     "slide_type": ""
    },
    "tags": []
   },
   "outputs": [
    {
     "data": {
      "text/html": [
       "<div><style>\n",
       ".dataframe > thead > tr,\n",
       ".dataframe > tbody > tr {\n",
       "  text-align: right;\n",
       "  white-space: pre-wrap;\n",
       "}\n",
       "</style>\n",
       "<small>shape: (50, 2)</small><table border=\"1\" class=\"dataframe\"><thead><tr><th>id</th><th>name</th></tr><tr><td>i64</td><td>str</td></tr></thead><tbody><tr><td>1</td><td>&quot;Maria Powell&quot;</td></tr><tr><td>2</td><td>&quot;Jacqueline Fletcher PhD&quot;</td></tr><tr><td>3</td><td>&quot;Mary Wilson&quot;</td></tr><tr><td>4</td><td>&quot;Kenneth Davis&quot;</td></tr><tr><td>5</td><td>&quot;Christopher Martin&quot;</td></tr><tr><td>&hellip;</td><td>&hellip;</td></tr><tr><td>46</td><td>&quot;William Keller&quot;</td></tr><tr><td>47</td><td>&quot;Vickie Perez&quot;</td></tr><tr><td>48</td><td>&quot;William Howard&quot;</td></tr><tr><td>49</td><td>&quot;Laura Nash&quot;</td></tr><tr><td>50</td><td>&quot;Donald Johnson&quot;</td></tr></tbody></table></div>"
      ],
      "text/plain": [
       "shape: (50, 2)\n",
       "┌─────┬─────────────────────────┐\n",
       "│ id  ┆ name                    │\n",
       "│ --- ┆ ---                     │\n",
       "│ i64 ┆ str                     │\n",
       "╞═════╪═════════════════════════╡\n",
       "│ 1   ┆ Maria Powell            │\n",
       "│ 2   ┆ Jacqueline Fletcher PhD │\n",
       "│ 3   ┆ Mary Wilson             │\n",
       "│ 4   ┆ Kenneth Davis           │\n",
       "│ 5   ┆ Christopher Martin      │\n",
       "│ …   ┆ …                       │\n",
       "│ 46  ┆ William Keller          │\n",
       "│ 47  ┆ Vickie Perez            │\n",
       "│ 48  ┆ William Howard          │\n",
       "│ 49  ┆ Laura Nash              │\n",
       "│ 50  ┆ Donald Johnson          │\n",
       "└─────┴─────────────────────────┘"
      ]
     },
     "execution_count": 16,
     "metadata": {},
     "output_type": "execute_result"
    }
   ],
   "source": [
    "columns = list(df.schema)\n",
    "df.select(columns[:2])"
   ]
  },
  {
   "cell_type": "code",
   "execution_count": 17,
   "id": "b4fcec082acb9de9",
   "metadata": {
    "ExecuteTime": {
     "end_time": "2024-08-04T23:34:19.269989Z",
     "start_time": "2024-08-04T23:34:19.264569Z"
    },
    "collapsed": false,
    "editable": true,
    "jupyter": {
     "outputs_hidden": false
    },
    "slideshow": {
     "slide_type": ""
    },
    "tags": []
   },
   "outputs": [
    {
     "data": {
      "text/html": [
       "<div><style>\n",
       ".dataframe > thead > tr,\n",
       ".dataframe > tbody > tr {\n",
       "  text-align: right;\n",
       "  white-space: pre-wrap;\n",
       "}\n",
       "</style>\n",
       "<small>shape: (50, 2)</small><table border=\"1\" class=\"dataframe\"><thead><tr><th>name</th><th>phone</th></tr><tr><td>str</td><td>str</td></tr></thead><tbody><tr><td>&quot;Maria Powell&quot;</td><td>&quot;836.602.8286x06763&quot;</td></tr><tr><td>&quot;Jacqueline Fletcher PhD&quot;</td><td>&quot;+1-801-639-6835&quot;</td></tr><tr><td>&quot;Mary Wilson&quot;</td><td>&quot;(999)905-1935&quot;</td></tr><tr><td>&quot;Kenneth Davis&quot;</td><td>&quot;332-275-7129x0289&quot;</td></tr><tr><td>&quot;Christopher Martin&quot;</td><td>&quot;(792)727-8878x82819&quot;</td></tr><tr><td>&hellip;</td><td>&hellip;</td></tr><tr><td>&quot;William Keller&quot;</td><td>&quot;(695)744-1587x0883&quot;</td></tr><tr><td>&quot;Vickie Perez&quot;</td><td>&quot;+1-297-963-9194x6132&quot;</td></tr><tr><td>&quot;William Howard&quot;</td><td>&quot;630.391.0772x26252&quot;</td></tr><tr><td>&quot;Laura Nash&quot;</td><td>&quot;(495)680-1361x6763&quot;</td></tr><tr><td>&quot;Donald Johnson&quot;</td><td>&quot;(282)973-8109x024&quot;</td></tr></tbody></table></div>"
      ],
      "text/plain": [
       "shape: (50, 2)\n",
       "┌─────────────────────────┬──────────────────────┐\n",
       "│ name                    ┆ phone                │\n",
       "│ ---                     ┆ ---                  │\n",
       "│ str                     ┆ str                  │\n",
       "╞═════════════════════════╪══════════════════════╡\n",
       "│ Maria Powell            ┆ 836.602.8286x06763   │\n",
       "│ Jacqueline Fletcher PhD ┆ +1-801-639-6835      │\n",
       "│ Mary Wilson             ┆ (999)905-1935        │\n",
       "│ Kenneth Davis           ┆ 332-275-7129x0289    │\n",
       "│ Christopher Martin      ┆ (792)727-8878x82819  │\n",
       "│ …                       ┆ …                    │\n",
       "│ William Keller          ┆ (695)744-1587x0883   │\n",
       "│ Vickie Perez            ┆ +1-297-963-9194x6132 │\n",
       "│ William Howard          ┆ 630.391.0772x26252   │\n",
       "│ Laura Nash              ┆ (495)680-1361x6763   │\n",
       "│ Donald Johnson          ┆ (282)973-8109x024    │\n",
       "└─────────────────────────┴──────────────────────┘"
      ]
     },
     "execution_count": 17,
     "metadata": {},
     "output_type": "execute_result"
    }
   ],
   "source": [
    "df.select(columns[-2:])"
   ]
  },
  {
   "cell_type": "markdown",
   "id": "718fc8aa1c199963",
   "metadata": {
    "collapsed": false,
    "editable": true,
    "jupyter": {
     "outputs_hidden": false
    },
    "slideshow": {
     "slide_type": ""
    },
    "tags": []
   },
   "source": [
    "## Select By Both Rows and Columns"
   ]
  },
  {
   "cell_type": "code",
   "execution_count": 18,
   "id": "a1e41ce111fbaf68",
   "metadata": {
    "ExecuteTime": {
     "end_time": "2024-08-04T23:36:48.835080Z",
     "start_time": "2024-08-04T23:36:48.832126Z"
    },
    "collapsed": false,
    "editable": true,
    "jupyter": {
     "outputs_hidden": false
    },
    "slideshow": {
     "slide_type": ""
    },
    "tags": []
   },
   "outputs": [
    {
     "data": {
      "text/html": [
       "<div><style>\n",
       ".dataframe > thead > tr,\n",
       ".dataframe > tbody > tr {\n",
       "  text-align: right;\n",
       "  white-space: pre-wrap;\n",
       "}\n",
       "</style>\n",
       "<small>shape: (3, 2)</small><table border=\"1\" class=\"dataframe\"><thead><tr><th>id</th><th>name</th></tr><tr><td>i64</td><td>str</td></tr></thead><tbody><tr><td>2</td><td>&quot;Jacqueline Fletcher PhD&quot;</td></tr><tr><td>4</td><td>&quot;Kenneth Davis&quot;</td></tr><tr><td>6</td><td>&quot;Patricia Brown&quot;</td></tr></tbody></table></div>"
      ],
      "text/plain": [
       "shape: (3, 2)\n",
       "┌─────┬─────────────────────────┐\n",
       "│ id  ┆ name                    │\n",
       "│ --- ┆ ---                     │\n",
       "│ i64 ┆ str                     │\n",
       "╞═════╪═════════════════════════╡\n",
       "│ 2   ┆ Jacqueline Fletcher PhD │\n",
       "│ 4   ┆ Kenneth Davis           │\n",
       "│ 6   ┆ Patricia Brown          │\n",
       "└─────┴─────────────────────────┘"
      ]
     },
     "execution_count": 18,
     "metadata": {},
     "output_type": "execute_result"
    }
   ],
   "source": [
    "df.select([\"id\", \"name\"])[[1, 3, 5]]"
   ]
  },
  {
   "cell_type": "markdown",
   "id": "ed788547944c1e86",
   "metadata": {
    "collapsed": false,
    "editable": true,
    "jupyter": {
     "outputs_hidden": false
    },
    "slideshow": {
     "slide_type": ""
    },
    "tags": []
   },
   "source": [
    "### Select a Specific Cell"
   ]
  },
  {
   "cell_type": "code",
   "execution_count": 19,
   "id": "cacae8fd0404f96c",
   "metadata": {
    "ExecuteTime": {
     "end_time": "2024-08-04T23:38:23.369341Z",
     "start_time": "2024-08-04T23:38:23.363696Z"
    },
    "collapsed": false,
    "editable": true,
    "jupyter": {
     "outputs_hidden": false
    },
    "slideshow": {
     "slide_type": ""
    },
    "tags": []
   },
   "outputs": [
    {
     "data": {
      "text/plain": [
       "1"
      ]
     },
     "execution_count": 19,
     "metadata": {},
     "output_type": "execute_result"
    }
   ],
   "source": [
    "df.item(row=0, column=\"id\")"
   ]
  },
  {
   "cell_type": "code",
   "execution_count": 20,
   "id": "48fa4a758adc877",
   "metadata": {
    "ExecuteTime": {
     "end_time": "2024-08-04T23:38:28.350073Z",
     "start_time": "2024-08-04T23:38:28.342713Z"
    },
    "collapsed": false,
    "editable": true,
    "jupyter": {
     "outputs_hidden": false
    },
    "slideshow": {
     "slide_type": ""
    },
    "tags": []
   },
   "outputs": [
    {
     "data": {
      "text/plain": [
       "1"
      ]
     },
     "execution_count": 20,
     "metadata": {},
     "output_type": "execute_result"
    }
   ],
   "source": [
    "df.item(row=0, column=0)"
   ]
  },
  {
   "cell_type": "markdown",
   "id": "3d6a7a4a3652bfef",
   "metadata": {
    "collapsed": false,
    "editable": true,
    "jupyter": {
     "outputs_hidden": false
    },
    "slideshow": {
     "slide_type": ""
    },
    "tags": []
   },
   "source": [
    "### Iterate Over Columns"
   ]
  },
  {
   "cell_type": "code",
   "execution_count": 21,
   "id": "376d96f7b47dc110",
   "metadata": {
    "ExecuteTime": {
     "end_time": "2024-08-04T23:39:43.493560Z",
     "start_time": "2024-08-04T23:39:43.491174Z"
    },
    "collapsed": false,
    "editable": true,
    "jupyter": {
     "outputs_hidden": false
    },
    "slideshow": {
     "slide_type": ""
    },
    "tags": []
   },
   "outputs": [
    {
     "name": "stdout",
     "output_type": "stream",
     "text": [
      "--- series.name = 'id'\n",
      "type(series) = <class 'polars.series.series.Series'>\n",
      "series = shape: (50,)\n",
      "Series: 'id' [i64]\n",
      "[\n",
      "\t1\n",
      "\t2\n",
      "\t3\n",
      "\t4\n",
      "\t5\n",
      "\t…\n",
      "\t46\n",
      "\t47\n",
      "\t48\n",
      "\t49\n",
      "\t50\n",
      "]\n",
      "--- series.name = 'name'\n",
      "type(series) = <class 'polars.series.series.Series'>\n",
      "series = shape: (50,)\n",
      "Series: 'name' [str]\n",
      "[\n",
      "\t\"Maria Powell\"\n",
      "\t\"Jacqueline Fletcher PhD\"\n",
      "\t\"Mary Wilson\"\n",
      "\t\"Kenneth Davis\"\n",
      "\t\"Christopher Martin\"\n",
      "\t…\n",
      "\t\"William Keller\"\n",
      "\t\"Vickie Perez\"\n",
      "\t\"William Howard\"\n",
      "\t\"Laura Nash\"\n",
      "\t\"Donald Johnson\"\n",
      "]\n",
      "--- series.name = 'phone'\n",
      "type(series) = <class 'polars.series.series.Series'>\n",
      "series = shape: (50,)\n",
      "Series: 'phone' [str]\n",
      "[\n",
      "\t\"836.602.8286x06763\"\n",
      "\t\"+1-801-639-6835\"\n",
      "\t\"(999)905-1935\"\n",
      "\t\"332-275-7129x0289\"\n",
      "\t\"(792)727-8878x82819\"\n",
      "\t…\n",
      "\t\"(695)744-1587x0883\"\n",
      "\t\"+1-297-963-9194x6132\"\n",
      "\t\"630.391.0772x26252\"\n",
      "\t\"(495)680-1361x6763\"\n",
      "\t\"(282)973-8109x024\"\n",
      "]\n"
     ]
    }
   ],
   "source": [
    "for series in df.iter_columns():\n",
    "    print(f\"--- {series.name = }\")\n",
    "    print(f\"{type(series) = }\")\n",
    "    print(f\"{series = }\")"
   ]
  },
  {
   "cell_type": "markdown",
   "id": "21c97140b67877f3",
   "metadata": {
    "collapsed": false,
    "editable": true,
    "jupyter": {
     "outputs_hidden": false
    },
    "slideshow": {
     "slide_type": ""
    },
    "tags": []
   },
   "source": [
    "### Iterate Over Rows\n"
   ]
  },
  {
   "cell_type": "code",
   "execution_count": 22,
   "id": "f21f38ed14009f97",
   "metadata": {
    "ExecuteTime": {
     "end_time": "2024-08-04T23:40:52.857174Z",
     "start_time": "2024-08-04T23:40:52.854696Z"
    },
    "collapsed": false,
    "editable": true,
    "jupyter": {
     "outputs_hidden": false
    },
    "slideshow": {
     "slide_type": ""
    },
    "tags": []
   },
   "outputs": [
    {
     "name": "stdout",
     "output_type": "stream",
     "text": [
      "--- row[0] = 1\n",
      "type(row) = <class 'tuple'>\n",
      "row = (1, 'Maria Powell', '836.602.8286x06763')\n",
      "--- row[0] = 2\n",
      "type(row) = <class 'tuple'>\n",
      "row = (2, 'Jacqueline Fletcher PhD', '+1-801-639-6835')\n",
      "--- row[0] = 3\n",
      "type(row) = <class 'tuple'>\n",
      "row = (3, 'Mary Wilson', '(999)905-1935')\n",
      "--- row[0] = 4\n",
      "type(row) = <class 'tuple'>\n",
      "row = (4, 'Kenneth Davis', '332-275-7129x0289')\n",
      "--- row[0] = 5\n",
      "type(row) = <class 'tuple'>\n",
      "row = (5, 'Christopher Martin', '(792)727-8878x82819')\n",
      "--- row[0] = 6\n",
      "type(row) = <class 'tuple'>\n",
      "row = (6, 'Patricia Brown', '363-719-4855x7138')\n",
      "--- row[0] = 7\n",
      "type(row) = <class 'tuple'>\n",
      "row = (7, 'Richard Hodges', '(831)255-4407x13496')\n",
      "--- row[0] = 8\n",
      "type(row) = <class 'tuple'>\n",
      "row = (8, 'Steve Green', '671-700-3796x127')\n",
      "--- row[0] = 9\n",
      "type(row) = <class 'tuple'>\n",
      "row = (9, 'Luis Smith', '844.513.7054x4915')\n",
      "--- row[0] = 10\n",
      "type(row) = <class 'tuple'>\n",
      "row = (10, 'Morgan Hensley', '001-741-524-3690x958')\n",
      "--- row[0] = 11\n",
      "type(row) = <class 'tuple'>\n",
      "row = (11, 'Tanya Peck', '819-449-4406')\n",
      "--- row[0] = 12\n",
      "type(row) = <class 'tuple'>\n",
      "row = (12, 'Mr. Joseph Parrish', '409-954-9495x85424')\n",
      "--- row[0] = 13\n",
      "type(row) = <class 'tuple'>\n",
      "row = (13, 'Juan Frazier', '282.948.5514x337')\n",
      "--- row[0] = 14\n",
      "type(row) = <class 'tuple'>\n",
      "row = (14, 'David Murray', '902-780-8331x8359')\n",
      "--- row[0] = 15\n",
      "type(row) = <class 'tuple'>\n",
      "row = (15, 'Ryan Campbell', '7713098760')\n",
      "--- row[0] = 16\n",
      "type(row) = <class 'tuple'>\n",
      "row = (16, 'Debra Harris', '984.923.3706')\n",
      "--- row[0] = 17\n",
      "type(row) = <class 'tuple'>\n",
      "row = (17, 'Andrew Lee', '754-587-2094')\n",
      "--- row[0] = 18\n",
      "type(row) = <class 'tuple'>\n",
      "row = (18, 'James Miller', '369.515.1819x923')\n",
      "--- row[0] = 19\n",
      "type(row) = <class 'tuple'>\n",
      "row = (19, 'Emma Gentry', '001-323-490-9924x59516')\n",
      "--- row[0] = 20\n",
      "type(row) = <class 'tuple'>\n",
      "row = (20, 'Lindsay Meza', '466-888-0910x674')\n",
      "--- row[0] = 21\n",
      "type(row) = <class 'tuple'>\n",
      "row = (21, 'Daniel Walker MD', '+1-832-758-6101x9324')\n",
      "--- row[0] = 22\n",
      "type(row) = <class 'tuple'>\n",
      "row = (22, 'Jon Howard', '666-699-5756x1435')\n",
      "--- row[0] = 23\n",
      "type(row) = <class 'tuple'>\n",
      "row = (23, 'Shannon Johnson', '8148458256')\n",
      "--- row[0] = 24\n",
      "type(row) = <class 'tuple'>\n",
      "row = (24, 'Erica Keller', '864.464.0633')\n",
      "--- row[0] = 25\n",
      "type(row) = <class 'tuple'>\n",
      "row = (25, 'Betty Perez', '869.484.7373')\n",
      "--- row[0] = 26\n",
      "type(row) = <class 'tuple'>\n",
      "row = (26, 'John Wiley Jr.', '882-603-1099x880')\n",
      "--- row[0] = 27\n",
      "type(row) = <class 'tuple'>\n",
      "row = (27, 'Samantha Gutierrez', '(688)944-5982x705')\n",
      "--- row[0] = 28\n",
      "type(row) = <class 'tuple'>\n",
      "row = (28, 'Matthew Tucker', '+1-577-433-9373x084')\n",
      "--- row[0] = 29\n",
      "type(row) = <class 'tuple'>\n",
      "row = (29, 'Jennifer Black', '(832)819-8567')\n",
      "--- row[0] = 30\n",
      "type(row) = <class 'tuple'>\n",
      "row = (30, 'Sarah Pittman', '6854545835')\n",
      "--- row[0] = 31\n",
      "type(row) = <class 'tuple'>\n",
      "row = (31, 'Dennis Vaughan', '6862893476')\n",
      "--- row[0] = 32\n",
      "type(row) = <class 'tuple'>\n",
      "row = (32, 'Kevin Martinez', '(419)553-1369')\n",
      "--- row[0] = 33\n",
      "type(row) = <class 'tuple'>\n",
      "row = (33, 'Victor Norman', '303-258-9000x83809')\n",
      "--- row[0] = 34\n",
      "type(row) = <class 'tuple'>\n",
      "row = (34, 'Daniel Murray', '675-839-2466')\n",
      "--- row[0] = 35\n",
      "type(row) = <class 'tuple'>\n",
      "row = (35, 'Patricia Simmons', '(816)705-8827x9632')\n",
      "--- row[0] = 36\n",
      "type(row) = <class 'tuple'>\n",
      "row = (36, 'Emma Gomez', '653.227.9975')\n",
      "--- row[0] = 37\n",
      "type(row) = <class 'tuple'>\n",
      "row = (37, 'Charles Robinson', '+1-687-438-5234')\n",
      "--- row[0] = 38\n",
      "type(row) = <class 'tuple'>\n",
      "row = (38, 'Anthony Smith', '+1-323-237-2932')\n",
      "--- row[0] = 39\n",
      "type(row) = <class 'tuple'>\n",
      "row = (39, 'Steven Bennett', '6106982086')\n",
      "--- row[0] = 40\n",
      "type(row) = <class 'tuple'>\n",
      "row = (40, 'Francisco Gonzalez', '001-427-821-4543x436')\n",
      "--- row[0] = 41\n",
      "type(row) = <class 'tuple'>\n",
      "row = (41, 'Stephanie Shaffer', '001-999-779-0085x959')\n",
      "--- row[0] = 42\n",
      "type(row) = <class 'tuple'>\n",
      "row = (42, 'Tina Allen', '669.671.7571')\n",
      "--- row[0] = 43\n",
      "type(row) = <class 'tuple'>\n",
      "row = (43, 'Matthew Harrell', '678.831.5948')\n",
      "--- row[0] = 44\n",
      "type(row) = <class 'tuple'>\n",
      "row = (44, 'John Hill', '355.476.5055')\n",
      "--- row[0] = 45\n",
      "type(row) = <class 'tuple'>\n",
      "row = (45, 'James Shea', '+1-903-530-8220x480')\n",
      "--- row[0] = 46\n",
      "type(row) = <class 'tuple'>\n",
      "row = (46, 'William Keller', '(695)744-1587x0883')\n",
      "--- row[0] = 47\n",
      "type(row) = <class 'tuple'>\n",
      "row = (47, 'Vickie Perez', '+1-297-963-9194x6132')\n",
      "--- row[0] = 48\n",
      "type(row) = <class 'tuple'>\n",
      "row = (48, 'William Howard', '630.391.0772x26252')\n",
      "--- row[0] = 49\n",
      "type(row) = <class 'tuple'>\n",
      "row = (49, 'Laura Nash', '(495)680-1361x6763')\n",
      "--- row[0] = 50\n",
      "type(row) = <class 'tuple'>\n",
      "row = (50, 'Donald Johnson', '(282)973-8109x024')\n"
     ]
    }
   ],
   "source": [
    "for row in df.iter_rows():\n",
    "    print(f\"--- {row[0] = }\")\n",
    "    print(f\"{type(row) = }\")\n",
    "    print(f\"{row = }\")"
   ]
  },
  {
   "cell_type": "markdown",
   "id": "fd6ccf5ed1aac673",
   "metadata": {
    "collapsed": false,
    "editable": true,
    "jupyter": {
     "outputs_hidden": false
    },
    "slideshow": {
     "slide_type": ""
    },
    "tags": []
   },
   "source": [
    "### Iterate Over Slices\n",
    "\n",
    "Sub DataFrames with a fewer rows"
   ]
  },
  {
   "cell_type": "code",
   "execution_count": 23,
   "id": "2cdba305f58308de",
   "metadata": {
    "ExecuteTime": {
     "end_time": "2024-08-04T23:44:09.632177Z",
     "start_time": "2024-08-04T23:44:09.627703Z"
    },
    "collapsed": false,
    "editable": true,
    "jupyter": {
     "outputs_hidden": false
    },
    "slideshow": {
     "slide_type": ""
    },
    "tags": []
   },
   "outputs": [
    {
     "name": "stdout",
     "output_type": "stream",
     "text": [
      "--- ith_df = 1\n",
      "shape: (10, 3)\n",
      "┌─────┬─────────────────────────┬──────────────────────┐\n",
      "│ id  ┆ name                    ┆ phone                │\n",
      "│ --- ┆ ---                     ┆ ---                  │\n",
      "│ i64 ┆ str                     ┆ str                  │\n",
      "╞═════╪═════════════════════════╪══════════════════════╡\n",
      "│ 1   ┆ Maria Powell            ┆ 836.602.8286x06763   │\n",
      "│ 2   ┆ Jacqueline Fletcher PhD ┆ +1-801-639-6835      │\n",
      "│ 3   ┆ Mary Wilson             ┆ (999)905-1935        │\n",
      "│ 4   ┆ Kenneth Davis           ┆ 332-275-7129x0289    │\n",
      "│ 5   ┆ Christopher Martin      ┆ (792)727-8878x82819  │\n",
      "│ 6   ┆ Patricia Brown          ┆ 363-719-4855x7138    │\n",
      "│ 7   ┆ Richard Hodges          ┆ (831)255-4407x13496  │\n",
      "│ 8   ┆ Steve Green             ┆ 671-700-3796x127     │\n",
      "│ 9   ┆ Luis Smith              ┆ 844.513.7054x4915    │\n",
      "│ 10  ┆ Morgan Hensley          ┆ 001-741-524-3690x958 │\n",
      "└─────┴─────────────────────────┴──────────────────────┘\n",
      "--- ith_df = 2\n",
      "shape: (10, 3)\n",
      "┌─────┬────────────────────┬────────────────────────┐\n",
      "│ id  ┆ name               ┆ phone                  │\n",
      "│ --- ┆ ---                ┆ ---                    │\n",
      "│ i64 ┆ str                ┆ str                    │\n",
      "╞═════╪════════════════════╪════════════════════════╡\n",
      "│ 11  ┆ Tanya Peck         ┆ 819-449-4406           │\n",
      "│ 12  ┆ Mr. Joseph Parrish ┆ 409-954-9495x85424     │\n",
      "│ 13  ┆ Juan Frazier       ┆ 282.948.5514x337       │\n",
      "│ 14  ┆ David Murray       ┆ 902-780-8331x8359      │\n",
      "│ 15  ┆ Ryan Campbell      ┆ 7713098760             │\n",
      "│ 16  ┆ Debra Harris       ┆ 984.923.3706           │\n",
      "│ 17  ┆ Andrew Lee         ┆ 754-587-2094           │\n",
      "│ 18  ┆ James Miller       ┆ 369.515.1819x923       │\n",
      "│ 19  ┆ Emma Gentry        ┆ 001-323-490-9924x59516 │\n",
      "│ 20  ┆ Lindsay Meza       ┆ 466-888-0910x674       │\n",
      "└─────┴────────────────────┴────────────────────────┘\n",
      "--- ith_df = 3\n",
      "shape: (10, 3)\n",
      "┌─────┬────────────────────┬──────────────────────┐\n",
      "│ id  ┆ name               ┆ phone                │\n",
      "│ --- ┆ ---                ┆ ---                  │\n",
      "│ i64 ┆ str                ┆ str                  │\n",
      "╞═════╪════════════════════╪══════════════════════╡\n",
      "│ 21  ┆ Daniel Walker MD   ┆ +1-832-758-6101x9324 │\n",
      "│ 22  ┆ Jon Howard         ┆ 666-699-5756x1435    │\n",
      "│ 23  ┆ Shannon Johnson    ┆ 8148458256           │\n",
      "│ 24  ┆ Erica Keller       ┆ 864.464.0633         │\n",
      "│ 25  ┆ Betty Perez        ┆ 869.484.7373         │\n",
      "│ 26  ┆ John Wiley Jr.     ┆ 882-603-1099x880     │\n",
      "│ 27  ┆ Samantha Gutierrez ┆ (688)944-5982x705    │\n",
      "│ 28  ┆ Matthew Tucker     ┆ +1-577-433-9373x084  │\n",
      "│ 29  ┆ Jennifer Black     ┆ (832)819-8567        │\n",
      "│ 30  ┆ Sarah Pittman      ┆ 6854545835           │\n",
      "└─────┴────────────────────┴──────────────────────┘\n",
      "--- ith_df = 4\n",
      "shape: (10, 3)\n",
      "┌─────┬────────────────────┬──────────────────────┐\n",
      "│ id  ┆ name               ┆ phone                │\n",
      "│ --- ┆ ---                ┆ ---                  │\n",
      "│ i64 ┆ str                ┆ str                  │\n",
      "╞═════╪════════════════════╪══════════════════════╡\n",
      "│ 31  ┆ Dennis Vaughan     ┆ 6862893476           │\n",
      "│ 32  ┆ Kevin Martinez     ┆ (419)553-1369        │\n",
      "│ 33  ┆ Victor Norman      ┆ 303-258-9000x83809   │\n",
      "│ 34  ┆ Daniel Murray      ┆ 675-839-2466         │\n",
      "│ 35  ┆ Patricia Simmons   ┆ (816)705-8827x9632   │\n",
      "│ 36  ┆ Emma Gomez         ┆ 653.227.9975         │\n",
      "│ 37  ┆ Charles Robinson   ┆ +1-687-438-5234      │\n",
      "│ 38  ┆ Anthony Smith      ┆ +1-323-237-2932      │\n",
      "│ 39  ┆ Steven Bennett     ┆ 6106982086           │\n",
      "│ 40  ┆ Francisco Gonzalez ┆ 001-427-821-4543x436 │\n",
      "└─────┴────────────────────┴──────────────────────┘\n",
      "--- ith_df = 5\n",
      "shape: (10, 3)\n",
      "┌─────┬───────────────────┬──────────────────────┐\n",
      "│ id  ┆ name              ┆ phone                │\n",
      "│ --- ┆ ---               ┆ ---                  │\n",
      "│ i64 ┆ str               ┆ str                  │\n",
      "╞═════╪═══════════════════╪══════════════════════╡\n",
      "│ 41  ┆ Stephanie Shaffer ┆ 001-999-779-0085x959 │\n",
      "│ 42  ┆ Tina Allen        ┆ 669.671.7571         │\n",
      "│ 43  ┆ Matthew Harrell   ┆ 678.831.5948         │\n",
      "│ 44  ┆ John Hill         ┆ 355.476.5055         │\n",
      "│ 45  ┆ James Shea        ┆ +1-903-530-8220x480  │\n",
      "│ 46  ┆ William Keller    ┆ (695)744-1587x0883   │\n",
      "│ 47  ┆ Vickie Perez      ┆ +1-297-963-9194x6132 │\n",
      "│ 48  ┆ William Howard    ┆ 630.391.0772x26252   │\n",
      "│ 49  ┆ Laura Nash        ┆ (495)680-1361x6763   │\n",
      "│ 50  ┆ Donald Johnson    ┆ (282)973-8109x024    │\n",
      "└─────┴───────────────────┴──────────────────────┘\n"
     ]
    }
   ],
   "source": [
    "# When total number of row is multiplier of ``n_rows`` \n",
    "for ith_df, sub_df in enumerate(df.iter_slices(n_rows=n_row // 5), start=1):\n",
    "    print(f\"--- {ith_df = }\")\n",
    "    print(sub_df)"
   ]
  },
  {
   "cell_type": "code",
   "execution_count": 24,
   "id": "d72eb5c83754cae6",
   "metadata": {
    "ExecuteTime": {
     "end_time": "2024-08-04T23:44:35.547804Z",
     "start_time": "2024-08-04T23:44:35.542457Z"
    },
    "collapsed": false,
    "editable": true,
    "jupyter": {
     "outputs_hidden": false
    },
    "slideshow": {
     "slide_type": ""
    },
    "tags": []
   },
   "outputs": [
    {
     "name": "stdout",
     "output_type": "stream",
     "text": [
      "--- ith_df = 1\n",
      "shape: (13, 3)\n",
      "┌─────┬─────────────────────────┬──────────────────────┐\n",
      "│ id  ┆ name                    ┆ phone                │\n",
      "│ --- ┆ ---                     ┆ ---                  │\n",
      "│ i64 ┆ str                     ┆ str                  │\n",
      "╞═════╪═════════════════════════╪══════════════════════╡\n",
      "│ 1   ┆ Maria Powell            ┆ 836.602.8286x06763   │\n",
      "│ 2   ┆ Jacqueline Fletcher PhD ┆ +1-801-639-6835      │\n",
      "│ 3   ┆ Mary Wilson             ┆ (999)905-1935        │\n",
      "│ 4   ┆ Kenneth Davis           ┆ 332-275-7129x0289    │\n",
      "│ 5   ┆ Christopher Martin      ┆ (792)727-8878x82819  │\n",
      "│ …   ┆ …                       ┆ …                    │\n",
      "│ 9   ┆ Luis Smith              ┆ 844.513.7054x4915    │\n",
      "│ 10  ┆ Morgan Hensley          ┆ 001-741-524-3690x958 │\n",
      "│ 11  ┆ Tanya Peck              ┆ 819-449-4406         │\n",
      "│ 12  ┆ Mr. Joseph Parrish      ┆ 409-954-9495x85424   │\n",
      "│ 13  ┆ Juan Frazier            ┆ 282.948.5514x337     │\n",
      "└─────┴─────────────────────────┴──────────────────────┘\n",
      "--- ith_df = 2\n",
      "shape: (13, 3)\n",
      "┌─────┬─────────────────┬───────────────────┐\n",
      "│ id  ┆ name            ┆ phone             │\n",
      "│ --- ┆ ---             ┆ ---               │\n",
      "│ i64 ┆ str             ┆ str               │\n",
      "╞═════╪═════════════════╪═══════════════════╡\n",
      "│ 14  ┆ David Murray    ┆ 902-780-8331x8359 │\n",
      "│ 15  ┆ Ryan Campbell   ┆ 7713098760        │\n",
      "│ 16  ┆ Debra Harris    ┆ 984.923.3706      │\n",
      "│ 17  ┆ Andrew Lee      ┆ 754-587-2094      │\n",
      "│ 18  ┆ James Miller    ┆ 369.515.1819x923  │\n",
      "│ …   ┆ …               ┆ …                 │\n",
      "│ 22  ┆ Jon Howard      ┆ 666-699-5756x1435 │\n",
      "│ 23  ┆ Shannon Johnson ┆ 8148458256        │\n",
      "│ 24  ┆ Erica Keller    ┆ 864.464.0633      │\n",
      "│ 25  ┆ Betty Perez     ┆ 869.484.7373      │\n",
      "│ 26  ┆ John Wiley Jr.  ┆ 882-603-1099x880  │\n",
      "└─────┴─────────────────┴───────────────────┘\n",
      "--- ith_df = 3\n",
      "shape: (13, 3)\n",
      "┌─────┬────────────────────┬─────────────────────┐\n",
      "│ id  ┆ name               ┆ phone               │\n",
      "│ --- ┆ ---                ┆ ---                 │\n",
      "│ i64 ┆ str                ┆ str                 │\n",
      "╞═════╪════════════════════╪═════════════════════╡\n",
      "│ 27  ┆ Samantha Gutierrez ┆ (688)944-5982x705   │\n",
      "│ 28  ┆ Matthew Tucker     ┆ +1-577-433-9373x084 │\n",
      "│ 29  ┆ Jennifer Black     ┆ (832)819-8567       │\n",
      "│ 30  ┆ Sarah Pittman      ┆ 6854545835          │\n",
      "│ 31  ┆ Dennis Vaughan     ┆ 6862893476          │\n",
      "│ …   ┆ …                  ┆ …                   │\n",
      "│ 35  ┆ Patricia Simmons   ┆ (816)705-8827x9632  │\n",
      "│ 36  ┆ Emma Gomez         ┆ 653.227.9975        │\n",
      "│ 37  ┆ Charles Robinson   ┆ +1-687-438-5234     │\n",
      "│ 38  ┆ Anthony Smith      ┆ +1-323-237-2932     │\n",
      "│ 39  ┆ Steven Bennett     ┆ 6106982086          │\n",
      "└─────┴────────────────────┴─────────────────────┘\n",
      "--- ith_df = 4\n",
      "shape: (11, 3)\n",
      "┌─────┬────────────────────┬──────────────────────┐\n",
      "│ id  ┆ name               ┆ phone                │\n",
      "│ --- ┆ ---                ┆ ---                  │\n",
      "│ i64 ┆ str                ┆ str                  │\n",
      "╞═════╪════════════════════╪══════════════════════╡\n",
      "│ 40  ┆ Francisco Gonzalez ┆ 001-427-821-4543x436 │\n",
      "│ 41  ┆ Stephanie Shaffer  ┆ 001-999-779-0085x959 │\n",
      "│ 42  ┆ Tina Allen         ┆ 669.671.7571         │\n",
      "│ 43  ┆ Matthew Harrell    ┆ 678.831.5948         │\n",
      "│ 44  ┆ John Hill          ┆ 355.476.5055         │\n",
      "│ …   ┆ …                  ┆ …                    │\n",
      "│ 46  ┆ William Keller     ┆ (695)744-1587x0883   │\n",
      "│ 47  ┆ Vickie Perez       ┆ +1-297-963-9194x6132 │\n",
      "│ 48  ┆ William Howard     ┆ 630.391.0772x26252   │\n",
      "│ 49  ┆ Laura Nash         ┆ (495)680-1361x6763   │\n",
      "│ 50  ┆ Donald Johnson     ┆ (282)973-8109x024    │\n",
      "└─────┴────────────────────┴──────────────────────┘\n"
     ]
    }
   ],
   "source": [
    "# When total number of row is NOT multiplier of ``n_rows``\n",
    "# It's ok that the last sub dataframe doesn't have enough rows\n",
    "for ith_df, sub_df in enumerate(df.iter_slices(n_rows=13), start=1):\n",
    "    print(f\"--- {ith_df = }\")\n",
    "    print(sub_df)"
   ]
  },
  {
   "cell_type": "markdown",
   "id": "8b503ca8acc405b0",
   "metadata": {
    "collapsed": false,
    "editable": true,
    "jupyter": {
     "outputs_hidden": false
    },
    "slideshow": {
     "slide_type": ""
    },
    "tags": []
   },
   "source": [
    "## Concatenate\n",
    "\n",
    "### Concatenate Vertically (More rows, same columns)\n",
    "\n",
    "``DataFrame.extend`` will edit the first DataFrame **in-place**!"
   ]
  },
  {
   "cell_type": "code",
   "execution_count": 25,
   "id": "869a9907be4ea117",
   "metadata": {
    "ExecuteTime": {
     "end_time": "2024-08-04T23:48:35.669867Z",
     "start_time": "2024-08-04T23:48:35.664730Z"
    },
    "collapsed": false,
    "editable": true,
    "jupyter": {
     "outputs_hidden": false
    },
    "slideshow": {
     "slide_type": ""
    },
    "tags": []
   },
   "outputs": [
    {
     "data": {
      "text/html": [
       "<div><style>\n",
       ".dataframe > thead > tr,\n",
       ".dataframe > tbody > tr {\n",
       "  text-align: right;\n",
       "  white-space: pre-wrap;\n",
       "}\n",
       "</style>\n",
       "<small>shape: (6, 1)</small><table border=\"1\" class=\"dataframe\"><thead><tr><th>id</th></tr><tr><td>i64</td></tr></thead><tbody><tr><td>1</td></tr><tr><td>2</td></tr><tr><td>3</td></tr><tr><td>4</td></tr><tr><td>5</td></tr><tr><td>6</td></tr></tbody></table></div>"
      ],
      "text/plain": [
       "shape: (6, 1)\n",
       "┌─────┐\n",
       "│ id  │\n",
       "│ --- │\n",
       "│ i64 │\n",
       "╞═════╡\n",
       "│ 1   │\n",
       "│ 2   │\n",
       "│ 3   │\n",
       "│ 4   │\n",
       "│ 5   │\n",
       "│ 6   │\n",
       "└─────┘"
      ]
     },
     "execution_count": 25,
     "metadata": {},
     "output_type": "execute_result"
    }
   ],
   "source": [
    "df1 = pl.DataFrame({\"id\": [1, 2, 3]})\n",
    "df2 = pl.DataFrame({\"id\": [4, 5, 6]})\n",
    "df1.extend(df2)"
   ]
  },
  {
   "cell_type": "code",
   "execution_count": 26,
   "id": "fc9f4de60a349acf",
   "metadata": {
    "ExecuteTime": {
     "end_time": "2024-08-04T23:48:35.959475Z",
     "start_time": "2024-08-04T23:48:35.956309Z"
    },
    "collapsed": false,
    "editable": true,
    "jupyter": {
     "outputs_hidden": false
    },
    "slideshow": {
     "slide_type": ""
    },
    "tags": []
   },
   "outputs": [
    {
     "data": {
      "text/html": [
       "<div><style>\n",
       ".dataframe > thead > tr,\n",
       ".dataframe > tbody > tr {\n",
       "  text-align: right;\n",
       "  white-space: pre-wrap;\n",
       "}\n",
       "</style>\n",
       "<small>shape: (6, 1)</small><table border=\"1\" class=\"dataframe\"><thead><tr><th>id</th></tr><tr><td>i64</td></tr></thead><tbody><tr><td>1</td></tr><tr><td>2</td></tr><tr><td>3</td></tr><tr><td>4</td></tr><tr><td>5</td></tr><tr><td>6</td></tr></tbody></table></div>"
      ],
      "text/plain": [
       "shape: (6, 1)\n",
       "┌─────┐\n",
       "│ id  │\n",
       "│ --- │\n",
       "│ i64 │\n",
       "╞═════╡\n",
       "│ 1   │\n",
       "│ 2   │\n",
       "│ 3   │\n",
       "│ 4   │\n",
       "│ 5   │\n",
       "│ 6   │\n",
       "└─────┘"
      ]
     },
     "execution_count": 26,
     "metadata": {},
     "output_type": "execute_result"
    }
   ],
   "source": [
    "df1"
   ]
  },
  {
   "cell_type": "markdown",
   "id": "a02720230b0432ad",
   "metadata": {
    "collapsed": false,
    "editable": true,
    "jupyter": {
     "outputs_hidden": false
    },
    "slideshow": {
     "slide_type": ""
    },
    "tags": []
   },
   "source": [
    "``DataFrame.vstack`` **DOES NOT** edit the first DataFrame **in-place**!"
   ]
  },
  {
   "cell_type": "code",
   "execution_count": 27,
   "id": "e3f77461b354ac0a",
   "metadata": {
    "ExecuteTime": {
     "end_time": "2024-08-04T23:48:47.368447Z",
     "start_time": "2024-08-04T23:48:47.362605Z"
    },
    "collapsed": false,
    "editable": true,
    "jupyter": {
     "outputs_hidden": false
    },
    "slideshow": {
     "slide_type": ""
    },
    "tags": []
   },
   "outputs": [
    {
     "data": {
      "text/html": [
       "<div><style>\n",
       ".dataframe > thead > tr,\n",
       ".dataframe > tbody > tr {\n",
       "  text-align: right;\n",
       "  white-space: pre-wrap;\n",
       "}\n",
       "</style>\n",
       "<small>shape: (6, 1)</small><table border=\"1\" class=\"dataframe\"><thead><tr><th>id</th></tr><tr><td>i64</td></tr></thead><tbody><tr><td>1</td></tr><tr><td>2</td></tr><tr><td>3</td></tr><tr><td>4</td></tr><tr><td>5</td></tr><tr><td>6</td></tr></tbody></table></div>"
      ],
      "text/plain": [
       "shape: (6, 1)\n",
       "┌─────┐\n",
       "│ id  │\n",
       "│ --- │\n",
       "│ i64 │\n",
       "╞═════╡\n",
       "│ 1   │\n",
       "│ 2   │\n",
       "│ 3   │\n",
       "│ 4   │\n",
       "│ 5   │\n",
       "│ 6   │\n",
       "└─────┘"
      ]
     },
     "execution_count": 27,
     "metadata": {},
     "output_type": "execute_result"
    }
   ],
   "source": [
    "df1 = pl.DataFrame({\"id\": [1, 2, 3]})\n",
    "df2 = pl.DataFrame({\"id\": [4, 5, 6]})\n",
    "df1.vstack(df2)"
   ]
  },
  {
   "cell_type": "code",
   "execution_count": 28,
   "id": "f5765a374d2dd3bc",
   "metadata": {
    "ExecuteTime": {
     "end_time": "2024-08-04T23:48:48.439829Z",
     "start_time": "2024-08-04T23:48:48.436244Z"
    },
    "collapsed": false,
    "jupyter": {
     "outputs_hidden": false
    }
   },
   "outputs": [
    {
     "data": {
      "text/html": [
       "<div><style>\n",
       ".dataframe > thead > tr,\n",
       ".dataframe > tbody > tr {\n",
       "  text-align: right;\n",
       "  white-space: pre-wrap;\n",
       "}\n",
       "</style>\n",
       "<small>shape: (3, 1)</small><table border=\"1\" class=\"dataframe\"><thead><tr><th>id</th></tr><tr><td>i64</td></tr></thead><tbody><tr><td>1</td></tr><tr><td>2</td></tr><tr><td>3</td></tr></tbody></table></div>"
      ],
      "text/plain": [
       "shape: (3, 1)\n",
       "┌─────┐\n",
       "│ id  │\n",
       "│ --- │\n",
       "│ i64 │\n",
       "╞═════╡\n",
       "│ 1   │\n",
       "│ 2   │\n",
       "│ 3   │\n",
       "└─────┘"
      ]
     },
     "execution_count": 28,
     "metadata": {},
     "output_type": "execute_result"
    }
   ],
   "source": [
    "df1"
   ]
  },
  {
   "cell_type": "code",
   "execution_count": 30,
   "id": "e34ae9ac47d27e8",
   "metadata": {
    "ExecuteTime": {
     "end_time": "2024-08-04T23:49:25.780557Z",
     "start_time": "2024-08-04T23:49:25.778224Z"
    },
    "collapsed": false,
    "jupyter": {
     "outputs_hidden": false
    }
   },
   "outputs": [
    {
     "name": "stdout",
     "output_type": "stream",
     "text": [
      "ShapeError('unable to append to a DataFrame of width 1 with a DataFrame of width 2')\n"
     ]
    }
   ],
   "source": [
    "# It won't work because the columns are different\n",
    "df1 = pl.DataFrame({\"id\": [1, 2, 3]})\n",
    "df2 = pl.DataFrame({\"id\": [4, 5, 6], \"name\": [\"d\", \"e\", \"f\"]})\n",
    "try:\n",
    "    df1.vstack(df2)\n",
    "except Exception as e:\n",
    "    print(repr(e))"
   ]
  },
  {
   "cell_type": "markdown",
   "id": "66db8f7cb31a1fd7",
   "metadata": {
    "collapsed": false,
    "jupyter": {
     "outputs_hidden": false
    }
   },
   "source": [
    "### Concatenate Horizontally (More columns, same rows)\n",
    "\n",
    "``DataFrame.hstack`` **DOES NOT** edit the first DataFrame **in-place**!"
   ]
  },
  {
   "cell_type": "code",
   "execution_count": 31,
   "id": "7bc895ad5b5f8f1d",
   "metadata": {
    "ExecuteTime": {
     "end_time": "2024-08-04T23:52:06.538274Z",
     "start_time": "2024-08-04T23:52:06.530638Z"
    },
    "collapsed": false,
    "jupyter": {
     "outputs_hidden": false
    }
   },
   "outputs": [
    {
     "data": {
      "text/html": [
       "<div><style>\n",
       ".dataframe > thead > tr,\n",
       ".dataframe > tbody > tr {\n",
       "  text-align: right;\n",
       "  white-space: pre-wrap;\n",
       "}\n",
       "</style>\n",
       "<small>shape: (3, 2)</small><table border=\"1\" class=\"dataframe\"><thead><tr><th>id</th><th>name</th></tr><tr><td>i64</td><td>str</td></tr></thead><tbody><tr><td>1</td><td>&quot;a&quot;</td></tr><tr><td>2</td><td>&quot;b&quot;</td></tr><tr><td>3</td><td>&quot;c&quot;</td></tr></tbody></table></div>"
      ],
      "text/plain": [
       "shape: (3, 2)\n",
       "┌─────┬──────┐\n",
       "│ id  ┆ name │\n",
       "│ --- ┆ ---  │\n",
       "│ i64 ┆ str  │\n",
       "╞═════╪══════╡\n",
       "│ 1   ┆ a    │\n",
       "│ 2   ┆ b    │\n",
       "│ 3   ┆ c    │\n",
       "└─────┴──────┘"
      ]
     },
     "execution_count": 31,
     "metadata": {},
     "output_type": "execute_result"
    }
   ],
   "source": [
    "df1 = pl.DataFrame({\"id\": [1, 2, 3]})\n",
    "df2 = pl.DataFrame({\"name\": [\"a\", \"b\", \"c\"]})\n",
    "df1.hstack(df2)"
   ]
  },
  {
   "cell_type": "code",
   "execution_count": 32,
   "id": "e628bfaaebef43c2",
   "metadata": {
    "ExecuteTime": {
     "end_time": "2024-08-04T23:51:20.095284Z",
     "start_time": "2024-08-04T23:51:20.088782Z"
    },
    "collapsed": false,
    "jupyter": {
     "outputs_hidden": false
    }
   },
   "outputs": [
    {
     "data": {
      "text/html": [
       "<div><style>\n",
       ".dataframe > thead > tr,\n",
       ".dataframe > tbody > tr {\n",
       "  text-align: right;\n",
       "  white-space: pre-wrap;\n",
       "}\n",
       "</style>\n",
       "<small>shape: (3, 1)</small><table border=\"1\" class=\"dataframe\"><thead><tr><th>id</th></tr><tr><td>i64</td></tr></thead><tbody><tr><td>1</td></tr><tr><td>2</td></tr><tr><td>3</td></tr></tbody></table></div>"
      ],
      "text/plain": [
       "shape: (3, 1)\n",
       "┌─────┐\n",
       "│ id  │\n",
       "│ --- │\n",
       "│ i64 │\n",
       "╞═════╡\n",
       "│ 1   │\n",
       "│ 2   │\n",
       "│ 3   │\n",
       "└─────┘"
      ]
     },
     "execution_count": 32,
     "metadata": {},
     "output_type": "execute_result"
    }
   ],
   "source": [
    "df1"
   ]
  },
  {
   "cell_type": "code",
   "execution_count": 33,
   "id": "93e0cddeda84df3d",
   "metadata": {
    "ExecuteTime": {
     "end_time": "2024-08-04T23:52:14.709320Z",
     "start_time": "2024-08-04T23:52:14.675873Z"
    },
    "collapsed": false,
    "editable": true,
    "jupyter": {
     "outputs_hidden": false
    },
    "slideshow": {
     "slide_type": ""
    },
    "tags": []
   },
   "outputs": [
    {
     "name": "stdout",
     "output_type": "stream",
     "text": [
      "ShapeError('could not create a new DataFrame: series \"id\" has length 3 while series \"name\" has length 5')\n"
     ]
    }
   ],
   "source": [
    "# It won't work because the rows are different\n",
    "df1 = pl.DataFrame({\"id\": [1, 2, 3]})\n",
    "df2 = pl.DataFrame({\"name\": [\"a\", \"b\", \"c\", \"d\", \"e\"]})\n",
    "try:\n",
    "    df1.hstack(df2)\n",
    "except Exception as e:\n",
    "    print(repr(e))"
   ]
  },
  {
   "cell_type": "code",
   "execution_count": null,
   "id": "f87ca519-689c-4d6c-b14e-348e0fc64dca",
   "metadata": {
    "editable": true,
    "slideshow": {
     "slide_type": ""
    },
    "tags": []
   },
   "outputs": [],
   "source": []
  }
 ],
 "metadata": {
  "kernelspec": {
   "display_name": "Python 3 (ipykernel)",
   "language": "python",
   "name": "python3"
  },
  "language_info": {
   "codemirror_mode": {
    "name": "ipython",
    "version": 3
   },
   "file_extension": ".py",
   "mimetype": "text/x-python",
   "name": "python",
   "nbconvert_exporter": "python",
   "pygments_lexer": "ipython3",
   "version": "3.10.10"
  }
 },
 "nbformat": 4,
 "nbformat_minor": 5
}
