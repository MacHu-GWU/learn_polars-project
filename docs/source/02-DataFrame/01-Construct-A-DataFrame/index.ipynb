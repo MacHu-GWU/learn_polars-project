{
 "cells": [
  {
   "cell_type": "raw",
   "id": "459d67cf-dd21-4b80-8aae-f1df3577fea6",
   "metadata": {
    "collapsed": false,
    "editable": true,
    "jupyter": {
     "outputs_hidden": false
    },
    "raw_mimetype": "text/restructuredtext",
    "slideshow": {
     "slide_type": ""
    },
    "tags": []
   },
   "source": [
    ".. _construct-a-dataframe\n",
    "\n",
    "Construct a DataFrame\n",
    "=============================================================================="
   ]
  },
  {
   "cell_type": "code",
   "execution_count": 1,
   "id": "6ed4f28b71f74ddf",
   "metadata": {
    "ExecuteTime": {
     "end_time": "2024-08-02T14:43:10.248869Z",
     "start_time": "2024-08-02T14:43:10.243458Z"
    },
    "collapsed": false,
    "editable": true,
    "jupyter": {
     "outputs_hidden": false
    },
    "slideshow": {
     "slide_type": ""
    },
    "tags": []
   },
   "outputs": [],
   "source": [
    "import polars as pl"
   ]
  },
  {
   "cell_type": "markdown",
   "id": "7bf26655cccb2cf9",
   "metadata": {
    "collapsed": false,
    "editable": true,
    "jupyter": {
     "outputs_hidden": false
    },
    "slideshow": {
     "slide_type": ""
    },
    "tags": []
   },
   "source": [
    "## Create DataFrame\n",
    "\n",
    "Ref:\n",
    "\n",
    "- https://docs.pola.rs/api/python/stable/reference/dataframe/index.html\n",
    "\n",
    "Create DataFrame from ``{\"col\": [values...]}``"
   ]
  },
  {
   "cell_type": "code",
   "execution_count": 2,
   "id": "950a1738a297db6e",
   "metadata": {
    "ExecuteTime": {
     "end_time": "2024-08-02T14:43:10.540443Z",
     "start_time": "2024-08-02T14:43:10.538558Z"
    },
    "collapsed": false,
    "editable": true,
    "jupyter": {
     "outputs_hidden": false
    },
    "slideshow": {
     "slide_type": ""
    },
    "tags": []
   },
   "outputs": [
    {
     "data": {
      "text/html": [
       "<div><style>\n",
       ".dataframe > thead > tr,\n",
       ".dataframe > tbody > tr {\n",
       "  text-align: right;\n",
       "  white-space: pre-wrap;\n",
       "}\n",
       "</style>\n",
       "<small>shape: (2, 2)</small><table border=\"1\" class=\"dataframe\"><thead><tr><th>a</th><th>b</th></tr><tr><td>i64</td><td>i64</td></tr></thead><tbody><tr><td>1</td><td>3</td></tr><tr><td>2</td><td>4</td></tr></tbody></table></div>"
      ],
      "text/plain": [
       "shape: (2, 2)\n",
       "┌─────┬─────┐\n",
       "│ a   ┆ b   │\n",
       "│ --- ┆ --- │\n",
       "│ i64 ┆ i64 │\n",
       "╞═════╪═════╡\n",
       "│ 1   ┆ 3   │\n",
       "│ 2   ┆ 4   │\n",
       "└─────┴─────┘"
      ]
     },
     "execution_count": 2,
     "metadata": {},
     "output_type": "execute_result"
    }
   ],
   "source": [
    "data = {\"a\": [1, 2], \"b\": [3, 4]}\n",
    "df = pl.DataFrame(data)\n",
    "df"
   ]
  },
  {
   "cell_type": "code",
   "execution_count": 3,
   "id": "be33da2dfa107962",
   "metadata": {
    "ExecuteTime": {
     "end_time": "2024-08-02T14:43:10.701928Z",
     "start_time": "2024-08-02T14:43:10.698729Z"
    },
    "collapsed": false,
    "editable": true,
    "jupyter": {
     "outputs_hidden": false
    },
    "slideshow": {
     "slide_type": ""
    },
    "tags": []
   },
   "outputs": [
    {
     "data": {
      "text/plain": [
       "[Int64, Int64]"
      ]
     },
     "execution_count": 3,
     "metadata": {},
     "output_type": "execute_result"
    }
   ],
   "source": [
    "df.dtypes"
   ]
  },
  {
   "cell_type": "code",
   "execution_count": 4,
   "id": "bd3194141df864b8",
   "metadata": {
    "ExecuteTime": {
     "end_time": "2024-08-02T14:43:10.846681Z",
     "start_time": "2024-08-02T14:43:10.844533Z"
    },
    "collapsed": false,
    "editable": true,
    "jupyter": {
     "outputs_hidden": false
    },
    "slideshow": {
     "slide_type": ""
    },
    "tags": []
   },
   "outputs": [
    {
     "data": {
      "text/plain": [
       "Schema([('a', Int64), ('b', Int64)])"
      ]
     },
     "execution_count": 4,
     "metadata": {},
     "output_type": "execute_result"
    }
   ],
   "source": [
    "df.schema"
   ]
  },
  {
   "cell_type": "code",
   "execution_count": 5,
   "id": "eadad827a1d71aa9",
   "metadata": {
    "ExecuteTime": {
     "end_time": "2024-08-02T14:43:10.990662Z",
     "start_time": "2024-08-02T14:43:10.988648Z"
    },
    "collapsed": false,
    "editable": true,
    "jupyter": {
     "outputs_hidden": false
    },
    "slideshow": {
     "slide_type": ""
    },
    "tags": []
   },
   "outputs": [
    {
     "data": {
      "text/html": [
       "<div><style>\n",
       ".dataframe > thead > tr,\n",
       ".dataframe > tbody > tr {\n",
       "  text-align: right;\n",
       "  white-space: pre-wrap;\n",
       "}\n",
       "</style>\n",
       "<small>shape: (2, 2)</small><table border=\"1\" class=\"dataframe\"><thead><tr><th>col1</th><th>col2</th></tr><tr><td>f32</td><td>i64</td></tr></thead><tbody><tr><td>0.0</td><td>3</td></tr><tr><td>2.0</td><td>7</td></tr></tbody></table></div>"
      ],
      "text/plain": [
       "shape: (2, 2)\n",
       "┌──────┬──────┐\n",
       "│ col1 ┆ col2 │\n",
       "│ ---  ┆ ---  │\n",
       "│ f32  ┆ i64  │\n",
       "╞══════╪══════╡\n",
       "│ 0.0  ┆ 3    │\n",
       "│ 2.0  ┆ 7    │\n",
       "└──────┴──────┘"
      ]
     },
     "execution_count": 5,
     "metadata": {},
     "output_type": "execute_result"
    }
   ],
   "source": [
    "# {\"col1\": [...], \"col2\": [...]}\n",
    "# this is most efficient because polars is column oriented\n",
    "data = {\"col1\": [0, 2], \"col2\": [3, 7]}\n",
    "df = pl.DataFrame(data, schema={\"col1\": pl.Float32, \"col2\": pl.Int64})\n",
    "df"
   ]
  },
  {
   "cell_type": "code",
   "execution_count": 6,
   "id": "42facfc6e45d7549",
   "metadata": {
    "ExecuteTime": {
     "end_time": "2024-08-02T14:43:11.127983Z",
     "start_time": "2024-08-02T14:43:11.126726Z"
    },
    "collapsed": false,
    "editable": true,
    "jupyter": {
     "outputs_hidden": false
    },
    "slideshow": {
     "slide_type": ""
    },
    "tags": []
   },
   "outputs": [
    {
     "data": {
      "text/html": [
       "<div><style>\n",
       ".dataframe > thead > tr,\n",
       ".dataframe > tbody > tr {\n",
       "  text-align: right;\n",
       "  white-space: pre-wrap;\n",
       "}\n",
       "</style>\n",
       "<small>shape: (2, 2)</small><table border=\"1\" class=\"dataframe\"><thead><tr><th>col1</th><th>col2</th></tr><tr><td>f32</td><td>i64</td></tr></thead><tbody><tr><td>1.0</td><td>3</td></tr><tr><td>2.0</td><td>4</td></tr></tbody></table></div>"
      ],
      "text/plain": [
       "shape: (2, 2)\n",
       "┌──────┬──────┐\n",
       "│ col1 ┆ col2 │\n",
       "│ ---  ┆ ---  │\n",
       "│ f32  ┆ i64  │\n",
       "╞══════╪══════╡\n",
       "│ 1.0  ┆ 3    │\n",
       "│ 2.0  ┆ 4    │\n",
       "└──────┴──────┘"
      ]
     },
     "execution_count": 6,
     "metadata": {},
     "output_type": "execute_result"
    }
   ],
   "source": [
    "data = {\"col1\": [1, 2], \"col2\": [3, 4]}\n",
    "df = pl.DataFrame(data, schema=[(\"col1\", pl.Float32), (\"col2\", pl.Int64)])\n",
    "df"
   ]
  },
  {
   "cell_type": "code",
   "execution_count": 7,
   "id": "6ca01d621e06f740",
   "metadata": {
    "ExecuteTime": {
     "end_time": "2024-08-02T14:43:11.277550Z",
     "start_time": "2024-08-02T14:43:11.274291Z"
    },
    "collapsed": false,
    "editable": true,
    "jupyter": {
     "outputs_hidden": false
    },
    "slideshow": {
     "slide_type": ""
    },
    "tags": []
   },
   "outputs": [
    {
     "data": {
      "text/html": [
       "<div><style>\n",
       ".dataframe > thead > tr,\n",
       ".dataframe > tbody > tr {\n",
       "  text-align: right;\n",
       "  white-space: pre-wrap;\n",
       "}\n",
       "</style>\n",
       "<small>shape: (2, 2)</small><table border=\"1\" class=\"dataframe\"><thead><tr><th>col1</th><th>col2</th></tr><tr><td>f64</td><td>i64</td></tr></thead><tbody><tr><td>0.0</td><td>3</td></tr><tr><td>2.0</td><td>7</td></tr></tbody></table></div>"
      ],
      "text/plain": [
       "shape: (2, 2)\n",
       "┌──────┬──────┐\n",
       "│ col1 ┆ col2 │\n",
       "│ ---  ┆ ---  │\n",
       "│ f64  ┆ i64  │\n",
       "╞══════╪══════╡\n",
       "│ 0.0  ┆ 3    │\n",
       "│ 2.0  ┆ 7    │\n",
       "└──────┴──────┘"
      ]
     },
     "execution_count": 7,
     "metadata": {},
     "output_type": "execute_result"
    }
   ],
   "source": [
    "data = {\"col1\": [0, 2], \"col2\": [3, 7]}\n",
    "df = pl.DataFrame(data, schema={\"col1\": float, \"col2\": int})\n",
    "df"
   ]
  },
  {
   "cell_type": "code",
   "execution_count": 8,
   "id": "131b1df9bd5efa45",
   "metadata": {
    "ExecuteTime": {
     "end_time": "2024-08-02T14:43:11.440748Z",
     "start_time": "2024-08-02T14:43:11.439173Z"
    },
    "collapsed": false,
    "editable": true,
    "jupyter": {
     "outputs_hidden": false
    },
    "slideshow": {
     "slide_type": ""
    },
    "tags": []
   },
   "outputs": [
    {
     "data": {
      "text/html": [
       "<div><style>\n",
       ".dataframe > thead > tr,\n",
       ".dataframe > tbody > tr {\n",
       "  text-align: right;\n",
       "  white-space: pre-wrap;\n",
       "}\n",
       "</style>\n",
       "<small>shape: (2, 2)</small><table border=\"1\" class=\"dataframe\"><thead><tr><th>col1</th><th>col2</th></tr><tr><td>f64</td><td>i64</td></tr></thead><tbody><tr><td>1.0</td><td>3</td></tr><tr><td>2.0</td><td>4</td></tr></tbody></table></div>"
      ],
      "text/plain": [
       "shape: (2, 2)\n",
       "┌──────┬──────┐\n",
       "│ col1 ┆ col2 │\n",
       "│ ---  ┆ ---  │\n",
       "│ f64  ┆ i64  │\n",
       "╞══════╪══════╡\n",
       "│ 1.0  ┆ 3    │\n",
       "│ 2.0  ┆ 4    │\n",
       "└──────┴──────┘"
      ]
     },
     "execution_count": 8,
     "metadata": {},
     "output_type": "execute_result"
    }
   ],
   "source": [
    "data = {\"col1\": [1, 2], \"col2\": [3, 4]}\n",
    "df = pl.DataFrame(data, schema=[(\"col1\", float), (\"col2\", int)])\n",
    "df"
   ]
  },
  {
   "cell_type": "markdown",
   "id": "b1c24222-7e80-4b9f-be5c-5c67df5ce27f",
   "metadata": {
    "editable": true,
    "slideshow": {
     "slide_type": ""
    },
    "tags": []
   },
   "source": [
    "Create DataFrame from 2d array (list of list)"
   ]
  },
  {
   "cell_type": "code",
   "execution_count": 9,
   "id": "ebbc016bc978ed47",
   "metadata": {
    "ExecuteTime": {
     "end_time": "2024-08-02T14:43:11.592674Z",
     "start_time": "2024-08-02T14:43:11.589053Z"
    },
    "collapsed": false,
    "editable": true,
    "jupyter": {
     "outputs_hidden": false
    },
    "slideshow": {
     "slide_type": ""
    },
    "tags": []
   },
   "outputs": [
    {
     "data": {
      "text/html": [
       "<div><style>\n",
       ".dataframe > thead > tr,\n",
       ".dataframe > tbody > tr {\n",
       "  text-align: right;\n",
       "  white-space: pre-wrap;\n",
       "}\n",
       "</style>\n",
       "<small>shape: (2, 2)</small><table border=\"1\" class=\"dataframe\"><thead><tr><th>id</th><th>name</th></tr><tr><td>i64</td><td>str</td></tr></thead><tbody><tr><td>1</td><td>&quot;Alice&quot;</td></tr><tr><td>2</td><td>&quot;Bob&quot;</td></tr></tbody></table></div>"
      ],
      "text/plain": [
       "shape: (2, 2)\n",
       "┌─────┬───────┐\n",
       "│ id  ┆ name  │\n",
       "│ --- ┆ ---   │\n",
       "│ i64 ┆ str   │\n",
       "╞═════╪═══════╡\n",
       "│ 1   ┆ Alice │\n",
       "│ 2   ┆ Bob   │\n",
       "└─────┴───────┘"
      ]
     },
     "execution_count": 9,
     "metadata": {},
     "output_type": "execute_result"
    }
   ],
   "source": [
    "data = [[1, \"Alice\"], [2, \"Bob\"]]\n",
    "df = pl.DataFrame(data, schema=[\"id\", \"name\"], orient=\"row\")\n",
    "df"
   ]
  },
  {
   "cell_type": "markdown",
   "id": "97307a16-70a4-4a48-83a0-722ac84412d7",
   "metadata": {
    "editable": true,
    "slideshow": {
     "slide_type": ""
    },
    "tags": []
   },
   "source": [
    "Create DataFrame from list of dictionary (struct)"
   ]
  },
  {
   "cell_type": "code",
   "execution_count": 10,
   "id": "a88ee6f87676e9d9",
   "metadata": {
    "ExecuteTime": {
     "end_time": "2024-08-02T14:43:11.746327Z",
     "start_time": "2024-08-02T14:43:11.742856Z"
    },
    "collapsed": false,
    "editable": true,
    "jupyter": {
     "outputs_hidden": false
    },
    "slideshow": {
     "slide_type": ""
    },
    "tags": []
   },
   "outputs": [
    {
     "data": {
      "text/html": [
       "<div><style>\n",
       ".dataframe > thead > tr,\n",
       ".dataframe > tbody > tr {\n",
       "  text-align: right;\n",
       "  white-space: pre-wrap;\n",
       "}\n",
       "</style>\n",
       "<small>shape: (2, 2)</small><table border=\"1\" class=\"dataframe\"><thead><tr><th>id</th><th>name</th></tr><tr><td>i64</td><td>str</td></tr></thead><tbody><tr><td>1</td><td>&quot;Alice&quot;</td></tr><tr><td>2</td><td>&quot;Bob&quot;</td></tr></tbody></table></div>"
      ],
      "text/plain": [
       "shape: (2, 2)\n",
       "┌─────┬───────┐\n",
       "│ id  ┆ name  │\n",
       "│ --- ┆ ---   │\n",
       "│ i64 ┆ str   │\n",
       "╞═════╪═══════╡\n",
       "│ 1   ┆ Alice │\n",
       "│ 2   ┆ Bob   │\n",
       "└─────┴───────┘"
      ]
     },
     "execution_count": 10,
     "metadata": {},
     "output_type": "execute_result"
    }
   ],
   "source": [
    "# For [{key: value}, ...], polars try infer the data type\n",
    "data = [\n",
    "    {\"id\": 1, \"name\": \"Alice\"},\n",
    "    {\"id\": 2, \"name\": \"Bob\"},\n",
    "]\n",
    "df = pl.DataFrame(data)\n",
    "df"
   ]
  },
  {
   "cell_type": "code",
   "execution_count": 11,
   "id": "59ec76687d1009a5",
   "metadata": {
    "ExecuteTime": {
     "end_time": "2024-08-02T14:44:40.514439Z",
     "start_time": "2024-08-02T14:44:40.510531Z"
    },
    "collapsed": false,
    "editable": true,
    "jupyter": {
     "outputs_hidden": false
    },
    "slideshow": {
     "slide_type": ""
    },
    "tags": []
   },
   "outputs": [
    {
     "data": {
      "text/html": [
       "<div><style>\n",
       ".dataframe > thead > tr,\n",
       ".dataframe > tbody > tr {\n",
       "  text-align: right;\n",
       "  white-space: pre-wrap;\n",
       "}\n",
       "</style>\n",
       "<small>shape: (2, 2)</small><table border=\"1\" class=\"dataframe\"><thead><tr><th>id</th><th>name</th></tr><tr><td>i64</td><td>str</td></tr></thead><tbody><tr><td>1</td><td>&quot;Alice&quot;</td></tr><tr><td>2</td><td>&quot;Bob&quot;</td></tr></tbody></table></div>"
      ],
      "text/plain": [
       "shape: (2, 2)\n",
       "┌─────┬───────┐\n",
       "│ id  ┆ name  │\n",
       "│ --- ┆ ---   │\n",
       "│ i64 ┆ str   │\n",
       "╞═════╪═══════╡\n",
       "│ 1   ┆ Alice │\n",
       "│ 2   ┆ Bob   │\n",
       "└─────┴───────┘"
      ]
     },
     "execution_count": 11,
     "metadata": {},
     "output_type": "execute_result"
    }
   ],
   "source": [
    "# For [{key: value}, ...], I suggest to define schema explicitly\n",
    "data = [\n",
    "    {\"id\": 1, \"name\": \"Alice\"},\n",
    "    {\"id\": 2, \"name\": \"Bob\"},\n",
    "]\n",
    "df = pl.DataFrame(data, schema={\"id\": int, \"name\": str})\n",
    "df"
   ]
  },
  {
   "cell_type": "markdown",
   "id": "a1d175243dd7aac1",
   "metadata": {
    "collapsed": false,
    "editable": true,
    "jupyter": {
     "outputs_hidden": false
    },
    "slideshow": {
     "slide_type": ""
    },
    "tags": []
   },
   "source": [
    "## Handle Type Mismatch"
   ]
  },
  {
   "cell_type": "code",
   "execution_count": 12,
   "id": "eaf6fe6def30c621",
   "metadata": {
    "ExecuteTime": {
     "end_time": "2024-08-02T14:45:42.978902Z",
     "start_time": "2024-08-02T14:45:42.974382Z"
    },
    "collapsed": false,
    "editable": true,
    "jupyter": {
     "outputs_hidden": false
    },
    "slideshow": {
     "slide_type": ""
    },
    "tags": []
   },
   "outputs": [
    {
     "data": {
      "text/html": [
       "<div><style>\n",
       ".dataframe > thead > tr,\n",
       ".dataframe > tbody > tr {\n",
       "  text-align: right;\n",
       "  white-space: pre-wrap;\n",
       "}\n",
       "</style>\n",
       "<small>shape: (3, 3)</small><table border=\"1\" class=\"dataframe\"><thead><tr><th>id</th><th>name</th><th>bank_account</th></tr><tr><td>i64</td><td>str</td><td>str</td></tr></thead><tbody><tr><td>1</td><td>&quot;Alice&quot;</td><td>&quot;1111111111&quot;</td></tr><tr><td>2</td><td>&quot;Bob&quot;</td><td>&quot;2222222222&quot;</td></tr><tr><td>3</td><td>&quot;Cathy&quot;</td><td>&quot;3333333333&quot;</td></tr></tbody></table></div>"
      ],
      "text/plain": [
       "shape: (3, 3)\n",
       "┌─────┬───────┬──────────────┐\n",
       "│ id  ┆ name  ┆ bank_account │\n",
       "│ --- ┆ ---   ┆ ---          │\n",
       "│ i64 ┆ str   ┆ str          │\n",
       "╞═════╪═══════╪══════════════╡\n",
       "│ 1   ┆ Alice ┆ 1111111111   │\n",
       "│ 2   ┆ Bob   ┆ 2222222222   │\n",
       "│ 3   ┆ Cathy ┆ 3333333333   │\n",
       "└─────┴───────┴──────────────┘"
      ]
     },
     "execution_count": 12,
     "metadata": {},
     "output_type": "execute_result"
    }
   ],
   "source": [
    "# For [{key: value}, ...], I suggest to define schema explicitly\n",
    "data = [\n",
    "    {\"id\": 1, \"name\": \"Alice\", \"bank_account\": \"1111111111\"},\n",
    "    {\"id\": 2, \"name\": \"Bob\", \"bank_account\": \"2222222222\"},\n",
    "    {\"id\": 3, \"name\": \"Cathy\", \"bank_account\": 3333333333},\n",
    "]\n",
    "df = pl.DataFrame(data)\n",
    "df"
   ]
  },
  {
   "cell_type": "code",
   "execution_count": 13,
   "id": "e7b84ff31c4ba6b8",
   "metadata": {
    "ExecuteTime": {
     "end_time": "2024-08-02T14:46:14.714829Z",
     "start_time": "2024-08-02T14:46:14.710553Z"
    },
    "collapsed": false,
    "editable": true,
    "jupyter": {
     "outputs_hidden": false
    },
    "slideshow": {
     "slide_type": ""
    },
    "tags": []
   },
   "outputs": [
    {
     "data": {
      "text/html": [
       "<div><style>\n",
       ".dataframe > thead > tr,\n",
       ".dataframe > tbody > tr {\n",
       "  text-align: right;\n",
       "  white-space: pre-wrap;\n",
       "}\n",
       "</style>\n",
       "<small>shape: (3, 3)</small><table border=\"1\" class=\"dataframe\"><thead><tr><th>id</th><th>name</th><th>bank_account</th></tr><tr><td>i64</td><td>str</td><td>str</td></tr></thead><tbody><tr><td>1</td><td>&quot;Alice&quot;</td><td>&quot;1111111111&quot;</td></tr><tr><td>2</td><td>&quot;Bob&quot;</td><td>&quot;2222222222&quot;</td></tr><tr><td>3</td><td>&quot;Cathy&quot;</td><td>&quot;3333333333&quot;</td></tr></tbody></table></div>"
      ],
      "text/plain": [
       "shape: (3, 3)\n",
       "┌─────┬───────┬──────────────┐\n",
       "│ id  ┆ name  ┆ bank_account │\n",
       "│ --- ┆ ---   ┆ ---          │\n",
       "│ i64 ┆ str   ┆ str          │\n",
       "╞═════╪═══════╪══════════════╡\n",
       "│ 1   ┆ Alice ┆ 1111111111   │\n",
       "│ 2   ┆ Bob   ┆ 2222222222   │\n",
       "│ 3   ┆ Cathy ┆ 3333333333   │\n",
       "└─────┴───────┴──────────────┘"
      ]
     },
     "execution_count": 13,
     "metadata": {},
     "output_type": "execute_result"
    }
   ],
   "source": [
    "data = [\n",
    "    {\"id\": 1, \"name\": \"Alice\", \"bank_account\": \"1111111111\"},\n",
    "    {\"id\": 2, \"name\": \"Bob\", \"bank_account\": \"2222222222\"},\n",
    "    {\"id\": 3, \"name\": \"Cathy\", \"bank_account\": 3333333333},\n",
    "]\n",
    "df = pl.DataFrame(data, schema={\"id\": int, \"name\": str, \"bank_account\": str})\n",
    "df"
   ]
  },
  {
   "cell_type": "markdown",
   "id": "262a274f-d885-4bb4-a9fd-6ee05880312e",
   "metadata": {
    "editable": true,
    "slideshow": {
     "slide_type": ""
    },
    "tags": []
   },
   "source": [
    "## Pretty Print a DataFrame"
   ]
  },
  {
   "cell_type": "code",
   "execution_count": 15,
   "id": "e3fcc34b-5d2c-4091-b850-d318d3624e2a",
   "metadata": {
    "editable": true,
    "slideshow": {
     "slide_type": ""
    },
    "tags": []
   },
   "outputs": [
    {
     "data": {
      "text/html": [
       "<div><style>\n",
       ".dataframe > thead > tr,\n",
       ".dataframe > tbody > tr {\n",
       "  text-align: right;\n",
       "  white-space: pre-wrap;\n",
       "}\n",
       "</style>\n",
       "<small>shape: (9, 3)</small><table border=\"1\" class=\"dataframe\"><thead><tr><th>id</th><th>name</th><th>details</th></tr><tr><td>i64</td><td>str</td><td>struct[2]</td></tr></thead><tbody><tr><td>1</td><td>&quot;Name-1&quot;</td><td>{&quot;111-222-3333&quot;,&quot;SSN-1&quot;}</td></tr><tr><td>1</td><td>&quot;Name-2&quot;</td><td>{&quot;111-222-3333&quot;,&quot;SSN-2&quot;}</td></tr><tr><td>1</td><td>&quot;Name-3&quot;</td><td>{&quot;111-222-3333&quot;,&quot;SSN-3&quot;}</td></tr><tr><td>1</td><td>&quot;Name-4&quot;</td><td>{&quot;111-222-3333&quot;,&quot;SSN-4&quot;}</td></tr><tr><td>1</td><td>&quot;Name-5&quot;</td><td>{&quot;111-222-3333&quot;,&quot;SSN-5&quot;}</td></tr><tr><td>1</td><td>&quot;Name-6&quot;</td><td>{&quot;111-222-3333&quot;,&quot;SSN-6&quot;}</td></tr><tr><td>1</td><td>&quot;Name-7&quot;</td><td>{&quot;111-222-3333&quot;,&quot;SSN-7&quot;}</td></tr><tr><td>1</td><td>&quot;Name-8&quot;</td><td>{&quot;111-222-3333&quot;,&quot;SSN-8&quot;}</td></tr><tr><td>1</td><td>&quot;Name-9&quot;</td><td>{&quot;111-222-3333&quot;,&quot;SSN-9&quot;}</td></tr></tbody></table></div>"
      ],
      "text/plain": [
       "shape: (9, 3)\n",
       "┌─────┬────────┬──────────────────────────┐\n",
       "│ id  ┆ name   ┆ details                  │\n",
       "│ --- ┆ ---    ┆ ---                      │\n",
       "│ i64 ┆ str    ┆ struct[2]                │\n",
       "╞═════╪════════╪══════════════════════════╡\n",
       "│ 1   ┆ Name-1 ┆ {\"111-222-3333\",\"SSN-1\"} │\n",
       "│ 1   ┆ Name-2 ┆ {\"111-222-3333\",\"SSN-2\"} │\n",
       "│ 1   ┆ Name-3 ┆ {\"111-222-3333\",\"SSN-3\"} │\n",
       "│ 1   ┆ Name-4 ┆ {\"111-222-3333\",\"SSN-4\"} │\n",
       "│ 1   ┆ Name-5 ┆ {\"111-222-3333\",\"SSN-5\"} │\n",
       "│ 1   ┆ Name-6 ┆ {\"111-222-3333\",\"SSN-6\"} │\n",
       "│ 1   ┆ Name-7 ┆ {\"111-222-3333\",\"SSN-7\"} │\n",
       "│ 1   ┆ Name-8 ┆ {\"111-222-3333\",\"SSN-8\"} │\n",
       "│ 1   ┆ Name-9 ┆ {\"111-222-3333\",\"SSN-9\"} │\n",
       "└─────┴────────┴──────────────────────────┘"
      ]
     },
     "execution_count": 15,
     "metadata": {},
     "output_type": "execute_result"
    }
   ],
   "source": [
    "import polars as pl\n",
    "\n",
    "data = [\n",
    "    {\"id\": 1, \"name\": f\"Name-{i}\", \"details\": {\"Phone\": \"111-222-3333\", \"SSN\": f\"SSN-{i}\"}}\n",
    "    for i in range(1, 10)\n",
    "]\n",
    "df = pl.DataFrame(data)\n",
    "df"
   ]
  },
  {
   "cell_type": "markdown",
   "id": "ca20dda7-2cb8-488c-bebf-627412afafd7",
   "metadata": {
    "editable": true,
    "slideshow": {
     "slide_type": ""
    },
    "tags": []
   },
   "source": [
    "[tabulate](https://pypi.org/project/tabulate/) library convert your dataframe to beautiful ascii table."
   ]
  },
  {
   "cell_type": "code",
   "execution_count": 16,
   "id": "38619768-6265-49ae-8df9-a3c839884d4b",
   "metadata": {
    "editable": true,
    "slideshow": {
     "slide_type": ""
    },
    "tags": []
   },
   "outputs": [
    {
     "name": "stdout",
     "output_type": "stream",
     "text": [
      "See Dataframe at: file:///Users/sanhehu/Documents/GitHub/learn_polars-project/docs/source/02-DataFrame/01-Construct-A-DataFrame/dataframe.txt\n",
      "+------+--------+-------------------------------------------+\n",
      "|   id | name   | details                                   |\n",
      "+======+========+===========================================+\n",
      "|    1 | Name-1 | {'Phone': '111-222-3333', 'SSN': 'SSN-1'} |\n",
      "+------+--------+-------------------------------------------+\n",
      "|    1 | Name-2 | {'Phone': '111-222-3333', 'SSN': 'SSN-2'} |\n",
      "+------+--------+-------------------------------------------+\n",
      "|    1 | Name-3 | {'Phone': '111-222-3333', 'SSN': 'SSN-3'} |\n",
      "+------+--------+-------------------------------------------+\n",
      "|    1 | Name-4 | {'Phone': '111-222-3333', 'SSN': 'SSN-4'} |\n",
      "+------+--------+-------------------------------------------+\n",
      "|    1 | Name-5 | {'Phone': '111-222-3333', 'SSN': 'SSN-5'} |\n",
      "+------+--------+-------------------------------------------+\n",
      "|    1 | Name-6 | {'Phone': '111-222-3333', 'SSN': 'SSN-6'} |\n",
      "+------+--------+-------------------------------------------+\n",
      "|    1 | Name-7 | {'Phone': '111-222-3333', 'SSN': 'SSN-7'} |\n",
      "+------+--------+-------------------------------------------+\n",
      "|    1 | Name-8 | {'Phone': '111-222-3333', 'SSN': 'SSN-8'} |\n",
      "+------+--------+-------------------------------------------+\n",
      "|    1 | Name-9 | {'Phone': '111-222-3333', 'SSN': 'SSN-9'} |\n",
      "+------+--------+-------------------------------------------+\n"
     ]
    }
   ],
   "source": [
    "from tabulate import tabulate\n",
    "from pathlib import Path\n",
    "\n",
    "dir_here = Path.cwd()\n",
    "path = dir_here / \"dataframe.txt\"\n",
    "\n",
    "text = tabulate(df.to_dict(), headers=list(df.schema),  tablefmt=\"grid\")\n",
    "path.write_text(text)\n",
    "print(f\"See Dataframe at: file://{path}\")\n",
    "print(text) # You can also write it to file"
   ]
  },
  {
   "cell_type": "code",
   "execution_count": null,
   "id": "11c0b200-19fc-474a-b603-666508e2ce33",
   "metadata": {
    "editable": true,
    "slideshow": {
     "slide_type": ""
    },
    "tags": []
   },
   "outputs": [],
   "source": []
  }
 ],
 "metadata": {
  "kernelspec": {
   "display_name": "Python 3 (ipykernel)",
   "language": "python",
   "name": "python3"
  },
  "language_info": {
   "codemirror_mode": {
    "name": "ipython",
    "version": 3
   },
   "file_extension": ".py",
   "mimetype": "text/x-python",
   "name": "python",
   "nbconvert_exporter": "python",
   "pygments_lexer": "ipython3",
   "version": "3.10.10"
  }
 },
 "nbformat": 4,
 "nbformat_minor": 5
}
