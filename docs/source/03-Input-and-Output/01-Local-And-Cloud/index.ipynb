{
 "cells": [
  {
   "cell_type": "raw",
   "id": "e7a6f21fba164ee6",
   "metadata": {
    "collapsed": false,
    "editable": true,
    "jupyter": {
     "outputs_hidden": false
    },
    "raw_mimetype": "text/restructuredtext",
    "slideshow": {
     "slide_type": ""
    },
    "tags": []
   },
   "source": [
    ".. _local-and-cloud:\n",
    "\n",
    "Local and Cloud\n",
    "=============================================================================="
   ]
  },
  {
   "cell_type": "code",
   "execution_count": 1,
   "id": "d4a25cc47e38ca03",
   "metadata": {
    "ExecuteTime": {
     "end_time": "2024-08-04T20:13:24.531714Z",
     "start_time": "2024-08-04T20:13:24.415508Z"
    },
    "collapsed": false,
    "editable": true,
    "jupyter": {
     "outputs_hidden": false
    },
    "slideshow": {
     "slide_type": ""
    },
    "tags": []
   },
   "outputs": [],
   "source": [
    "from pathlib_mate import Path\n",
    "\n",
    "import polars as pl\n",
    "from s3pathlib import S3Path, context\n",
    "from boto_session_manager import BotoSesManager\n",
    "\n",
    "dir_here = Path.cwd().absolute()\n",
    "\n",
    "bsm = BotoSesManager(profile_name=\"bmt_app_dev_us_east_1\")\n",
    "context.attach_boto_session(boto_ses=bsm.boto_ses)\n",
    "bucket = f\"{bsm.aws_account_alias}-{bsm.aws_region}-data\"\n",
    "s3dir_root = S3Path(\n",
    "    f\"s3://{bucket}/projects/learn_polars\"\n",
    "    f\"/input-and-output/local-and-cloud/\"\n",
    ").to_dir()"
   ]
  },
  {
   "cell_type": "code",
   "execution_count": 2,
   "id": "42d5d64a4e151a31",
   "metadata": {
    "ExecuteTime": {
     "end_time": "2024-08-04T18:32:46.437127Z",
     "start_time": "2024-08-04T18:32:46.430925Z"
    },
    "collapsed": false,
    "editable": true,
    "jupyter": {
     "outputs_hidden": false
    },
    "slideshow": {
     "slide_type": ""
    },
    "tags": []
   },
   "outputs": [
    {
     "data": {
      "text/html": [
       "<div><style>\n",
       ".dataframe > thead > tr,\n",
       ".dataframe > tbody > tr {\n",
       "  text-align: right;\n",
       "  white-space: pre-wrap;\n",
       "}\n",
       "</style>\n",
       "<small>shape: (1_000, 3)</small><table border=\"1\" class=\"dataframe\"><thead><tr><th>id</th><th>name</th><th>details</th></tr><tr><td>i64</td><td>str</td><td>struct[1]</td></tr></thead><tbody><tr><td>1</td><td>&quot;Alice&quot;</td><td>{&quot;2000-01-01&quot;}</td></tr><tr><td>2</td><td>&quot;Alice&quot;</td><td>{&quot;2000-01-01&quot;}</td></tr><tr><td>3</td><td>&quot;Alice&quot;</td><td>{&quot;2000-01-01&quot;}</td></tr><tr><td>4</td><td>&quot;Alice&quot;</td><td>{&quot;2000-01-01&quot;}</td></tr><tr><td>5</td><td>&quot;Alice&quot;</td><td>{&quot;2000-01-01&quot;}</td></tr><tr><td>&hellip;</td><td>&hellip;</td><td>&hellip;</td></tr><tr><td>996</td><td>&quot;Alice&quot;</td><td>{&quot;2000-01-01&quot;}</td></tr><tr><td>997</td><td>&quot;Alice&quot;</td><td>{&quot;2000-01-01&quot;}</td></tr><tr><td>998</td><td>&quot;Alice&quot;</td><td>{&quot;2000-01-01&quot;}</td></tr><tr><td>999</td><td>&quot;Alice&quot;</td><td>{&quot;2000-01-01&quot;}</td></tr><tr><td>1000</td><td>&quot;Alice&quot;</td><td>{&quot;2000-01-01&quot;}</td></tr></tbody></table></div>"
      ],
      "text/plain": [
       "shape: (1_000, 3)\n",
       "┌──────┬───────┬────────────────┐\n",
       "│ id   ┆ name  ┆ details        │\n",
       "│ ---  ┆ ---   ┆ ---            │\n",
       "│ i64  ┆ str   ┆ struct[1]      │\n",
       "╞══════╪═══════╪════════════════╡\n",
       "│ 1    ┆ Alice ┆ {\"2000-01-01\"} │\n",
       "│ 2    ┆ Alice ┆ {\"2000-01-01\"} │\n",
       "│ 3    ┆ Alice ┆ {\"2000-01-01\"} │\n",
       "│ 4    ┆ Alice ┆ {\"2000-01-01\"} │\n",
       "│ 5    ┆ Alice ┆ {\"2000-01-01\"} │\n",
       "│ …    ┆ …     ┆ …              │\n",
       "│ 996  ┆ Alice ┆ {\"2000-01-01\"} │\n",
       "│ 997  ┆ Alice ┆ {\"2000-01-01\"} │\n",
       "│ 998  ┆ Alice ┆ {\"2000-01-01\"} │\n",
       "│ 999  ┆ Alice ┆ {\"2000-01-01\"} │\n",
       "│ 1000 ┆ Alice ┆ {\"2000-01-01\"} │\n",
       "└──────┴───────┴────────────────┘"
      ]
     },
     "execution_count": 2,
     "metadata": {},
     "output_type": "execute_result"
    }
   ],
   "source": [
    "n_rows = 1000\n",
    "df = pl.DataFrame(\n",
    "    {\n",
    "        \"id\": list(range(1, 1 + n_rows)),\n",
    "        \"name\": [\"Alice\"] * n_rows,\n",
    "        \"details\": [{\"dob\": \"2000-01-01\"}] * n_rows\n",
    "    }\n",
    ")\n",
    "df"
   ]
  },
  {
   "cell_type": "markdown",
   "id": "f4f0b0cb1d82ea0f",
   "metadata": {
    "collapsed": false,
    "editable": true,
    "jupyter": {
     "outputs_hidden": false
    },
    "slideshow": {
     "slide_type": ""
    },
    "tags": []
   },
   "source": [
    "## Local File IO"
   ]
  },
  {
   "cell_type": "code",
   "execution_count": 3,
   "id": "e556a019129f398f",
   "metadata": {
    "ExecuteTime": {
     "end_time": "2024-08-04T20:13:34.331022Z",
     "start_time": "2024-08-04T20:13:34.326588Z"
    },
    "collapsed": false,
    "editable": true,
    "jupyter": {
     "outputs_hidden": false
    },
    "slideshow": {
     "slide_type": ""
    },
    "tags": []
   },
   "outputs": [],
   "source": [
    "def clean_up_local():\n",
    "    for f in dir_here.glob(\"*.json\"):\n",
    "        f.unlink()"
   ]
  },
  {
   "cell_type": "markdown",
   "id": "8fa58afc93efae1b",
   "metadata": {
    "collapsed": false,
    "editable": true,
    "jupyter": {
     "outputs_hidden": false
    },
    "slideshow": {
     "slide_type": ""
    },
    "tags": []
   },
   "source": [
    "### Write to Local File\n",
    "\n",
    "**额外依赖**\n",
    "\n",
    "polars 无需任何额外依赖就可以对本地文件进行读写.\n",
    "\n",
    "**节约内存**\n",
    "\n",
    "在很多 IO 场景中都有用数据流, 而不是一次性读取全部数据的方式节约内存. 这种方式通常是用牺牲性能换取更小的内存开销. 典型的使用场景如下:\n",
    "\n",
    "- 逐行读取大文件, 逐行对数据进行处理, 并将处理后的数据逐行写入新文件.\n",
    "\n",
    "当你大的 DataFrame 写入本地文件时, Python 默认的 IO 就是流式写入, 所以你无需担心内存问题.\n",
    "\n",
    "**参数说明**\n",
    "\n",
    "``polars.write_parquet`` 方法接受:\n",
    "\n",
    "1. 字符串: 字符串将会被视为本地文件的路径. \n",
    "2. File-liked Object: 你可以用 File-liked Object 作为输入也可以."
   ]
  },
  {
   "cell_type": "code",
   "execution_count": 4,
   "id": "a685b94c9b0a13df",
   "metadata": {
    "ExecuteTime": {
     "end_time": "2024-08-04T20:13:41.307785Z",
     "start_time": "2024-08-04T20:13:41.304442Z"
    },
    "collapsed": false,
    "editable": true,
    "jupyter": {
     "outputs_hidden": false
    },
    "slideshow": {
     "slide_type": ""
    },
    "tags": []
   },
   "outputs": [
    {
     "name": "stdout",
     "output_type": "stream",
     "text": [
      "path.exists() = True, path.size_in_text = '55.56 KB'\n"
     ]
    }
   ],
   "source": [
    "clean_up_local()\n",
    "\n",
    "# Write to Local File\n",
    "path = dir_here / \"data.json\"\n",
    "df.write_ndjson(str(path))\n",
    "print(f\"{path.exists() = }, {path.size_in_text = }\")"
   ]
  },
  {
   "cell_type": "markdown",
   "id": "8738c1af5cf583f6",
   "metadata": {
    "collapsed": false,
    "editable": true,
    "jupyter": {
     "outputs_hidden": false
    },
    "slideshow": {
     "slide_type": ""
    },
    "tags": []
   },
   "source": [
    "### Read from Local File"
   ]
  },
  {
   "cell_type": "code",
   "execution_count": 5,
   "id": "9b579d1bf799f508",
   "metadata": {
    "ExecuteTime": {
     "end_time": "2024-08-04T21:03:18.081285Z",
     "start_time": "2024-08-04T21:03:18.076501Z"
    },
    "collapsed": false,
    "editable": true,
    "jupyter": {
     "outputs_hidden": false
    },
    "slideshow": {
     "slide_type": ""
    },
    "tags": []
   },
   "outputs": [
    {
     "data": {
      "text/html": [
       "<div><style>\n",
       ".dataframe > thead > tr,\n",
       ".dataframe > tbody > tr {\n",
       "  text-align: right;\n",
       "  white-space: pre-wrap;\n",
       "}\n",
       "</style>\n",
       "<small>shape: (1_000, 3)</small><table border=\"1\" class=\"dataframe\"><thead><tr><th>id</th><th>name</th><th>details</th></tr><tr><td>i64</td><td>str</td><td>struct[1]</td></tr></thead><tbody><tr><td>1</td><td>&quot;Alice&quot;</td><td>{&quot;2000-01-01&quot;}</td></tr><tr><td>2</td><td>&quot;Alice&quot;</td><td>{&quot;2000-01-01&quot;}</td></tr><tr><td>3</td><td>&quot;Alice&quot;</td><td>{&quot;2000-01-01&quot;}</td></tr><tr><td>4</td><td>&quot;Alice&quot;</td><td>{&quot;2000-01-01&quot;}</td></tr><tr><td>5</td><td>&quot;Alice&quot;</td><td>{&quot;2000-01-01&quot;}</td></tr><tr><td>&hellip;</td><td>&hellip;</td><td>&hellip;</td></tr><tr><td>996</td><td>&quot;Alice&quot;</td><td>{&quot;2000-01-01&quot;}</td></tr><tr><td>997</td><td>&quot;Alice&quot;</td><td>{&quot;2000-01-01&quot;}</td></tr><tr><td>998</td><td>&quot;Alice&quot;</td><td>{&quot;2000-01-01&quot;}</td></tr><tr><td>999</td><td>&quot;Alice&quot;</td><td>{&quot;2000-01-01&quot;}</td></tr><tr><td>1000</td><td>&quot;Alice&quot;</td><td>{&quot;2000-01-01&quot;}</td></tr></tbody></table></div>"
      ],
      "text/plain": [
       "shape: (1_000, 3)\n",
       "┌──────┬───────┬────────────────┐\n",
       "│ id   ┆ name  ┆ details        │\n",
       "│ ---  ┆ ---   ┆ ---            │\n",
       "│ i64  ┆ str   ┆ struct[1]      │\n",
       "╞══════╪═══════╪════════════════╡\n",
       "│ 1    ┆ Alice ┆ {\"2000-01-01\"} │\n",
       "│ 2    ┆ Alice ┆ {\"2000-01-01\"} │\n",
       "│ 3    ┆ Alice ┆ {\"2000-01-01\"} │\n",
       "│ 4    ┆ Alice ┆ {\"2000-01-01\"} │\n",
       "│ 5    ┆ Alice ┆ {\"2000-01-01\"} │\n",
       "│ …    ┆ …     ┆ …              │\n",
       "│ 996  ┆ Alice ┆ {\"2000-01-01\"} │\n",
       "│ 997  ┆ Alice ┆ {\"2000-01-01\"} │\n",
       "│ 998  ┆ Alice ┆ {\"2000-01-01\"} │\n",
       "│ 999  ┆ Alice ┆ {\"2000-01-01\"} │\n",
       "│ 1000 ┆ Alice ┆ {\"2000-01-01\"} │\n",
       "└──────┴───────┴────────────────┘"
      ]
     },
     "execution_count": 5,
     "metadata": {},
     "output_type": "execute_result"
    }
   ],
   "source": [
    "# Read from Local File\n",
    "pl.read_ndjson(str(path))"
   ]
  },
  {
   "cell_type": "code",
   "execution_count": 6,
   "id": "603f80c4d711cd06",
   "metadata": {
    "ExecuteTime": {
     "end_time": "2024-08-04T23:21:56.153021Z",
     "start_time": "2024-08-04T23:21:56.149004Z"
    },
    "collapsed": false,
    "editable": true,
    "jupyter": {
     "outputs_hidden": false
    },
    "slideshow": {
     "slide_type": ""
    },
    "tags": []
   },
   "outputs": [
    {
     "data": {
      "text/html": [
       "<div><style>\n",
       ".dataframe > thead > tr,\n",
       ".dataframe > tbody > tr {\n",
       "  text-align: right;\n",
       "  white-space: pre-wrap;\n",
       "}\n",
       "</style>\n",
       "<small>shape: (1_000, 3)</small><table border=\"1\" class=\"dataframe\"><thead><tr><th>id</th><th>name</th><th>details</th></tr><tr><td>i64</td><td>str</td><td>struct[1]</td></tr></thead><tbody><tr><td>1</td><td>&quot;Alice&quot;</td><td>{&quot;2000-01-01&quot;}</td></tr><tr><td>2</td><td>&quot;Alice&quot;</td><td>{&quot;2000-01-01&quot;}</td></tr><tr><td>3</td><td>&quot;Alice&quot;</td><td>{&quot;2000-01-01&quot;}</td></tr><tr><td>4</td><td>&quot;Alice&quot;</td><td>{&quot;2000-01-01&quot;}</td></tr><tr><td>5</td><td>&quot;Alice&quot;</td><td>{&quot;2000-01-01&quot;}</td></tr><tr><td>&hellip;</td><td>&hellip;</td><td>&hellip;</td></tr><tr><td>996</td><td>&quot;Alice&quot;</td><td>{&quot;2000-01-01&quot;}</td></tr><tr><td>997</td><td>&quot;Alice&quot;</td><td>{&quot;2000-01-01&quot;}</td></tr><tr><td>998</td><td>&quot;Alice&quot;</td><td>{&quot;2000-01-01&quot;}</td></tr><tr><td>999</td><td>&quot;Alice&quot;</td><td>{&quot;2000-01-01&quot;}</td></tr><tr><td>1000</td><td>&quot;Alice&quot;</td><td>{&quot;2000-01-01&quot;}</td></tr></tbody></table></div>"
      ],
      "text/plain": [
       "shape: (1_000, 3)\n",
       "┌──────┬───────┬────────────────┐\n",
       "│ id   ┆ name  ┆ details        │\n",
       "│ ---  ┆ ---   ┆ ---            │\n",
       "│ i64  ┆ str   ┆ struct[1]      │\n",
       "╞══════╪═══════╪════════════════╡\n",
       "│ 1    ┆ Alice ┆ {\"2000-01-01\"} │\n",
       "│ 2    ┆ Alice ┆ {\"2000-01-01\"} │\n",
       "│ 3    ┆ Alice ┆ {\"2000-01-01\"} │\n",
       "│ 4    ┆ Alice ┆ {\"2000-01-01\"} │\n",
       "│ 5    ┆ Alice ┆ {\"2000-01-01\"} │\n",
       "│ …    ┆ …     ┆ …              │\n",
       "│ 996  ┆ Alice ┆ {\"2000-01-01\"} │\n",
       "│ 997  ┆ Alice ┆ {\"2000-01-01\"} │\n",
       "│ 998  ┆ Alice ┆ {\"2000-01-01\"} │\n",
       "│ 999  ┆ Alice ┆ {\"2000-01-01\"} │\n",
       "│ 1000 ┆ Alice ┆ {\"2000-01-01\"} │\n",
       "└──────┴───────┴────────────────┘"
      ]
     },
     "execution_count": 6,
     "metadata": {},
     "output_type": "execute_result"
    }
   ],
   "source": [
    "with path.open(\"rb\") as f:\n",
    "    df = pl.read_ndjson(f)\n",
    "df"
   ]
  },
  {
   "cell_type": "markdown",
   "id": "6e822801238bdbc7",
   "metadata": {
    "collapsed": false,
    "editable": true,
    "jupyter": {
     "outputs_hidden": false
    },
    "slideshow": {
     "slide_type": ""
    },
    "tags": []
   },
   "source": [
    "### Read from Multiple Files\n",
    "\n",
    "This example shows how to work with multiple files.\n",
    "\n",
    "``polars`` doesn't support automatically write big dataframe into multiple small files. You have to divide the dataframe into small ones and write them one by one. \n",
    "\n",
    "If you really want to do that, you can check [pyarrow.dataset.write_dataset](https://arrow.apache.org/docs/python/generated/pyarrow.dataset.write_dataset.html)\n",
    "\n",
    "Polars lazy API has a set of functions [polars.scan_${data_format}](https://docs.pola.rs/api/python/stable/search.html?q=polars.scan_) to read data from multiple files."
   ]
  },
  {
   "cell_type": "code",
   "execution_count": 7,
   "id": "24d5b60012194d77",
   "metadata": {
    "ExecuteTime": {
     "end_time": "2024-08-04T21:04:43.553896Z",
     "start_time": "2024-08-04T21:04:43.529952Z"
    },
    "collapsed": false,
    "editable": true,
    "jupyter": {
     "outputs_hidden": false
    },
    "slideshow": {
     "slide_type": ""
    },
    "tags": []
   },
   "outputs": [
    {
     "data": {
      "text/html": [
       "<div><style>\n",
       ".dataframe > thead > tr,\n",
       ".dataframe > tbody > tr {\n",
       "  text-align: right;\n",
       "  white-space: pre-wrap;\n",
       "}\n",
       "</style>\n",
       "<small>shape: (3_000, 3)</small><table border=\"1\" class=\"dataframe\"><thead><tr><th>id</th><th>name</th><th>details</th></tr><tr><td>i64</td><td>str</td><td>struct[1]</td></tr></thead><tbody><tr><td>1</td><td>&quot;Alice&quot;</td><td>{&quot;2000-01-01&quot;}</td></tr><tr><td>2</td><td>&quot;Alice&quot;</td><td>{&quot;2000-01-01&quot;}</td></tr><tr><td>3</td><td>&quot;Alice&quot;</td><td>{&quot;2000-01-01&quot;}</td></tr><tr><td>4</td><td>&quot;Alice&quot;</td><td>{&quot;2000-01-01&quot;}</td></tr><tr><td>5</td><td>&quot;Alice&quot;</td><td>{&quot;2000-01-01&quot;}</td></tr><tr><td>&hellip;</td><td>&hellip;</td><td>&hellip;</td></tr><tr><td>996</td><td>&quot;Alice&quot;</td><td>{&quot;2000-01-01&quot;}</td></tr><tr><td>997</td><td>&quot;Alice&quot;</td><td>{&quot;2000-01-01&quot;}</td></tr><tr><td>998</td><td>&quot;Alice&quot;</td><td>{&quot;2000-01-01&quot;}</td></tr><tr><td>999</td><td>&quot;Alice&quot;</td><td>{&quot;2000-01-01&quot;}</td></tr><tr><td>1000</td><td>&quot;Alice&quot;</td><td>{&quot;2000-01-01&quot;}</td></tr></tbody></table></div>"
      ],
      "text/plain": [
       "shape: (3_000, 3)\n",
       "┌──────┬───────┬────────────────┐\n",
       "│ id   ┆ name  ┆ details        │\n",
       "│ ---  ┆ ---   ┆ ---            │\n",
       "│ i64  ┆ str   ┆ struct[1]      │\n",
       "╞══════╪═══════╪════════════════╡\n",
       "│ 1    ┆ Alice ┆ {\"2000-01-01\"} │\n",
       "│ 2    ┆ Alice ┆ {\"2000-01-01\"} │\n",
       "│ 3    ┆ Alice ┆ {\"2000-01-01\"} │\n",
       "│ 4    ┆ Alice ┆ {\"2000-01-01\"} │\n",
       "│ 5    ┆ Alice ┆ {\"2000-01-01\"} │\n",
       "│ …    ┆ …     ┆ …              │\n",
       "│ 996  ┆ Alice ┆ {\"2000-01-01\"} │\n",
       "│ 997  ┆ Alice ┆ {\"2000-01-01\"} │\n",
       "│ 998  ┆ Alice ┆ {\"2000-01-01\"} │\n",
       "│ 999  ┆ Alice ┆ {\"2000-01-01\"} │\n",
       "│ 1000 ┆ Alice ┆ {\"2000-01-01\"} │\n",
       "└──────┴───────┴────────────────┘"
      ]
     },
     "execution_count": 7,
     "metadata": {},
     "output_type": "execute_result"
    }
   ],
   "source": [
    "clean_up_local()\n",
    "\n",
    "# Write to Local File\n",
    "for i in range(1, 1+3):\n",
    "    path = dir_here / f\"data{i}.json\"\n",
    "    df.write_ndjson(str(path))\n",
    "\n",
    "# Read from Local File\n",
    "pl.scan_ndjson(f\"{dir_here}/*.json\").collect()"
   ]
  },
  {
   "cell_type": "markdown",
   "id": "68075803c7930e8",
   "metadata": {
    "collapsed": false,
    "editable": true,
    "jupyter": {
     "outputs_hidden": false
    },
    "slideshow": {
     "slide_type": ""
    },
    "tags": []
   },
   "source": [
    "## Cloud Storage IO\n",
    "\n",
    "- 对于 Write 操作, 如果你要用 [Cloud storage](https://docs.pola.rs/user-guide/io/cloud-storage/) 官方文档中的 API, 那么 polars 依赖于 ``fsspec s3fs (for AWS) adlfs (for Azure) gcsfs (for GCP)`` 这些额外的依赖来提供 IO 层的抽象以及异步 API 调用. **但如果你愿意手动用** [io](https://docs.python.org/3/library/io.html) **库先将 binary 数据写入 buffer, 然后再用各个 Cloud 原生 API 将数据写入, 又或是先写入到本地文件后再用各个 Cloud 原生 API 上传, 那么你可以不依赖于 fsspec 系列库**.\n",
    "- 对于 Read 操作, polars 不依赖 ``fsspec`` 系列库 (也就间接不依赖于 ``aiobotocore`` 等库). 例如 [read_parquet](https://docs.pola.rs/api/python/stable/reference/api/polars.read_parquet.html), [scan_parquet](https://docs.pola.rs/api/python/stable/reference/api/polars.scan_parquet.html) (其他文件格式同理) 都有 ``storage_options`` 这个参数可供你控制 credentials, 以及底层的 API 调用.\n",
    "\n",
    "我其实不理解为什么 Write 操作不能像 Read 一样, 不依赖任何除了 Cloud 原生 SDK 以外的任何库, 可能会在新版本加入这一支持吧.\n",
    "\n",
    "Reference:\n",
    "\n",
    "- [Cloud storage](https://docs.pola.rs/user-guide/io/cloud-storage/)"
   ]
  },
  {
   "cell_type": "code",
   "execution_count": 8,
   "id": "30e59e7d7f58c7af",
   "metadata": {
    "ExecuteTime": {
     "end_time": "2024-08-04T18:35:11.395973Z",
     "start_time": "2024-08-04T18:35:11.391306Z"
    },
    "collapsed": false,
    "editable": true,
    "jupyter": {
     "outputs_hidden": false
    },
    "slideshow": {
     "slide_type": ""
    },
    "tags": []
   },
   "outputs": [],
   "source": [
    "def clean_up_s3():\n",
    "    s3dir_root.delete()"
   ]
  },
  {
   "cell_type": "markdown",
   "id": "24685d342c90ebe9",
   "metadata": {
    "collapsed": false,
    "editable": true,
    "jupyter": {
     "outputs_hidden": false
    },
    "slideshow": {
     "slide_type": ""
    },
    "tags": []
   },
   "source": [
    "### Write to AWS S3"
   ]
  },
  {
   "cell_type": "code",
   "execution_count": 9,
   "id": "34bc1c011d3611fd",
   "metadata": {
    "ExecuteTime": {
     "end_time": "2024-08-04T21:05:18.937629Z",
     "start_time": "2024-08-04T21:05:18.475157Z"
    },
    "collapsed": false,
    "editable": true,
    "jupyter": {
     "outputs_hidden": false
    },
    "slideshow": {
     "slide_type": ""
    },
    "tags": []
   },
   "outputs": [],
   "source": [
    "s3path = s3dir_root / \"data.json\""
   ]
  },
  {
   "cell_type": "markdown",
   "id": "f335f94f7dfa3ecd",
   "metadata": {
    "collapsed": false,
    "editable": true,
    "jupyter": {
     "outputs_hidden": false
    },
    "slideshow": {
     "slide_type": ""
    },
    "tags": []
   },
   "source": [
    "Method 1, use [io.BytesIO](https://docs.python.org/3/library/io.html#binary-i-o) "
   ]
  },
  {
   "cell_type": "code",
   "execution_count": 10,
   "id": "6a6b1450c0d3364a",
   "metadata": {
    "ExecuteTime": {
     "end_time": "2024-08-04T21:09:16.153966Z",
     "start_time": "2024-08-04T21:09:15.499901Z"
    },
    "collapsed": false,
    "editable": true,
    "jupyter": {
     "outputs_hidden": false
    },
    "slideshow": {
     "slide_type": ""
    },
    "tags": []
   },
   "outputs": [
    {
     "name": "stdout",
     "output_type": "stream",
     "text": [
      "Write to s3://bmt-app-dev-us-east-1-data/projects/learn_polars/input-and-output/local-and-cloud/data.json\n"
     ]
    },
    {
     "data": {
      "text/html": [
       "<div><style>\n",
       ".dataframe > thead > tr,\n",
       ".dataframe > tbody > tr {\n",
       "  text-align: right;\n",
       "  white-space: pre-wrap;\n",
       "}\n",
       "</style>\n",
       "<small>shape: (1_000, 3)</small><table border=\"1\" class=\"dataframe\"><thead><tr><th>id</th><th>name</th><th>details</th></tr><tr><td>i64</td><td>str</td><td>struct[1]</td></tr></thead><tbody><tr><td>1</td><td>&quot;Alice&quot;</td><td>{&quot;2000-01-01&quot;}</td></tr><tr><td>2</td><td>&quot;Alice&quot;</td><td>{&quot;2000-01-01&quot;}</td></tr><tr><td>3</td><td>&quot;Alice&quot;</td><td>{&quot;2000-01-01&quot;}</td></tr><tr><td>4</td><td>&quot;Alice&quot;</td><td>{&quot;2000-01-01&quot;}</td></tr><tr><td>5</td><td>&quot;Alice&quot;</td><td>{&quot;2000-01-01&quot;}</td></tr><tr><td>&hellip;</td><td>&hellip;</td><td>&hellip;</td></tr><tr><td>996</td><td>&quot;Alice&quot;</td><td>{&quot;2000-01-01&quot;}</td></tr><tr><td>997</td><td>&quot;Alice&quot;</td><td>{&quot;2000-01-01&quot;}</td></tr><tr><td>998</td><td>&quot;Alice&quot;</td><td>{&quot;2000-01-01&quot;}</td></tr><tr><td>999</td><td>&quot;Alice&quot;</td><td>{&quot;2000-01-01&quot;}</td></tr><tr><td>1000</td><td>&quot;Alice&quot;</td><td>{&quot;2000-01-01&quot;}</td></tr></tbody></table></div>"
      ],
      "text/plain": [
       "shape: (1_000, 3)\n",
       "┌──────┬───────┬────────────────┐\n",
       "│ id   ┆ name  ┆ details        │\n",
       "│ ---  ┆ ---   ┆ ---            │\n",
       "│ i64  ┆ str   ┆ struct[1]      │\n",
       "╞══════╪═══════╪════════════════╡\n",
       "│ 1    ┆ Alice ┆ {\"2000-01-01\"} │\n",
       "│ 2    ┆ Alice ┆ {\"2000-01-01\"} │\n",
       "│ 3    ┆ Alice ┆ {\"2000-01-01\"} │\n",
       "│ 4    ┆ Alice ┆ {\"2000-01-01\"} │\n",
       "│ 5    ┆ Alice ┆ {\"2000-01-01\"} │\n",
       "│ …    ┆ …     ┆ …              │\n",
       "│ 996  ┆ Alice ┆ {\"2000-01-01\"} │\n",
       "│ 997  ┆ Alice ┆ {\"2000-01-01\"} │\n",
       "│ 998  ┆ Alice ┆ {\"2000-01-01\"} │\n",
       "│ 999  ┆ Alice ┆ {\"2000-01-01\"} │\n",
       "│ 1000 ┆ Alice ┆ {\"2000-01-01\"} │\n",
       "└──────┴───────┴────────────────┘"
      ]
     },
     "execution_count": 10,
     "metadata": {},
     "output_type": "execute_result"
    }
   ],
   "source": [
    "clean_up_s3()\n",
    "\n",
    "import io\n",
    "\n",
    "buffer = io.BytesIO()\n",
    "df.write_ndjson(buffer)\n",
    "print(f\"Write to {s3path.uri}\")\n",
    "s3path.write_bytes(buffer.getvalue())\n",
    "\n",
    "# Read from S3\n",
    "pl.read_ndjson(s3path.uri)"
   ]
  },
  {
   "cell_type": "markdown",
   "id": "b955e42dd4bb97e9",
   "metadata": {
    "collapsed": false,
    "editable": true,
    "jupyter": {
     "outputs_hidden": false
    },
    "slideshow": {
     "slide_type": ""
    },
    "tags": []
   },
   "source": [
    "Method 2, write to local file then upload"
   ]
  },
  {
   "cell_type": "code",
   "execution_count": 11,
   "id": "e6324ca3d9557d33",
   "metadata": {
    "ExecuteTime": {
     "end_time": "2024-08-04T21:09:21.162375Z",
     "start_time": "2024-08-04T21:09:20.926331Z"
    },
    "collapsed": false,
    "editable": true,
    "jupyter": {
     "outputs_hidden": false
    },
    "slideshow": {
     "slide_type": ""
    },
    "tags": []
   },
   "outputs": [
    {
     "name": "stdout",
     "output_type": "stream",
     "text": [
      "Write to 'data3.json'\n",
      "Upload to s3://bmt-app-dev-us-east-1-data/projects/learn_polars/input-and-output/local-and-cloud/data.json\n"
     ]
    },
    {
     "data": {
      "text/html": [
       "<div><style>\n",
       ".dataframe > thead > tr,\n",
       ".dataframe > tbody > tr {\n",
       "  text-align: right;\n",
       "  white-space: pre-wrap;\n",
       "}\n",
       "</style>\n",
       "<small>shape: (1_000, 3)</small><table border=\"1\" class=\"dataframe\"><thead><tr><th>id</th><th>name</th><th>details</th></tr><tr><td>i64</td><td>str</td><td>struct[1]</td></tr></thead><tbody><tr><td>1</td><td>&quot;Alice&quot;</td><td>{&quot;2000-01-01&quot;}</td></tr><tr><td>2</td><td>&quot;Alice&quot;</td><td>{&quot;2000-01-01&quot;}</td></tr><tr><td>3</td><td>&quot;Alice&quot;</td><td>{&quot;2000-01-01&quot;}</td></tr><tr><td>4</td><td>&quot;Alice&quot;</td><td>{&quot;2000-01-01&quot;}</td></tr><tr><td>5</td><td>&quot;Alice&quot;</td><td>{&quot;2000-01-01&quot;}</td></tr><tr><td>&hellip;</td><td>&hellip;</td><td>&hellip;</td></tr><tr><td>996</td><td>&quot;Alice&quot;</td><td>{&quot;2000-01-01&quot;}</td></tr><tr><td>997</td><td>&quot;Alice&quot;</td><td>{&quot;2000-01-01&quot;}</td></tr><tr><td>998</td><td>&quot;Alice&quot;</td><td>{&quot;2000-01-01&quot;}</td></tr><tr><td>999</td><td>&quot;Alice&quot;</td><td>{&quot;2000-01-01&quot;}</td></tr><tr><td>1000</td><td>&quot;Alice&quot;</td><td>{&quot;2000-01-01&quot;}</td></tr></tbody></table></div>"
      ],
      "text/plain": [
       "shape: (1_000, 3)\n",
       "┌──────┬───────┬────────────────┐\n",
       "│ id   ┆ name  ┆ details        │\n",
       "│ ---  ┆ ---   ┆ ---            │\n",
       "│ i64  ┆ str   ┆ struct[1]      │\n",
       "╞══════╪═══════╪════════════════╡\n",
       "│ 1    ┆ Alice ┆ {\"2000-01-01\"} │\n",
       "│ 2    ┆ Alice ┆ {\"2000-01-01\"} │\n",
       "│ 3    ┆ Alice ┆ {\"2000-01-01\"} │\n",
       "│ 4    ┆ Alice ┆ {\"2000-01-01\"} │\n",
       "│ 5    ┆ Alice ┆ {\"2000-01-01\"} │\n",
       "│ …    ┆ …     ┆ …              │\n",
       "│ 996  ┆ Alice ┆ {\"2000-01-01\"} │\n",
       "│ 997  ┆ Alice ┆ {\"2000-01-01\"} │\n",
       "│ 998  ┆ Alice ┆ {\"2000-01-01\"} │\n",
       "│ 999  ┆ Alice ┆ {\"2000-01-01\"} │\n",
       "│ 1000 ┆ Alice ┆ {\"2000-01-01\"} │\n",
       "└──────┴───────┴────────────────┘"
      ]
     },
     "execution_count": 11,
     "metadata": {},
     "output_type": "execute_result"
    }
   ],
   "source": [
    "clean_up_s3()\n",
    "\n",
    "print(f\"Write to {path.basename!r}\")\n",
    "df.write_ndjson(str(path))\n",
    "print(f\"Upload to {s3path.uri}\")\n",
    "bsm.s3_client.upload_file(str(path), Bucket=bucket, Key=s3path.key)\n",
    " \n",
    "# Read from S3\n",
    "pl.read_ndjson(s3path.uri)"
   ]
  },
  {
   "cell_type": "markdown",
   "id": "2785359bc4698e7d",
   "metadata": {
    "collapsed": false,
    "editable": true,
    "jupyter": {
     "outputs_hidden": false
    },
    "slideshow": {
     "slide_type": ""
    },
    "tags": []
   },
   "source": [
    "### Read from AWS S3"
   ]
  },
  {
   "cell_type": "code",
   "execution_count": 38,
   "id": "e87bb52b2c42fb44",
   "metadata": {
    "ExecuteTime": {
     "end_time": "2024-08-04T23:19:52.764181Z",
     "start_time": "2024-08-04T23:19:52.759815Z"
    },
    "collapsed": false,
    "editable": true,
    "jupyter": {
     "outputs_hidden": false
    },
    "slideshow": {
     "slide_type": ""
    },
    "tags": []
   },
   "outputs": [],
   "source": []
  },
  {
   "cell_type": "code",
   "execution_count": null,
   "id": "ec1cce5f437c8e30",
   "metadata": {
    "collapsed": false,
    "jupyter": {
     "outputs_hidden": false
    }
   },
   "outputs": [],
   "source": []
  }
 ],
 "metadata": {
  "kernelspec": {
   "display_name": "Python 3 (ipykernel)",
   "language": "python",
   "name": "python3"
  },
  "language_info": {
   "codemirror_mode": {
    "name": "ipython",
    "version": 3
   },
   "file_extension": ".py",
   "mimetype": "text/x-python",
   "name": "python",
   "nbconvert_exporter": "python",
   "pygments_lexer": "ipython3",
   "version": "3.10.10"
  }
 },
 "nbformat": 4,
 "nbformat_minor": 5
}
