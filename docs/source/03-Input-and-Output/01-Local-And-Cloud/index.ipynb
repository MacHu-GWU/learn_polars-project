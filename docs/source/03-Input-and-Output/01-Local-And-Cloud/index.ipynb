{
 "cells": [
  {
   "cell_type": "raw",
   "id": "e7a6f21fba164ee6",
   "metadata": {
    "collapsed": false,
    "editable": true,
    "raw_mimetype": "text/restructuredtext",
    "slideshow": {
     "slide_type": ""
    },
    "tags": []
   },
   "source": [
    ".. _local-and-cloud:\n",
    "\n",
    "Local and Cloud\n",
    "=============================================================================="
   ]
  },
  {
   "cell_type": "code",
   "execution_count": 1,
   "id": "d4a25cc47e38ca03",
   "metadata": {
    "collapsed": false,
    "editable": true,
    "slideshow": {
     "slide_type": ""
    },
    "tags": [],
    "ExecuteTime": {
     "end_time": "2024-08-27T21:03:03.702717Z",
     "start_time": "2024-08-27T21:03:02.487846Z"
    }
   },
   "outputs": [],
   "source": [
    "import os\n",
    "from pathlib_mate import Path\n",
    "\n",
    "import boto3\n",
    "import polars as pl\n",
    "from s3pathlib import S3Path, context\n",
    "from boto_session_manager import BotoSesManager\n",
    "from awscli_mate.api import AWSCliConfig\n",
    "\n",
    "dir_here = Path.cwd().absolute()\n",
    "\n",
    "aws_profile_dev = \"bmt_app_dev_us_east_1\"\n",
    "aws_profile_test = \"bmt_app_test_us_east_1\"\n",
    "\n",
    "awscli_config = AWSCliConfig()\n",
    "awscli_config.set_profile_as_default(aws_profile_test)\n",
    "\n",
    "bsm = BotoSesManager(profile_name=aws_profile_dev)\n",
    "bsm_test = BotoSesManager(profile_name=aws_profile_test)\n",
    "\n",
    "context.attach_boto_session(boto_ses=bsm.boto_ses)\n",
    "bucket = f\"{bsm.aws_account_alias}-{bsm.aws_region}-data\"\n",
    "s3dir_root = S3Path(\n",
    "    f\"s3://{bucket}/projects/learn_polars\"\n",
    "    f\"/input-and-output/local-and-cloud/\"\n",
    ").to_dir()"
   ]
  },
  {
   "cell_type": "code",
   "execution_count": 2,
   "id": "42d5d64a4e151a31",
   "metadata": {
    "collapsed": false,
    "editable": true,
    "slideshow": {
     "slide_type": ""
    },
    "tags": [],
    "ExecuteTime": {
     "end_time": "2024-08-27T21:03:03.708011Z",
     "start_time": "2024-08-27T21:03:03.706627Z"
    }
   },
   "outputs": [
    {
     "data": {
      "text/plain": "shape: (1_000, 2)\n┌──────┬───────┐\n│ id   ┆ name  │\n│ ---  ┆ ---   │\n│ i64  ┆ str   │\n╞══════╪═══════╡\n│ 1    ┆ Alice │\n│ 2    ┆ Alice │\n│ 3    ┆ Alice │\n│ 4    ┆ Alice │\n│ 5    ┆ Alice │\n│ …    ┆ …     │\n│ 996  ┆ Alice │\n│ 997  ┆ Alice │\n│ 998  ┆ Alice │\n│ 999  ┆ Alice │\n│ 1000 ┆ Alice │\n└──────┴───────┘",
      "text/html": "<div><style>\n.dataframe > thead > tr,\n.dataframe > tbody > tr {\n  text-align: right;\n  white-space: pre-wrap;\n}\n</style>\n<small>shape: (1_000, 2)</small><table border=\"1\" class=\"dataframe\"><thead><tr><th>id</th><th>name</th></tr><tr><td>i64</td><td>str</td></tr></thead><tbody><tr><td>1</td><td>&quot;Alice&quot;</td></tr><tr><td>2</td><td>&quot;Alice&quot;</td></tr><tr><td>3</td><td>&quot;Alice&quot;</td></tr><tr><td>4</td><td>&quot;Alice&quot;</td></tr><tr><td>5</td><td>&quot;Alice&quot;</td></tr><tr><td>&hellip;</td><td>&hellip;</td></tr><tr><td>996</td><td>&quot;Alice&quot;</td></tr><tr><td>997</td><td>&quot;Alice&quot;</td></tr><tr><td>998</td><td>&quot;Alice&quot;</td></tr><tr><td>999</td><td>&quot;Alice&quot;</td></tr><tr><td>1000</td><td>&quot;Alice&quot;</td></tr></tbody></table></div>"
     },
     "execution_count": 2,
     "metadata": {},
     "output_type": "execute_result"
    }
   ],
   "source": [
    "n_rows = 1000\n",
    "df = pl.DataFrame(\n",
    "    {\n",
    "        \"id\": list(range(1, 1 + n_rows)),\n",
    "        \"name\": [\"Alice\"] * n_rows,\n",
    "        # \"details\": [{\"dob\": \"2000-01-01\"}] * n_rows\n",
    "    }\n",
    ")\n",
    "df"
   ]
  },
  {
   "cell_type": "markdown",
   "id": "f4f0b0cb1d82ea0f",
   "metadata": {
    "collapsed": false,
    "editable": true,
    "slideshow": {
     "slide_type": ""
    },
    "tags": []
   },
   "source": [
    "## Local File IO"
   ]
  },
  {
   "cell_type": "code",
   "execution_count": 3,
   "id": "e556a019129f398f",
   "metadata": {
    "collapsed": false,
    "editable": true,
    "slideshow": {
     "slide_type": ""
    },
    "tags": [],
    "ExecuteTime": {
     "end_time": "2024-08-27T21:03:03.710953Z",
     "start_time": "2024-08-27T21:03:03.708718Z"
    }
   },
   "outputs": [],
   "source": [
    "def clean_up_local():\n",
    "    for f in dir_here.glob(\"*.json\"):\n",
    "        f.unlink()"
   ]
  },
  {
   "cell_type": "markdown",
   "id": "8fa58afc93efae1b",
   "metadata": {
    "collapsed": false,
    "editable": true,
    "slideshow": {
     "slide_type": ""
    },
    "tags": []
   },
   "source": [
    "### Write to Local File\n",
    "\n",
    "**额外依赖**\n",
    "\n",
    "polars 无需任何额外依赖就可以对本地文件进行读写.\n",
    "\n",
    "**节约内存**\n",
    "\n",
    "在很多 IO 场景中都有用数据流, 而不是一次性读取全部数据的方式节约内存. 这种方式通常是用牺牲性能换取更小的内存开销. 典型的使用场景如下:\n",
    "\n",
    "- 逐行读取大文件, 逐行对数据进行处理, 并将处理后的数据逐行写入新文件.\n",
    "\n",
    "当你大的 DataFrame 写入本地文件时, Python 默认的 IO 就是流式写入, 所以你无需担心内存问题.\n",
    "\n",
    "**参数说明**\n",
    "\n",
    "``polars.write_parquet`` 方法接受:\n",
    "\n",
    "1. 字符串: 字符串将会被视为本地文件的路径. \n",
    "2. File-liked Object: 你可以用 File-liked Object 作为输入也可以."
   ]
  },
  {
   "cell_type": "code",
   "execution_count": 4,
   "id": "a685b94c9b0a13df",
   "metadata": {
    "collapsed": false,
    "editable": true,
    "slideshow": {
     "slide_type": ""
    },
    "tags": [],
    "ExecuteTime": {
     "end_time": "2024-08-27T21:03:03.713945Z",
     "start_time": "2024-08-27T21:03:03.711256Z"
    }
   },
   "outputs": [
    {
     "name": "stdout",
     "output_type": "stream",
     "text": [
      "path.exists() = True, path.size_in_text = '25.29 KB'\n"
     ]
    }
   ],
   "source": [
    "clean_up_local()\n",
    "\n",
    "# Write to Local File\n",
    "path = dir_here / \"data.json\"\n",
    "df.write_ndjson(str(path))\n",
    "print(f\"{path.exists() = }, {path.size_in_text = }\")"
   ]
  },
  {
   "cell_type": "markdown",
   "id": "8738c1af5cf583f6",
   "metadata": {
    "collapsed": false,
    "editable": true,
    "slideshow": {
     "slide_type": ""
    },
    "tags": []
   },
   "source": [
    "### Read from Local File"
   ]
  },
  {
   "cell_type": "code",
   "execution_count": 5,
   "id": "9b579d1bf799f508",
   "metadata": {
    "collapsed": false,
    "editable": true,
    "slideshow": {
     "slide_type": ""
    },
    "tags": [],
    "ExecuteTime": {
     "end_time": "2024-08-27T21:03:03.721290Z",
     "start_time": "2024-08-27T21:03:03.715419Z"
    }
   },
   "outputs": [
    {
     "data": {
      "text/plain": "shape: (1_000, 2)\n┌──────┬───────┐\n│ id   ┆ name  │\n│ ---  ┆ ---   │\n│ i64  ┆ str   │\n╞══════╪═══════╡\n│ 1    ┆ Alice │\n│ 2    ┆ Alice │\n│ 3    ┆ Alice │\n│ 4    ┆ Alice │\n│ 5    ┆ Alice │\n│ …    ┆ …     │\n│ 996  ┆ Alice │\n│ 997  ┆ Alice │\n│ 998  ┆ Alice │\n│ 999  ┆ Alice │\n│ 1000 ┆ Alice │\n└──────┴───────┘",
      "text/html": "<div><style>\n.dataframe > thead > tr,\n.dataframe > tbody > tr {\n  text-align: right;\n  white-space: pre-wrap;\n}\n</style>\n<small>shape: (1_000, 2)</small><table border=\"1\" class=\"dataframe\"><thead><tr><th>id</th><th>name</th></tr><tr><td>i64</td><td>str</td></tr></thead><tbody><tr><td>1</td><td>&quot;Alice&quot;</td></tr><tr><td>2</td><td>&quot;Alice&quot;</td></tr><tr><td>3</td><td>&quot;Alice&quot;</td></tr><tr><td>4</td><td>&quot;Alice&quot;</td></tr><tr><td>5</td><td>&quot;Alice&quot;</td></tr><tr><td>&hellip;</td><td>&hellip;</td></tr><tr><td>996</td><td>&quot;Alice&quot;</td></tr><tr><td>997</td><td>&quot;Alice&quot;</td></tr><tr><td>998</td><td>&quot;Alice&quot;</td></tr><tr><td>999</td><td>&quot;Alice&quot;</td></tr><tr><td>1000</td><td>&quot;Alice&quot;</td></tr></tbody></table></div>"
     },
     "execution_count": 5,
     "metadata": {},
     "output_type": "execute_result"
    }
   ],
   "source": [
    "# Read from Local File\n",
    "pl.read_ndjson(str(path))"
   ]
  },
  {
   "cell_type": "code",
   "execution_count": 6,
   "id": "603f80c4d711cd06",
   "metadata": {
    "collapsed": false,
    "editable": true,
    "slideshow": {
     "slide_type": ""
    },
    "tags": [],
    "ExecuteTime": {
     "end_time": "2024-08-27T21:03:03.723650Z",
     "start_time": "2024-08-27T21:03:03.719972Z"
    }
   },
   "outputs": [
    {
     "data": {
      "text/plain": "shape: (1_000, 2)\n┌──────┬───────┐\n│ id   ┆ name  │\n│ ---  ┆ ---   │\n│ i64  ┆ str   │\n╞══════╪═══════╡\n│ 1    ┆ Alice │\n│ 2    ┆ Alice │\n│ 3    ┆ Alice │\n│ 4    ┆ Alice │\n│ 5    ┆ Alice │\n│ …    ┆ …     │\n│ 996  ┆ Alice │\n│ 997  ┆ Alice │\n│ 998  ┆ Alice │\n│ 999  ┆ Alice │\n│ 1000 ┆ Alice │\n└──────┴───────┘",
      "text/html": "<div><style>\n.dataframe > thead > tr,\n.dataframe > tbody > tr {\n  text-align: right;\n  white-space: pre-wrap;\n}\n</style>\n<small>shape: (1_000, 2)</small><table border=\"1\" class=\"dataframe\"><thead><tr><th>id</th><th>name</th></tr><tr><td>i64</td><td>str</td></tr></thead><tbody><tr><td>1</td><td>&quot;Alice&quot;</td></tr><tr><td>2</td><td>&quot;Alice&quot;</td></tr><tr><td>3</td><td>&quot;Alice&quot;</td></tr><tr><td>4</td><td>&quot;Alice&quot;</td></tr><tr><td>5</td><td>&quot;Alice&quot;</td></tr><tr><td>&hellip;</td><td>&hellip;</td></tr><tr><td>996</td><td>&quot;Alice&quot;</td></tr><tr><td>997</td><td>&quot;Alice&quot;</td></tr><tr><td>998</td><td>&quot;Alice&quot;</td></tr><tr><td>999</td><td>&quot;Alice&quot;</td></tr><tr><td>1000</td><td>&quot;Alice&quot;</td></tr></tbody></table></div>"
     },
     "execution_count": 6,
     "metadata": {},
     "output_type": "execute_result"
    }
   ],
   "source": [
    "with path.open(\"rb\") as f:\n",
    "    df = pl.read_ndjson(f)\n",
    "df"
   ]
  },
  {
   "cell_type": "markdown",
   "id": "6e822801238bdbc7",
   "metadata": {
    "collapsed": false,
    "editable": true,
    "slideshow": {
     "slide_type": ""
    },
    "tags": []
   },
   "source": [
    "### Read from Multiple Files\n",
    "\n",
    "This example shows how to work with multiple files.\n",
    "\n",
    "``polars`` doesn't support automatically write big dataframe into multiple small files. You have to divide the dataframe into small ones and write them one by one. \n",
    "\n",
    "If you really want to do that, you can check [pyarrow.dataset.write_dataset](https://arrow.apache.org/docs/python/generated/pyarrow.dataset.write_dataset.html)\n",
    "\n",
    "Polars lazy API has a set of functions [polars.scan_${data_format}](https://docs.pola.rs/api/python/stable/search.html?q=polars.scan_) to read data from multiple files."
   ]
  },
  {
   "cell_type": "code",
   "execution_count": 7,
   "id": "24d5b60012194d77",
   "metadata": {
    "collapsed": false,
    "editable": true,
    "slideshow": {
     "slide_type": ""
    },
    "tags": [],
    "ExecuteTime": {
     "end_time": "2024-08-27T21:03:04.038482Z",
     "start_time": "2024-08-27T21:03:04.030513Z"
    }
   },
   "outputs": [
    {
     "data": {
      "text/plain": "shape: (3_000, 2)\n┌──────┬───────┐\n│ id   ┆ name  │\n│ ---  ┆ ---   │\n│ i64  ┆ str   │\n╞══════╪═══════╡\n│ 1    ┆ Alice │\n│ 2    ┆ Alice │\n│ 3    ┆ Alice │\n│ 4    ┆ Alice │\n│ 5    ┆ Alice │\n│ …    ┆ …     │\n│ 996  ┆ Alice │\n│ 997  ┆ Alice │\n│ 998  ┆ Alice │\n│ 999  ┆ Alice │\n│ 1000 ┆ Alice │\n└──────┴───────┘",
      "text/html": "<div><style>\n.dataframe > thead > tr,\n.dataframe > tbody > tr {\n  text-align: right;\n  white-space: pre-wrap;\n}\n</style>\n<small>shape: (3_000, 2)</small><table border=\"1\" class=\"dataframe\"><thead><tr><th>id</th><th>name</th></tr><tr><td>i64</td><td>str</td></tr></thead><tbody><tr><td>1</td><td>&quot;Alice&quot;</td></tr><tr><td>2</td><td>&quot;Alice&quot;</td></tr><tr><td>3</td><td>&quot;Alice&quot;</td></tr><tr><td>4</td><td>&quot;Alice&quot;</td></tr><tr><td>5</td><td>&quot;Alice&quot;</td></tr><tr><td>&hellip;</td><td>&hellip;</td></tr><tr><td>996</td><td>&quot;Alice&quot;</td></tr><tr><td>997</td><td>&quot;Alice&quot;</td></tr><tr><td>998</td><td>&quot;Alice&quot;</td></tr><tr><td>999</td><td>&quot;Alice&quot;</td></tr><tr><td>1000</td><td>&quot;Alice&quot;</td></tr></tbody></table></div>"
     },
     "execution_count": 7,
     "metadata": {},
     "output_type": "execute_result"
    }
   ],
   "source": [
    "clean_up_local()\n",
    "\n",
    "# Write to Local File\n",
    "for i in range(1, 1+3):\n",
    "    path = dir_here / f\"data{i}.json\"\n",
    "    df.write_ndjson(str(path))\n",
    "\n",
    "# Read from Local File\n",
    "pl.scan_ndjson(f\"{dir_here}/*.json\").collect()"
   ]
  },
  {
   "cell_type": "markdown",
   "id": "68075803c7930e8",
   "metadata": {
    "collapsed": false,
    "editable": true,
    "slideshow": {
     "slide_type": ""
    },
    "tags": []
   },
   "source": [
    "## Cloud Storage IO\n",
    "\n",
    "- 对于 Write 操作, 如果你要用 [Cloud storage](https://docs.pola.rs/user-guide/io/cloud-storage/) 官方文档中的 API, 那么 polars 依赖于 ``fsspec s3fs (for AWS) adlfs (for Azure) gcsfs (for GCP)`` 这些额外的依赖来提供 IO 层的抽象以及异步 API 调用. **但如果你愿意手动用** [io](https://docs.python.org/3/library/io.html) **库先将 binary 数据写入 buffer, 然后再用各个 Cloud 原生 API 将数据写入, 又或是先写入到本地文件后再用各个 Cloud 原生 API 上传, 那么你可以不依赖于 fsspec 系列库**.\n",
    "- 对于 Read 操作, polars 不依赖 ``fsspec`` 系列库 (也就间接不依赖于 ``aiobotocore`` 等库). 例如 [read_parquet](https://docs.pola.rs/api/python/stable/reference/api/polars.read_parquet.html), [scan_parquet](https://docs.pola.rs/api/python/stable/reference/api/polars.scan_parquet.html) (其他文件格式同理) 都有 ``storage_options`` 这个参数可供你控制 credentials, 以及底层的 API 调用.\n",
    "\n",
    "我其实不理解为什么 Write 操作不能像 Read 一样, 不依赖任何除了 Cloud 原生 SDK 以外的任何库, 可能会在新版本加入这一支持吧.\n",
    "\n",
    "Reference:\n",
    "\n",
    "- [Cloud storage](https://docs.pola.rs/user-guide/io/cloud-storage/)"
   ]
  },
  {
   "cell_type": "code",
   "execution_count": 8,
   "id": "30e59e7d7f58c7af",
   "metadata": {
    "collapsed": false,
    "editable": true,
    "slideshow": {
     "slide_type": ""
    },
    "tags": [],
    "ExecuteTime": {
     "end_time": "2024-08-27T21:03:04.286059Z",
     "start_time": "2024-08-27T21:03:04.283171Z"
    }
   },
   "outputs": [],
   "source": [
    "def clean_up_s3():\n",
    "    s3dir_root.delete()"
   ]
  },
  {
   "cell_type": "markdown",
   "id": "24685d342c90ebe9",
   "metadata": {
    "collapsed": false,
    "editable": true,
    "slideshow": {
     "slide_type": ""
    },
    "tags": []
   },
   "source": [
    "### Write to AWS S3"
   ]
  },
  {
   "cell_type": "markdown",
   "id": "f335f94f7dfa3ecd",
   "metadata": {
    "collapsed": false,
    "editable": true,
    "slideshow": {
     "slide_type": ""
    },
    "tags": []
   },
   "source": [
    "#### Method 1, use [io.BytesIO](https://docs.python.org/3/library/io.html#binary-i-o) "
   ]
  },
  {
   "cell_type": "code",
   "execution_count": 9,
   "id": "6a6b1450c0d3364a",
   "metadata": {
    "collapsed": false,
    "editable": true,
    "slideshow": {
     "slide_type": ""
    },
    "tags": [],
    "ExecuteTime": {
     "end_time": "2024-08-27T21:03:06.148540Z",
     "start_time": "2024-08-27T21:03:05.930389Z"
    }
   },
   "outputs": [
    {
     "name": "stdout",
     "output_type": "stream",
     "text": [
      "Write to s3://bmt-app-dev-us-east-1-data/projects/learn_polars/input-and-output/local-and-cloud/data.json\n",
      "preview at: https://console.aws.amazon.com/s3/object/bmt-app-dev-us-east-1-data?prefix=projects/learn_polars/input-and-output/local-and-cloud/data.json\n"
     ]
    }
   ],
   "source": [
    "# clean_up_s3()\n",
    "\n",
    "import io\n",
    "\n",
    "s3path_ndjson = s3dir_root / \"data.json\"\n",
    "buffer = io.BytesIO()\n",
    "df.write_ndjson(buffer)\n",
    "print(f\"Write to {s3path_ndjson.uri}\")\n",
    "s3path_ndjson.write_bytes(buffer.getvalue())\n",
    "print(f\"preview at: {s3path_ndjson.console_url}\")"
   ]
  },
  {
   "cell_type": "markdown",
   "id": "b955e42dd4bb97e9",
   "metadata": {
    "collapsed": false,
    "editable": true,
    "slideshow": {
     "slide_type": ""
    },
    "tags": []
   },
   "source": [
    "#### Method 2, write to local file then upload"
   ]
  },
  {
   "cell_type": "code",
   "execution_count": 10,
   "id": "e6324ca3d9557d33",
   "metadata": {
    "collapsed": false,
    "editable": true,
    "slideshow": {
     "slide_type": ""
    },
    "tags": [],
    "ExecuteTime": {
     "end_time": "2024-08-27T21:03:07.668404Z",
     "start_time": "2024-08-27T21:03:07.521774Z"
    }
   },
   "outputs": [
    {
     "name": "stdout",
     "output_type": "stream",
     "text": [
      "Write to 'data3.json'\n",
      "Upload to s3://bmt-app-dev-us-east-1-data/projects/learn_polars/input-and-output/local-and-cloud/data.parquet\n",
      "preview at: https://console.aws.amazon.com/s3/object/bmt-app-dev-us-east-1-data?prefix=projects/learn_polars/input-and-output/local-and-cloud/data.json\n"
     ]
    }
   ],
   "source": [
    "# clean_up_s3()\n",
    "\n",
    "path_parquet = dir_here / \"data.parquet\"\n",
    "s3path_parquet = s3dir_root / \"data.parquet\"\n",
    "print(f\"Write to {path.basename!r}\")\n",
    "df.write_parquet(str(path_parquet))\n",
    "print(f\"Upload to {s3path_parquet.uri}\")\n",
    "bsm.s3_client.upload_file(str(path_parquet), Bucket=bucket, Key=s3path_parquet.key)\n",
    "print(f\"preview at: {s3path_ndjson.console_url}\")"
   ]
  },
  {
   "cell_type": "markdown",
   "source": [
    "#### Method 3, use s3fs"
   ],
   "metadata": {
    "collapsed": false
   },
   "id": "84922d29f70ce7f4"
  },
  {
   "cell_type": "code",
   "outputs": [
    {
     "name": "stdout",
     "output_type": "stream",
     "text": [
      "Write to s3://bmt-app-dev-us-east-1-data/projects/learn_polars/input-and-output/local-and-cloud/data.csv\n",
      "preview at: https://console.aws.amazon.com/s3/object/bmt-app-dev-us-east-1-data?prefix=projects/learn_polars/input-and-output/local-and-cloud/data.csv\n"
     ]
    },
    {
     "name": "stderr",
     "output_type": "stream",
     "text": [
      "/var/folders/bl/vkmgjdsx5115w2xcnp67_8y40000gn/T/ipykernel_15112/4035855381.py:13: UserWarning: Polars found a filename. Ensure you pass a path to the file instead of a python file object when possible for best performance.\n",
      "  df.write_csv(f)\n"
     ]
    }
   ],
   "source": [
    "import s3fs\n",
    "\n",
    "# clean_up_s3()\n",
    "credentials = bsm.boto_ses.get_credentials()\n",
    "\n",
    "fs = s3fs.S3FileSystem(\n",
    "    key=credentials.access_key,\n",
    "    secret=credentials.secret_key,\n",
    ")\n",
    "s3path_csv = s3dir_root / \"data.csv\"\n",
    "print(f\"Write to {s3path_csv.uri}\")\n",
    "with fs.open(s3path_csv.uri, mode=\"wb\") as f:\n",
    "    df.write_csv(f)\n",
    "print(f\"preview at: {s3path_csv.console_url}\")"
   ],
   "metadata": {
    "collapsed": false,
    "ExecuteTime": {
     "end_time": "2024-08-27T21:04:34.332869Z",
     "start_time": "2024-08-27T21:04:34.131018Z"
    }
   },
   "id": "7a4e47bd3dad2402",
   "execution_count": 12
  },
  {
   "cell_type": "markdown",
   "id": "2785359bc4698e7d",
   "metadata": {
    "collapsed": false,
    "editable": true,
    "slideshow": {
     "slide_type": ""
    },
    "tags": []
   },
   "source": [
    "### Read from AWS S3"
   ]
  },
  {
   "cell_type": "code",
   "execution_count": 13,
   "id": "e87bb52b2c42fb44",
   "metadata": {
    "collapsed": false,
    "editable": true,
    "slideshow": {
     "slide_type": ""
    },
    "tags": [],
    "ExecuteTime": {
     "end_time": "2024-08-27T21:04:39.086110Z",
     "start_time": "2024-08-27T21:04:39.083421Z"
    }
   },
   "outputs": [],
   "source": [
    "def get_storage_options(boto_ses: \"boto3.Session\") -> dict:\n",
    "    credential = boto_ses.get_credentials()\n",
    "    storage_options = {\n",
    "        \"aws_region\": boto_ses.region_name,\n",
    "        \"aws_access_key_id\": credential.access_key,\n",
    "        \"aws_secret_access_key\": credential.secret_key,\n",
    "    }\n",
    "    if credential.token:\n",
    "        storage_options[\"aws_session_token\"] = credential.token\n",
    "    return storage_options\n"
   ]
  },
  {
   "cell_type": "markdown",
   "source": [
    "#### Read NDJSON"
   ],
   "metadata": {
    "collapsed": false
   },
   "id": "2e330a8e42f43d27"
  },
  {
   "cell_type": "code",
   "outputs": [
    {
     "name": "stdout",
     "output_type": "stream",
     "text": [
      "Generic S3 error: Client error with status 403 Forbidden: No Body\n"
     ]
    }
   ],
   "source": [
    "# This won't work because the default credential is bmt_app_test, \n",
    "# but the s3 object is on bmt_app_dev\n",
    "try:\n",
    "    df = pl.read_ndjson(s3path_ndjson.uri)\n",
    "except Exception as e:\n",
    "    print(e)"
   ],
   "metadata": {
    "collapsed": false,
    "ExecuteTime": {
     "end_time": "2024-08-27T21:11:42.160019Z",
     "start_time": "2024-08-27T21:11:41.933799Z"
    }
   },
   "id": "1f80b1bdec4cdf98",
   "execution_count": 25
  },
  {
   "cell_type": "code",
   "outputs": [
    {
     "ename": "ComputeError",
     "evalue": "Generic S3 error: Client error with status 403 Forbidden: No Body",
     "output_type": "error",
     "traceback": [
      "\u001B[0;31m---------------------------------------------------------------------------\u001B[0m",
      "\u001B[0;31mComputeError\u001B[0m                              Traceback (most recent call last)",
      "Cell \u001B[0;32mIn[41], line 3\u001B[0m\n\u001B[1;32m      1\u001B[0m \u001B[38;5;66;03m# This would work\u001B[39;00m\n\u001B[1;32m      2\u001B[0m storage_options \u001B[38;5;241m=\u001B[39m get_storage_options(bsm\u001B[38;5;241m.\u001B[39mboto_ses)\n\u001B[0;32m----> 3\u001B[0m df \u001B[38;5;241m=\u001B[39m \u001B[43mpl\u001B[49m\u001B[38;5;241;43m.\u001B[39;49m\u001B[43mread_ndjson\u001B[49m\u001B[43m(\u001B[49m\n\u001B[1;32m      4\u001B[0m \u001B[43m    \u001B[49m\u001B[43ms3path_ndjson\u001B[49m\u001B[38;5;241;43m.\u001B[39;49m\u001B[43muri\u001B[49m\u001B[43m,\u001B[49m\n\u001B[1;32m      5\u001B[0m \u001B[43m    \u001B[49m\u001B[43mstorage_options\u001B[49m\u001B[38;5;241;43m=\u001B[39;49m\u001B[43mstorage_options\u001B[49m\u001B[43m,\u001B[49m\n\u001B[1;32m      6\u001B[0m \u001B[43m)\u001B[49m\n\u001B[1;32m      7\u001B[0m df\n",
      "File \u001B[0;32m~/Documents/GitHub/learn_polars-project/.venv/lib/python3.10/site-packages/polars/io/ndjson.py:163\u001B[0m, in \u001B[0;36mread_ndjson\u001B[0;34m(source, schema, schema_overrides, infer_schema_length, batch_size, n_rows, low_memory, rechunk, row_index_name, row_index_offset, ignore_errors, storage_options, retries, file_cache_ttl, include_file_paths)\u001B[0m\n\u001B[1;32m    143\u001B[0m         df \u001B[38;5;241m=\u001B[39m df\u001B[38;5;241m.\u001B[39mhead(n_rows)\n\u001B[1;32m    145\u001B[0m     \u001B[38;5;28;01mreturn\u001B[39;00m df\n\u001B[1;32m    147\u001B[0m \u001B[38;5;28;01mreturn\u001B[39;00m \u001B[43mscan_ndjson\u001B[49m\u001B[43m(\u001B[49m\n\u001B[1;32m    148\u001B[0m \u001B[43m    \u001B[49m\u001B[43msource\u001B[49m\u001B[43m,\u001B[49m\u001B[43m  \u001B[49m\u001B[38;5;66;43;03m# type: ignore[arg-type]\u001B[39;49;00m\n\u001B[1;32m    149\u001B[0m \u001B[43m    \u001B[49m\u001B[43mschema\u001B[49m\u001B[38;5;241;43m=\u001B[39;49m\u001B[43mschema\u001B[49m\u001B[43m,\u001B[49m\n\u001B[1;32m    150\u001B[0m \u001B[43m    \u001B[49m\u001B[43mschema_overrides\u001B[49m\u001B[38;5;241;43m=\u001B[39;49m\u001B[43mschema_overrides\u001B[49m\u001B[43m,\u001B[49m\n\u001B[1;32m    151\u001B[0m \u001B[43m    \u001B[49m\u001B[43minfer_schema_length\u001B[49m\u001B[38;5;241;43m=\u001B[39;49m\u001B[43minfer_schema_length\u001B[49m\u001B[43m,\u001B[49m\n\u001B[1;32m    152\u001B[0m \u001B[43m    \u001B[49m\u001B[43mbatch_size\u001B[49m\u001B[38;5;241;43m=\u001B[39;49m\u001B[43mbatch_size\u001B[49m\u001B[43m,\u001B[49m\n\u001B[1;32m    153\u001B[0m \u001B[43m    \u001B[49m\u001B[43mn_rows\u001B[49m\u001B[38;5;241;43m=\u001B[39;49m\u001B[43mn_rows\u001B[49m\u001B[43m,\u001B[49m\n\u001B[1;32m    154\u001B[0m \u001B[43m    \u001B[49m\u001B[43mlow_memory\u001B[49m\u001B[38;5;241;43m=\u001B[39;49m\u001B[43mlow_memory\u001B[49m\u001B[43m,\u001B[49m\n\u001B[1;32m    155\u001B[0m \u001B[43m    \u001B[49m\u001B[43mrechunk\u001B[49m\u001B[38;5;241;43m=\u001B[39;49m\u001B[43mrechunk\u001B[49m\u001B[43m,\u001B[49m\n\u001B[1;32m    156\u001B[0m \u001B[43m    \u001B[49m\u001B[43mrow_index_name\u001B[49m\u001B[38;5;241;43m=\u001B[39;49m\u001B[43mrow_index_name\u001B[49m\u001B[43m,\u001B[49m\n\u001B[1;32m    157\u001B[0m \u001B[43m    \u001B[49m\u001B[43mrow_index_offset\u001B[49m\u001B[38;5;241;43m=\u001B[39;49m\u001B[43mrow_index_offset\u001B[49m\u001B[43m,\u001B[49m\n\u001B[1;32m    158\u001B[0m \u001B[43m    \u001B[49m\u001B[43mignore_errors\u001B[49m\u001B[38;5;241;43m=\u001B[39;49m\u001B[43mignore_errors\u001B[49m\u001B[43m,\u001B[49m\n\u001B[1;32m    159\u001B[0m \u001B[43m    \u001B[49m\u001B[43minclude_file_paths\u001B[49m\u001B[38;5;241;43m=\u001B[39;49m\u001B[43minclude_file_paths\u001B[49m\u001B[43m,\u001B[49m\n\u001B[1;32m    160\u001B[0m \u001B[43m    \u001B[49m\u001B[43mretries\u001B[49m\u001B[38;5;241;43m=\u001B[39;49m\u001B[43mretries\u001B[49m\u001B[43m,\u001B[49m\n\u001B[1;32m    161\u001B[0m \u001B[43m    \u001B[49m\u001B[43mstorage_options\u001B[49m\u001B[38;5;241;43m=\u001B[39;49m\u001B[43mstorage_options\u001B[49m\u001B[43m,\u001B[49m\n\u001B[1;32m    162\u001B[0m \u001B[43m    \u001B[49m\u001B[43mfile_cache_ttl\u001B[49m\u001B[38;5;241;43m=\u001B[39;49m\u001B[43mfile_cache_ttl\u001B[49m\u001B[43m,\u001B[49m\n\u001B[0;32m--> 163\u001B[0m \u001B[43m\u001B[49m\u001B[43m)\u001B[49m\u001B[38;5;241;43m.\u001B[39;49m\u001B[43mcollect\u001B[49m\u001B[43m(\u001B[49m\u001B[43m)\u001B[49m\n",
      "File \u001B[0;32m~/Documents/GitHub/learn_polars-project/.venv/lib/python3.10/site-packages/polars/lazyframe/frame.py:2027\u001B[0m, in \u001B[0;36mLazyFrame.collect\u001B[0;34m(self, type_coercion, predicate_pushdown, projection_pushdown, simplify_expression, slice_pushdown, comm_subplan_elim, comm_subexpr_elim, cluster_with_columns, no_optimization, streaming, engine, background, _eager, **_kwargs)\u001B[0m\n\u001B[1;32m   2025\u001B[0m \u001B[38;5;66;03m# Only for testing purposes\u001B[39;00m\n\u001B[1;32m   2026\u001B[0m callback \u001B[38;5;241m=\u001B[39m _kwargs\u001B[38;5;241m.\u001B[39mget(\u001B[38;5;124m\"\u001B[39m\u001B[38;5;124mpost_opt_callback\u001B[39m\u001B[38;5;124m\"\u001B[39m, callback)\n\u001B[0;32m-> 2027\u001B[0m \u001B[38;5;28;01mreturn\u001B[39;00m wrap_df(\u001B[43mldf\u001B[49m\u001B[38;5;241;43m.\u001B[39;49m\u001B[43mcollect\u001B[49m\u001B[43m(\u001B[49m\u001B[43mcallback\u001B[49m\u001B[43m)\u001B[49m)\n",
      "\u001B[0;31mComputeError\u001B[0m: Generic S3 error: Client error with status 403 Forbidden: No Body"
     ]
    }
   ],
   "source": [
    "# This doesn't work\n",
    "storage_options = get_storage_options(bsm.boto_ses)\n",
    "df = pl.read_ndjson(\n",
    "    s3path_ndjson.uri,\n",
    "    storage_options=storage_options,\n",
    ")\n",
    "df"
   ],
   "metadata": {
    "collapsed": false,
    "ExecuteTime": {
     "end_time": "2024-08-27T20:58:20.513976Z",
     "start_time": "2024-08-27T20:58:20.403248Z"
    }
   },
   "id": "5ad9c51a9edf5d",
   "execution_count": 41
  },
  {
   "cell_type": "code",
   "outputs": [
    {
     "ename": "ComputeError",
     "evalue": "Generic S3 error: Client error with status 403 Forbidden: No Body",
     "output_type": "error",
     "traceback": [
      "\u001B[0;31m---------------------------------------------------------------------------\u001B[0m",
      "\u001B[0;31mComputeError\u001B[0m                              Traceback (most recent call last)",
      "Cell \u001B[0;32mIn[28], line 6\u001B[0m\n\u001B[1;32m      1\u001B[0m \u001B[38;5;66;03m# This doesn't work\u001B[39;00m\n\u001B[1;32m      2\u001B[0m storage_options \u001B[38;5;241m=\u001B[39m get_storage_options(bsm\u001B[38;5;241m.\u001B[39mboto_ses)\n\u001B[1;32m      3\u001B[0m df \u001B[38;5;241m=\u001B[39m \u001B[43mpl\u001B[49m\u001B[38;5;241;43m.\u001B[39;49m\u001B[43mscan_ndjson\u001B[49m\u001B[43m(\u001B[49m\n\u001B[1;32m      4\u001B[0m \u001B[43m    \u001B[49m\u001B[43ms3path_ndjson\u001B[49m\u001B[38;5;241;43m.\u001B[39;49m\u001B[43muri\u001B[49m\u001B[43m,\u001B[49m\n\u001B[1;32m      5\u001B[0m \u001B[43m    \u001B[49m\u001B[43mstorage_options\u001B[49m\u001B[38;5;241;43m=\u001B[39;49m\u001B[43mstorage_options\u001B[49m\u001B[43m,\u001B[49m\n\u001B[0;32m----> 6\u001B[0m \u001B[43m)\u001B[49m\u001B[38;5;241;43m.\u001B[39;49m\u001B[43mcollect\u001B[49m\u001B[43m(\u001B[49m\u001B[43m)\u001B[49m\n\u001B[1;32m      7\u001B[0m df\n",
      "File \u001B[0;32m~/Documents/GitHub/learn_polars-project/.venv/lib/python3.10/site-packages/polars/lazyframe/frame.py:2027\u001B[0m, in \u001B[0;36mLazyFrame.collect\u001B[0;34m(self, type_coercion, predicate_pushdown, projection_pushdown, simplify_expression, slice_pushdown, comm_subplan_elim, comm_subexpr_elim, cluster_with_columns, no_optimization, streaming, engine, background, _eager, **_kwargs)\u001B[0m\n\u001B[1;32m   2025\u001B[0m \u001B[38;5;66;03m# Only for testing purposes\u001B[39;00m\n\u001B[1;32m   2026\u001B[0m callback \u001B[38;5;241m=\u001B[39m _kwargs\u001B[38;5;241m.\u001B[39mget(\u001B[38;5;124m\"\u001B[39m\u001B[38;5;124mpost_opt_callback\u001B[39m\u001B[38;5;124m\"\u001B[39m, callback)\n\u001B[0;32m-> 2027\u001B[0m \u001B[38;5;28;01mreturn\u001B[39;00m wrap_df(\u001B[43mldf\u001B[49m\u001B[38;5;241;43m.\u001B[39;49m\u001B[43mcollect\u001B[49m\u001B[43m(\u001B[49m\u001B[43mcallback\u001B[49m\u001B[43m)\u001B[49m)\n",
      "\u001B[0;31mComputeError\u001B[0m: Generic S3 error: Client error with status 403 Forbidden: No Body"
     ]
    }
   ],
   "source": [
    "# This doesn't work\n",
    "storage_options = get_storage_options(bsm.boto_ses)\n",
    "df = pl.scan_ndjson(\n",
    "    s3path_ndjson.uri,\n",
    "    storage_options=storage_options,\n",
    ").collect()\n",
    "df"
   ],
   "metadata": {
    "collapsed": false,
    "ExecuteTime": {
     "end_time": "2024-08-27T21:14:23.409426Z",
     "start_time": "2024-08-27T21:14:23.373045Z"
    }
   },
   "id": "b6496194b8d63177",
   "execution_count": 28
  },
  {
   "cell_type": "code",
   "outputs": [
    {
     "name": "stdout",
     "output_type": "stream",
     "text": [
      "Generic S3 error: Client error with status 403 Forbidden: No Body\n"
     ]
    }
   ],
   "source": [
    "# This won't work\n",
    "credential = bsm.boto_ses.get_credentials()\n",
    "os.environ[\"AWS_REGION\"] = bsm.aws_region\n",
    "os.environ[\"AWS_ACCESS_KEY_ID\"] = credential.access_key\n",
    "os.environ[\"AWS_SECRET_ACCESS_KEY\"] = credential.secret_key\n",
    "try:\n",
    "    df = pl.read_parquet(\n",
    "        s3path_ndjson.uri,\n",
    "    )\n",
    "except Exception as e:\n",
    "    print(e)"
   ],
   "metadata": {
    "collapsed": false,
    "ExecuteTime": {
     "end_time": "2024-08-27T20:57:56.733370Z",
     "start_time": "2024-08-27T20:57:56.709444Z"
    }
   },
   "id": "5e182d46471eb9bc",
   "execution_count": 36
  },
  {
   "cell_type": "markdown",
   "source": [
    "#### Read Parquet\n",
    "\n",
    "**结论**\n",
    "\n",
    "- scan_parquet 和 read_parquet 都能用, 但推荐使用 scan_parquet."
   ],
   "metadata": {
    "collapsed": false
   },
   "id": "67b2598d0423a26a"
  },
  {
   "cell_type": "code",
   "outputs": [
    {
     "name": "stdout",
     "output_type": "stream",
     "text": [
      "Generic S3 error: Client error with status 403 Forbidden: No Body\n"
     ]
    }
   ],
   "source": [
    "# This won't work because the default credential is bmt_app_test, \n",
    "# but the s3 object is on bmt_app_dev\n",
    "try:\n",
    "    df = pl.read_parquet(s3path_parquet.uri)\n",
    "except Exception as e:\n",
    "    print(e)"
   ],
   "metadata": {
    "collapsed": false,
    "ExecuteTime": {
     "end_time": "2024-08-27T20:57:57.951612Z",
     "start_time": "2024-08-27T20:57:57.919500Z"
    }
   },
   "id": "8a82db1460d97d8d",
   "execution_count": 37
  },
  {
   "cell_type": "code",
   "outputs": [
    {
     "data": {
      "text/plain": "shape: (1_000, 3)\n┌──────┬───────┬────────────────┐\n│ id   ┆ name  ┆ details        │\n│ ---  ┆ ---   ┆ ---            │\n│ i64  ┆ str   ┆ struct[1]      │\n╞══════╪═══════╪════════════════╡\n│ 1    ┆ Alice ┆ {\"2000-01-01\"} │\n│ 2    ┆ Alice ┆ {\"2000-01-01\"} │\n│ 3    ┆ Alice ┆ {\"2000-01-01\"} │\n│ 4    ┆ Alice ┆ {\"2000-01-01\"} │\n│ 5    ┆ Alice ┆ {\"2000-01-01\"} │\n│ …    ┆ …     ┆ …              │\n│ 996  ┆ Alice ┆ {\"2000-01-01\"} │\n│ 997  ┆ Alice ┆ {\"2000-01-01\"} │\n│ 998  ┆ Alice ┆ {\"2000-01-01\"} │\n│ 999  ┆ Alice ┆ {\"2000-01-01\"} │\n│ 1000 ┆ Alice ┆ {\"2000-01-01\"} │\n└──────┴───────┴────────────────┘",
      "text/html": "<div><style>\n.dataframe > thead > tr,\n.dataframe > tbody > tr {\n  text-align: right;\n  white-space: pre-wrap;\n}\n</style>\n<small>shape: (1_000, 3)</small><table border=\"1\" class=\"dataframe\"><thead><tr><th>id</th><th>name</th><th>details</th></tr><tr><td>i64</td><td>str</td><td>struct[1]</td></tr></thead><tbody><tr><td>1</td><td>&quot;Alice&quot;</td><td>{&quot;2000-01-01&quot;}</td></tr><tr><td>2</td><td>&quot;Alice&quot;</td><td>{&quot;2000-01-01&quot;}</td></tr><tr><td>3</td><td>&quot;Alice&quot;</td><td>{&quot;2000-01-01&quot;}</td></tr><tr><td>4</td><td>&quot;Alice&quot;</td><td>{&quot;2000-01-01&quot;}</td></tr><tr><td>5</td><td>&quot;Alice&quot;</td><td>{&quot;2000-01-01&quot;}</td></tr><tr><td>&hellip;</td><td>&hellip;</td><td>&hellip;</td></tr><tr><td>996</td><td>&quot;Alice&quot;</td><td>{&quot;2000-01-01&quot;}</td></tr><tr><td>997</td><td>&quot;Alice&quot;</td><td>{&quot;2000-01-01&quot;}</td></tr><tr><td>998</td><td>&quot;Alice&quot;</td><td>{&quot;2000-01-01&quot;}</td></tr><tr><td>999</td><td>&quot;Alice&quot;</td><td>{&quot;2000-01-01&quot;}</td></tr><tr><td>1000</td><td>&quot;Alice&quot;</td><td>{&quot;2000-01-01&quot;}</td></tr></tbody></table></div>"
     },
     "execution_count": 38,
     "metadata": {},
     "output_type": "execute_result"
    }
   ],
   "source": [
    "# This would work\n",
    "storage_options = get_storage_options(bsm.boto_ses)\n",
    "df = pl.read_parquet(\n",
    "    s3path_parquet.uri,\n",
    "    storage_options=storage_options,\n",
    ")\n",
    "df"
   ],
   "metadata": {
    "collapsed": false,
    "ExecuteTime": {
     "end_time": "2024-08-27T20:57:59.210784Z",
     "start_time": "2024-08-27T20:57:59.042062Z"
    }
   },
   "id": "e8a6755dc52b13e2",
   "execution_count": 38
  },
  {
   "cell_type": "code",
   "outputs": [
    {
     "data": {
      "text/plain": "shape: (1_000, 2)\n┌──────┬───────┐\n│ id   ┆ name  │\n│ ---  ┆ ---   │\n│ i64  ┆ str   │\n╞══════╪═══════╡\n│ 1    ┆ Alice │\n│ 2    ┆ Alice │\n│ 3    ┆ Alice │\n│ 4    ┆ Alice │\n│ 5    ┆ Alice │\n│ …    ┆ …     │\n│ 996  ┆ Alice │\n│ 997  ┆ Alice │\n│ 998  ┆ Alice │\n│ 999  ┆ Alice │\n│ 1000 ┆ Alice │\n└──────┴───────┘",
      "text/html": "<div><style>\n.dataframe > thead > tr,\n.dataframe > tbody > tr {\n  text-align: right;\n  white-space: pre-wrap;\n}\n</style>\n<small>shape: (1_000, 2)</small><table border=\"1\" class=\"dataframe\"><thead><tr><th>id</th><th>name</th></tr><tr><td>i64</td><td>str</td></tr></thead><tbody><tr><td>1</td><td>&quot;Alice&quot;</td></tr><tr><td>2</td><td>&quot;Alice&quot;</td></tr><tr><td>3</td><td>&quot;Alice&quot;</td></tr><tr><td>4</td><td>&quot;Alice&quot;</td></tr><tr><td>5</td><td>&quot;Alice&quot;</td></tr><tr><td>&hellip;</td><td>&hellip;</td></tr><tr><td>996</td><td>&quot;Alice&quot;</td></tr><tr><td>997</td><td>&quot;Alice&quot;</td></tr><tr><td>998</td><td>&quot;Alice&quot;</td></tr><tr><td>999</td><td>&quot;Alice&quot;</td></tr><tr><td>1000</td><td>&quot;Alice&quot;</td></tr></tbody></table></div>"
     },
     "execution_count": 24,
     "metadata": {},
     "output_type": "execute_result"
    }
   ],
   "source": [
    "# This would work\n",
    "storage_options = get_storage_options(bsm.boto_ses)\n",
    "df = pl.scan_parquet(\n",
    "    s3path_parquet.uri,\n",
    "    storage_options=storage_options,\n",
    ").collect()\n",
    "df"
   ],
   "metadata": {
    "collapsed": false,
    "ExecuteTime": {
     "end_time": "2024-08-27T21:10:19.996716Z",
     "start_time": "2024-08-27T21:10:19.737415Z"
    }
   },
   "id": "3c1185f9fcda6db6",
   "execution_count": 24
  },
  {
   "cell_type": "code",
   "execution_count": 39,
   "id": "ec1cce5f437c8e30",
   "metadata": {
    "collapsed": false,
    "ExecuteTime": {
     "end_time": "2024-08-27T20:57:59.537900Z",
     "start_time": "2024-08-27T20:57:59.514403Z"
    }
   },
   "outputs": [
    {
     "name": "stdout",
     "output_type": "stream",
     "text": [
      "Generic S3 error: Client error with status 403 Forbidden: No Body\n"
     ]
    }
   ],
   "source": [
    "# This won't work\n",
    "credential = bsm.boto_ses.get_credentials()\n",
    "os.environ[\"AWS_REGION\"] = bsm.aws_region\n",
    "os.environ[\"AWS_ACCESS_KEY_ID\"] = credential.access_key\n",
    "os.environ[\"AWS_SECRET_ACCESS_KEY\"] = credential.secret_key\n",
    "try:\n",
    "    df = pl.read_parquet(\n",
    "        s3path_parquet.uri,\n",
    "    )\n",
    "except Exception as e:\n",
    "    print(e)"
   ]
  },
  {
   "cell_type": "markdown",
   "source": [
    "#### Read CSV\n",
    "\n",
    "结论:\n",
    "\n",
    "- 推荐使用 scan_csv 而不是 read_csv. read_csv 对 storage options 的支持不好."
   ],
   "metadata": {
    "collapsed": false
   },
   "id": "8f554b8f15bf336"
  },
  {
   "cell_type": "code",
   "outputs": [
    {
     "name": "stdout",
     "output_type": "stream",
     "text": [
      "Forbidden\n"
     ]
    }
   ],
   "source": [
    "# This won't work because the default credential is bmt_app_test, \n",
    "# but the s3 object is on bmt_app_dev\n",
    "try:\n",
    "    df = pl.read_csv(s3path_csv.uri)\n",
    "    print(df)\n",
    "except Exception as e:\n",
    "    print(e)"
   ],
   "metadata": {
    "collapsed": false,
    "ExecuteTime": {
     "end_time": "2024-08-27T21:08:52.915843Z",
     "start_time": "2024-08-27T21:08:52.806997Z"
    }
   },
   "id": "65fd1dc4ed825a6b",
   "execution_count": 20
  },
  {
   "cell_type": "code",
   "outputs": [
    {
     "name": "stdout",
     "output_type": "stream",
     "text": [
      "AioSession.__init__() got an unexpected keyword argument 'aws_region'\n"
     ]
    }
   ],
   "source": [
    "# This doesn't work\n",
    "try:\n",
    "    storage_options = get_storage_options(bsm.boto_ses)\n",
    "    df = pl.read_csv(\n",
    "        s3path_csv.uri,\n",
    "        storage_options=storage_options,\n",
    "    )\n",
    "    df\n",
    "except Exception as e:\n",
    "    print(e)"
   ],
   "metadata": {
    "collapsed": false,
    "ExecuteTime": {
     "end_time": "2024-08-27T21:09:27.641263Z",
     "start_time": "2024-08-27T21:09:27.636111Z"
    }
   },
   "id": "808c3bc382a8c7f4",
   "execution_count": 22
  },
  {
   "cell_type": "code",
   "outputs": [
    {
     "data": {
      "text/plain": "shape: (1_000, 2)\n┌──────┬───────┐\n│ id   ┆ name  │\n│ ---  ┆ ---   │\n│ i64  ┆ str   │\n╞══════╪═══════╡\n│ 1    ┆ Alice │\n│ 2    ┆ Alice │\n│ 3    ┆ Alice │\n│ 4    ┆ Alice │\n│ 5    ┆ Alice │\n│ …    ┆ …     │\n│ 996  ┆ Alice │\n│ 997  ┆ Alice │\n│ 998  ┆ Alice │\n│ 999  ┆ Alice │\n│ 1000 ┆ Alice │\n└──────┴───────┘",
      "text/html": "<div><style>\n.dataframe > thead > tr,\n.dataframe > tbody > tr {\n  text-align: right;\n  white-space: pre-wrap;\n}\n</style>\n<small>shape: (1_000, 2)</small><table border=\"1\" class=\"dataframe\"><thead><tr><th>id</th><th>name</th></tr><tr><td>i64</td><td>str</td></tr></thead><tbody><tr><td>1</td><td>&quot;Alice&quot;</td></tr><tr><td>2</td><td>&quot;Alice&quot;</td></tr><tr><td>3</td><td>&quot;Alice&quot;</td></tr><tr><td>4</td><td>&quot;Alice&quot;</td></tr><tr><td>5</td><td>&quot;Alice&quot;</td></tr><tr><td>&hellip;</td><td>&hellip;</td></tr><tr><td>996</td><td>&quot;Alice&quot;</td></tr><tr><td>997</td><td>&quot;Alice&quot;</td></tr><tr><td>998</td><td>&quot;Alice&quot;</td></tr><tr><td>999</td><td>&quot;Alice&quot;</td></tr><tr><td>1000</td><td>&quot;Alice&quot;</td></tr></tbody></table></div>"
     },
     "execution_count": 23,
     "metadata": {},
     "output_type": "execute_result"
    }
   ],
   "source": [
    "# This would work\n",
    "storage_options = get_storage_options(bsm.boto_ses)\n",
    "df = pl.scan_csv(\n",
    "    s3path_csv.uri,\n",
    "    storage_options=storage_options,\n",
    ").collect()\n",
    "df"
   ],
   "metadata": {
    "collapsed": false,
    "ExecuteTime": {
     "end_time": "2024-08-27T21:09:34.889549Z",
     "start_time": "2024-08-27T21:09:34.790755Z"
    }
   },
   "id": "1cb6263ca3b7fdb",
   "execution_count": 23
  },
  {
   "cell_type": "code",
   "outputs": [],
   "source": [],
   "metadata": {
    "collapsed": false
   },
   "id": "bd8efbd4fef19fab"
  }
 ],
 "metadata": {
  "kernelspec": {
   "display_name": "Python 3 (ipykernel)",
   "language": "python",
   "name": "python3"
  },
  "language_info": {
   "codemirror_mode": {
    "name": "ipython",
    "version": 3
   },
   "file_extension": ".py",
   "mimetype": "text/x-python",
   "name": "python",
   "nbconvert_exporter": "python",
   "pygments_lexer": "ipython3",
   "version": "3.10.10"
  }
 },
 "nbformat": 4,
 "nbformat_minor": 5
}
