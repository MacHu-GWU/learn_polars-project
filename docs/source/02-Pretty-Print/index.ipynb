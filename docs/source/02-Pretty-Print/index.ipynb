{
 "cells": [
  {
   "cell_type": "markdown",
   "id": "fd7dd1441d34381",
   "metadata": {
    "collapsed": false,
    "jupyter": {
     "outputs_hidden": false
    }
   },
   "source": [
    "# Pretty Print a DataFrame"
   ]
  },
  {
   "cell_type": "code",
   "execution_count": 34,
   "id": "1eb45b8d4bbc66bd",
   "metadata": {
    "ExecuteTime": {
     "end_time": "2024-08-02T14:58:59.507036Z",
     "start_time": "2024-08-02T14:58:59.500761Z"
    },
    "collapsed": false,
    "jupyter": {
     "outputs_hidden": false
    }
   },
   "outputs": [
    {
     "data": {
      "text/html": [
       "<div><style>\n",
       ".dataframe > thead > tr,\n",
       ".dataframe > tbody > tr {\n",
       "  text-align: right;\n",
       "  white-space: pre-wrap;\n",
       "}\n",
       "</style>\n",
       "<small>shape: (9, 3)</small><table border=\"1\" class=\"dataframe\"><thead><tr><th>id</th><th>name</th><th>details</th></tr><tr><td>i64</td><td>str</td><td>struct[2]</td></tr></thead><tbody><tr><td>1</td><td>&quot;Name-1&quot;</td><td>{&quot;111-222-3333&quot;,&quot;SSN-1&quot;}</td></tr><tr><td>1</td><td>&quot;Name-2&quot;</td><td>{&quot;111-222-3333&quot;,&quot;SSN-2&quot;}</td></tr><tr><td>1</td><td>&quot;Name-3&quot;</td><td>{&quot;111-222-3333&quot;,&quot;SSN-3&quot;}</td></tr><tr><td>1</td><td>&quot;Name-4&quot;</td><td>{&quot;111-222-3333&quot;,&quot;SSN-4&quot;}</td></tr><tr><td>1</td><td>&quot;Name-5&quot;</td><td>{&quot;111-222-3333&quot;,&quot;SSN-5&quot;}</td></tr><tr><td>1</td><td>&quot;Name-6&quot;</td><td>{&quot;111-222-3333&quot;,&quot;SSN-6&quot;}</td></tr><tr><td>1</td><td>&quot;Name-7&quot;</td><td>{&quot;111-222-3333&quot;,&quot;SSN-7&quot;}</td></tr><tr><td>1</td><td>&quot;Name-8&quot;</td><td>{&quot;111-222-3333&quot;,&quot;SSN-8&quot;}</td></tr><tr><td>1</td><td>&quot;Name-9&quot;</td><td>{&quot;111-222-3333&quot;,&quot;SSN-9&quot;}</td></tr></tbody></table></div>"
      ],
      "text/plain": [
       "shape: (9, 3)\n",
       "┌─────┬────────┬──────────────────────────┐\n",
       "│ id  ┆ name   ┆ details                  │\n",
       "│ --- ┆ ---    ┆ ---                      │\n",
       "│ i64 ┆ str    ┆ struct[2]                │\n",
       "╞═════╪════════╪══════════════════════════╡\n",
       "│ 1   ┆ Name-1 ┆ {\"111-222-3333\",\"SSN-1\"} │\n",
       "│ 1   ┆ Name-2 ┆ {\"111-222-3333\",\"SSN-2\"} │\n",
       "│ 1   ┆ Name-3 ┆ {\"111-222-3333\",\"SSN-3\"} │\n",
       "│ 1   ┆ Name-4 ┆ {\"111-222-3333\",\"SSN-4\"} │\n",
       "│ 1   ┆ Name-5 ┆ {\"111-222-3333\",\"SSN-5\"} │\n",
       "│ 1   ┆ Name-6 ┆ {\"111-222-3333\",\"SSN-6\"} │\n",
       "│ 1   ┆ Name-7 ┆ {\"111-222-3333\",\"SSN-7\"} │\n",
       "│ 1   ┆ Name-8 ┆ {\"111-222-3333\",\"SSN-8\"} │\n",
       "│ 1   ┆ Name-9 ┆ {\"111-222-3333\",\"SSN-9\"} │\n",
       "└─────┴────────┴──────────────────────────┘"
      ]
     },
     "execution_count": 34,
     "metadata": {},
     "output_type": "execute_result"
    }
   ],
   "source": [
    "import polars as pl\n",
    "\n",
    "data = [\n",
    "    {\"id\": 1, \"name\": f\"Name-{i}\", \"details\": {\"Phone\": \"111-222-3333\", \"SSN\": f\"SSN-{i}\"}}\n",
    "    for i in range(1, 10)\n",
    "]\n",
    "df = pl.DataFrame(data)\n",
    "df"
   ]
  },
  {
   "cell_type": "markdown",
   "id": "1f146ec744e0b2ee",
   "metadata": {
    "collapsed": false,
    "jupyter": {
     "outputs_hidden": false
    }
   },
   "source": [
    "## Print the Polars DataFrame as it is"
   ]
  },
  {
   "cell_type": "code",
   "execution_count": 35,
   "id": "a476387f3c3f56a3",
   "metadata": {
    "ExecuteTime": {
     "end_time": "2024-08-02T14:58:59.979960Z",
     "start_time": "2024-08-02T14:58:59.977420Z"
    },
    "collapsed": false,
    "jupyter": {
     "outputs_hidden": false
    }
   },
   "outputs": [
    {
     "data": {
      "text/html": [
       "<div><style>\n",
       ".dataframe > thead > tr,\n",
       ".dataframe > tbody > tr {\n",
       "  text-align: right;\n",
       "  white-space: pre-wrap;\n",
       "}\n",
       "</style>\n",
       "<small>shape: (9, 3)</small><table border=\"1\" class=\"dataframe\"><thead><tr><th>id</th><th>name</th><th>details</th></tr><tr><td>i64</td><td>str</td><td>struct[2]</td></tr></thead><tbody><tr><td>1</td><td>&quot;Name-1&quot;</td><td>{&quot;111-222-3333&quot;,&quot;SSN-1&quot;}</td></tr><tr><td>1</td><td>&quot;Name-2&quot;</td><td>{&quot;111-222-3333&quot;,&quot;SSN-2&quot;}</td></tr><tr><td>1</td><td>&quot;Name-3&quot;</td><td>{&quot;111-222-3333&quot;,&quot;SSN-3&quot;}</td></tr><tr><td>1</td><td>&quot;Name-4&quot;</td><td>{&quot;111-222-3333&quot;,&quot;SSN-4&quot;}</td></tr><tr><td>1</td><td>&quot;Name-5&quot;</td><td>{&quot;111-222-3333&quot;,&quot;SSN-5&quot;}</td></tr><tr><td>1</td><td>&quot;Name-6&quot;</td><td>{&quot;111-222-3333&quot;,&quot;SSN-6&quot;}</td></tr><tr><td>1</td><td>&quot;Name-7&quot;</td><td>{&quot;111-222-3333&quot;,&quot;SSN-7&quot;}</td></tr><tr><td>1</td><td>&quot;Name-8&quot;</td><td>{&quot;111-222-3333&quot;,&quot;SSN-8&quot;}</td></tr><tr><td>1</td><td>&quot;Name-9&quot;</td><td>{&quot;111-222-3333&quot;,&quot;SSN-9&quot;}</td></tr></tbody></table></div>"
      ],
      "text/plain": [
       "shape: (9, 3)\n",
       "┌─────┬────────┬──────────────────────────┐\n",
       "│ id  ┆ name   ┆ details                  │\n",
       "│ --- ┆ ---    ┆ ---                      │\n",
       "│ i64 ┆ str    ┆ struct[2]                │\n",
       "╞═════╪════════╪══════════════════════════╡\n",
       "│ 1   ┆ Name-1 ┆ {\"111-222-3333\",\"SSN-1\"} │\n",
       "│ 1   ┆ Name-2 ┆ {\"111-222-3333\",\"SSN-2\"} │\n",
       "│ 1   ┆ Name-3 ┆ {\"111-222-3333\",\"SSN-3\"} │\n",
       "│ 1   ┆ Name-4 ┆ {\"111-222-3333\",\"SSN-4\"} │\n",
       "│ 1   ┆ Name-5 ┆ {\"111-222-3333\",\"SSN-5\"} │\n",
       "│ 1   ┆ Name-6 ┆ {\"111-222-3333\",\"SSN-6\"} │\n",
       "│ 1   ┆ Name-7 ┆ {\"111-222-3333\",\"SSN-7\"} │\n",
       "│ 1   ┆ Name-8 ┆ {\"111-222-3333\",\"SSN-8\"} │\n",
       "│ 1   ┆ Name-9 ┆ {\"111-222-3333\",\"SSN-9\"} │\n",
       "└─────┴────────┴──────────────────────────┘"
      ]
     },
     "execution_count": 35,
     "metadata": {},
     "output_type": "execute_result"
    }
   ],
   "source": [
    "df"
   ]
  },
  {
   "cell_type": "markdown",
   "id": "a46a2bbdf6bec775",
   "metadata": {
    "collapsed": false,
    "jupyter": {
     "outputs_hidden": false
    }
   },
   "source": [
    "## Use tabulate Python Library\n",
    "\n",
    "Ref:\n",
    "\n",
    "- https://pypi.org/project/tabulate/"
   ]
  },
  {
   "cell_type": "code",
   "execution_count": 36,
   "id": "76d76dd235f18513",
   "metadata": {
    "ExecuteTime": {
     "end_time": "2024-08-02T15:00:13.025296Z",
     "start_time": "2024-08-02T15:00:13.022824Z"
    },
    "collapsed": false,
    "jupyter": {
     "outputs_hidden": false
    }
   },
   "outputs": [
    {
     "name": "stdout",
     "output_type": "stream",
     "text": [
      "See Dataframe at: file:///Users/sanhehu/Documents/GitHub/learn_polars-project/docs/source/02-Pretty-Print/dataframe.txt\n",
      "+------+--------+-------------------------------------------+\n",
      "|   id | name   | details                                   |\n",
      "+======+========+===========================================+\n",
      "|    1 | Name-1 | {'Phone': '111-222-3333', 'SSN': 'SSN-1'} |\n",
      "+------+--------+-------------------------------------------+\n",
      "|    1 | Name-2 | {'Phone': '111-222-3333', 'SSN': 'SSN-2'} |\n",
      "+------+--------+-------------------------------------------+\n",
      "|    1 | Name-3 | {'Phone': '111-222-3333', 'SSN': 'SSN-3'} |\n",
      "+------+--------+-------------------------------------------+\n",
      "|    1 | Name-4 | {'Phone': '111-222-3333', 'SSN': 'SSN-4'} |\n",
      "+------+--------+-------------------------------------------+\n",
      "|    1 | Name-5 | {'Phone': '111-222-3333', 'SSN': 'SSN-5'} |\n",
      "+------+--------+-------------------------------------------+\n",
      "|    1 | Name-6 | {'Phone': '111-222-3333', 'SSN': 'SSN-6'} |\n",
      "+------+--------+-------------------------------------------+\n",
      "|    1 | Name-7 | {'Phone': '111-222-3333', 'SSN': 'SSN-7'} |\n",
      "+------+--------+-------------------------------------------+\n",
      "|    1 | Name-8 | {'Phone': '111-222-3333', 'SSN': 'SSN-8'} |\n",
      "+------+--------+-------------------------------------------+\n",
      "|    1 | Name-9 | {'Phone': '111-222-3333', 'SSN': 'SSN-9'} |\n",
      "+------+--------+-------------------------------------------+\n"
     ]
    }
   ],
   "source": [
    "from tabulate import tabulate\n",
    "from pathlib import Path\n",
    "\n",
    "dir_here = Path.cwd()\n",
    "path = dir_here / \"dataframe.txt\"\n",
    "\n",
    "text = tabulate(df.to_dict(), headers=list(df.schema),  tablefmt=\"grid\")\n",
    "path.write_text(text)\n",
    "print(f\"See Dataframe at: file://{path}\")\n",
    "print(text) # You can also write it to file"
   ]
  },
  {
   "cell_type": "code",
   "execution_count": null,
   "id": "5b3cb6dcff0c9ef",
   "metadata": {
    "collapsed": false,
    "jupyter": {
     "outputs_hidden": false
    }
   },
   "outputs": [],
   "source": []
  }
 ],
 "metadata": {
  "kernelspec": {
   "display_name": "Python 3 (ipykernel)",
   "language": "python",
   "name": "python3"
  },
  "language_info": {
   "codemirror_mode": {
    "name": "ipython",
    "version": 3
   },
   "file_extension": ".py",
   "mimetype": "text/x-python",
   "name": "python",
   "nbconvert_exporter": "python",
   "pygments_lexer": "ipython3",
   "version": "3.10.10"
  }
 },
 "nbformat": 4,
 "nbformat_minor": 5
}
