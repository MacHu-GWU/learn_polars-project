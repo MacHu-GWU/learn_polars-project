{
 "cells": [
  {
   "cell_type": "markdown",
   "id": "c45565117d9f0794",
   "metadata": {
    "collapsed": false,
    "jupyter": {
     "outputs_hidden": false
    }
   },
   "source": [
    "# DataFrame"
   ]
  },
  {
   "cell_type": "code",
   "execution_count": 30,
   "id": "6ed4f28b71f74ddf",
   "metadata": {
    "ExecuteTime": {
     "end_time": "2024-08-02T14:43:10.248869Z",
     "start_time": "2024-08-02T14:43:10.243458Z"
    },
    "collapsed": false,
    "jupyter": {
     "outputs_hidden": false
    }
   },
   "outputs": [],
   "source": [
    "import polars as pl"
   ]
  },
  {
   "cell_type": "markdown",
   "id": "7bf26655cccb2cf9",
   "metadata": {
    "collapsed": false,
    "jupyter": {
     "outputs_hidden": false
    }
   },
   "source": [
    "## Create DataFrame\n",
    "\n",
    "Ref:\n",
    "\n",
    "- https://docs.pola.rs/api/python/stable/reference/dataframe/index.html"
   ]
  },
  {
   "cell_type": "code",
   "execution_count": 31,
   "id": "950a1738a297db6e",
   "metadata": {
    "ExecuteTime": {
     "end_time": "2024-08-02T14:43:10.540443Z",
     "start_time": "2024-08-02T14:43:10.538558Z"
    },
    "collapsed": false,
    "jupyter": {
     "outputs_hidden": false
    }
   },
   "outputs": [
    {
     "data": {
      "text/html": [
       "<div><style>\n",
       ".dataframe > thead > tr,\n",
       ".dataframe > tbody > tr {\n",
       "  text-align: right;\n",
       "  white-space: pre-wrap;\n",
       "}\n",
       "</style>\n",
       "<small>shape: (2, 2)</small><table border=\"1\" class=\"dataframe\"><thead><tr><th>a</th><th>b</th></tr><tr><td>i64</td><td>i64</td></tr></thead><tbody><tr><td>1</td><td>3</td></tr><tr><td>2</td><td>4</td></tr></tbody></table></div>"
      ],
      "text/plain": [
       "shape: (2, 2)\n",
       "┌─────┬─────┐\n",
       "│ a   ┆ b   │\n",
       "│ --- ┆ --- │\n",
       "│ i64 ┆ i64 │\n",
       "╞═════╪═════╡\n",
       "│ 1   ┆ 3   │\n",
       "│ 2   ┆ 4   │\n",
       "└─────┴─────┘"
      ]
     },
     "execution_count": 31,
     "metadata": {},
     "output_type": "execute_result"
    }
   ],
   "source": [
    "data = {\"a\": [1, 2], \"b\": [3, 4]}\n",
    "df = pl.DataFrame(data)\n",
    "df"
   ]
  },
  {
   "cell_type": "code",
   "execution_count": 32,
   "id": "be33da2dfa107962",
   "metadata": {
    "ExecuteTime": {
     "end_time": "2024-08-02T14:43:10.701928Z",
     "start_time": "2024-08-02T14:43:10.698729Z"
    },
    "collapsed": false,
    "jupyter": {
     "outputs_hidden": false
    }
   },
   "outputs": [
    {
     "data": {
      "text/plain": [
       "[Int64, Int64]"
      ]
     },
     "execution_count": 32,
     "metadata": {},
     "output_type": "execute_result"
    }
   ],
   "source": [
    "df.dtypes"
   ]
  },
  {
   "cell_type": "code",
   "execution_count": 33,
   "id": "bd3194141df864b8",
   "metadata": {
    "ExecuteTime": {
     "end_time": "2024-08-02T14:43:10.846681Z",
     "start_time": "2024-08-02T14:43:10.844533Z"
    },
    "collapsed": false,
    "jupyter": {
     "outputs_hidden": false
    }
   },
   "outputs": [
    {
     "data": {
      "text/plain": [
       "Schema([('a', Int64), ('b', Int64)])"
      ]
     },
     "execution_count": 33,
     "metadata": {},
     "output_type": "execute_result"
    }
   ],
   "source": [
    "df.schema"
   ]
  },
  {
   "cell_type": "code",
   "execution_count": 34,
   "id": "eadad827a1d71aa9",
   "metadata": {
    "ExecuteTime": {
     "end_time": "2024-08-02T14:43:10.990662Z",
     "start_time": "2024-08-02T14:43:10.988648Z"
    },
    "collapsed": false,
    "jupyter": {
     "outputs_hidden": false
    }
   },
   "outputs": [
    {
     "data": {
      "text/html": [
       "<div><style>\n",
       ".dataframe > thead > tr,\n",
       ".dataframe > tbody > tr {\n",
       "  text-align: right;\n",
       "  white-space: pre-wrap;\n",
       "}\n",
       "</style>\n",
       "<small>shape: (2, 2)</small><table border=\"1\" class=\"dataframe\"><thead><tr><th>col1</th><th>col2</th></tr><tr><td>f32</td><td>i64</td></tr></thead><tbody><tr><td>0.0</td><td>3</td></tr><tr><td>2.0</td><td>7</td></tr></tbody></table></div>"
      ],
      "text/plain": [
       "shape: (2, 2)\n",
       "┌──────┬──────┐\n",
       "│ col1 ┆ col2 │\n",
       "│ ---  ┆ ---  │\n",
       "│ f32  ┆ i64  │\n",
       "╞══════╪══════╡\n",
       "│ 0.0  ┆ 3    │\n",
       "│ 2.0  ┆ 7    │\n",
       "└──────┴──────┘"
      ]
     },
     "execution_count": 34,
     "metadata": {},
     "output_type": "execute_result"
    }
   ],
   "source": [
    "# {\"col1\": [...], \"col2\": [...]}\n",
    "# this is most efficient because polars is column oriented\n",
    "data = {\"col1\": [0, 2], \"col2\": [3, 7]}\n",
    "df = pl.DataFrame(data, schema={\"col1\": pl.Float32, \"col2\": pl.Int64})\n",
    "df"
   ]
  },
  {
   "cell_type": "code",
   "execution_count": 35,
   "id": "42facfc6e45d7549",
   "metadata": {
    "ExecuteTime": {
     "end_time": "2024-08-02T14:43:11.127983Z",
     "start_time": "2024-08-02T14:43:11.126726Z"
    },
    "collapsed": false,
    "jupyter": {
     "outputs_hidden": false
    }
   },
   "outputs": [
    {
     "data": {
      "text/html": [
       "<div><style>\n",
       ".dataframe > thead > tr,\n",
       ".dataframe > tbody > tr {\n",
       "  text-align: right;\n",
       "  white-space: pre-wrap;\n",
       "}\n",
       "</style>\n",
       "<small>shape: (2, 2)</small><table border=\"1\" class=\"dataframe\"><thead><tr><th>col1</th><th>col2</th></tr><tr><td>f32</td><td>i64</td></tr></thead><tbody><tr><td>1.0</td><td>3</td></tr><tr><td>2.0</td><td>4</td></tr></tbody></table></div>"
      ],
      "text/plain": [
       "shape: (2, 2)\n",
       "┌──────┬──────┐\n",
       "│ col1 ┆ col2 │\n",
       "│ ---  ┆ ---  │\n",
       "│ f32  ┆ i64  │\n",
       "╞══════╪══════╡\n",
       "│ 1.0  ┆ 3    │\n",
       "│ 2.0  ┆ 4    │\n",
       "└──────┴──────┘"
      ]
     },
     "execution_count": 35,
     "metadata": {},
     "output_type": "execute_result"
    }
   ],
   "source": [
    "data = {\"col1\": [1, 2], \"col2\": [3, 4]}\n",
    "df = pl.DataFrame(data, schema=[(\"col1\", pl.Float32), (\"col2\", pl.Int64)])\n",
    "df"
   ]
  },
  {
   "cell_type": "code",
   "execution_count": 36,
   "id": "6ca01d621e06f740",
   "metadata": {
    "ExecuteTime": {
     "end_time": "2024-08-02T14:43:11.277550Z",
     "start_time": "2024-08-02T14:43:11.274291Z"
    },
    "collapsed": false,
    "jupyter": {
     "outputs_hidden": false
    }
   },
   "outputs": [
    {
     "data": {
      "text/html": [
       "<div><style>\n",
       ".dataframe > thead > tr,\n",
       ".dataframe > tbody > tr {\n",
       "  text-align: right;\n",
       "  white-space: pre-wrap;\n",
       "}\n",
       "</style>\n",
       "<small>shape: (2, 2)</small><table border=\"1\" class=\"dataframe\"><thead><tr><th>col1</th><th>col2</th></tr><tr><td>f64</td><td>i64</td></tr></thead><tbody><tr><td>0.0</td><td>3</td></tr><tr><td>2.0</td><td>7</td></tr></tbody></table></div>"
      ],
      "text/plain": [
       "shape: (2, 2)\n",
       "┌──────┬──────┐\n",
       "│ col1 ┆ col2 │\n",
       "│ ---  ┆ ---  │\n",
       "│ f64  ┆ i64  │\n",
       "╞══════╪══════╡\n",
       "│ 0.0  ┆ 3    │\n",
       "│ 2.0  ┆ 7    │\n",
       "└──────┴──────┘"
      ]
     },
     "execution_count": 36,
     "metadata": {},
     "output_type": "execute_result"
    }
   ],
   "source": [
    "data = {\"col1\": [0, 2], \"col2\": [3, 7]}\n",
    "df = pl.DataFrame(data, schema={\"col1\": float, \"col2\": int})\n",
    "df"
   ]
  },
  {
   "cell_type": "code",
   "execution_count": 37,
   "id": "131b1df9bd5efa45",
   "metadata": {
    "ExecuteTime": {
     "end_time": "2024-08-02T14:43:11.440748Z",
     "start_time": "2024-08-02T14:43:11.439173Z"
    },
    "collapsed": false,
    "jupyter": {
     "outputs_hidden": false
    }
   },
   "outputs": [
    {
     "data": {
      "text/html": [
       "<div><style>\n",
       ".dataframe > thead > tr,\n",
       ".dataframe > tbody > tr {\n",
       "  text-align: right;\n",
       "  white-space: pre-wrap;\n",
       "}\n",
       "</style>\n",
       "<small>shape: (2, 2)</small><table border=\"1\" class=\"dataframe\"><thead><tr><th>col1</th><th>col2</th></tr><tr><td>f64</td><td>i64</td></tr></thead><tbody><tr><td>1.0</td><td>3</td></tr><tr><td>2.0</td><td>4</td></tr></tbody></table></div>"
      ],
      "text/plain": [
       "shape: (2, 2)\n",
       "┌──────┬──────┐\n",
       "│ col1 ┆ col2 │\n",
       "│ ---  ┆ ---  │\n",
       "│ f64  ┆ i64  │\n",
       "╞══════╪══════╡\n",
       "│ 1.0  ┆ 3    │\n",
       "│ 2.0  ┆ 4    │\n",
       "└──────┴──────┘"
      ]
     },
     "execution_count": 37,
     "metadata": {},
     "output_type": "execute_result"
    }
   ],
   "source": [
    "data = {\"col1\": [1, 2], \"col2\": [3, 4]}\n",
    "df = pl.DataFrame(data, schema=[(\"col1\", float), (\"col2\", int)])\n",
    "df"
   ]
  },
  {
   "cell_type": "code",
   "execution_count": 38,
   "id": "ebbc016bc978ed47",
   "metadata": {
    "ExecuteTime": {
     "end_time": "2024-08-02T14:43:11.592674Z",
     "start_time": "2024-08-02T14:43:11.589053Z"
    },
    "collapsed": false,
    "jupyter": {
     "outputs_hidden": false
    }
   },
   "outputs": [
    {
     "data": {
      "text/html": [
       "<div><style>\n",
       ".dataframe > thead > tr,\n",
       ".dataframe > tbody > tr {\n",
       "  text-align: right;\n",
       "  white-space: pre-wrap;\n",
       "}\n",
       "</style>\n",
       "<small>shape: (2, 2)</small><table border=\"1\" class=\"dataframe\"><thead><tr><th>id</th><th>name</th></tr><tr><td>i64</td><td>str</td></tr></thead><tbody><tr><td>1</td><td>&quot;Alice&quot;</td></tr><tr><td>2</td><td>&quot;Bob&quot;</td></tr></tbody></table></div>"
      ],
      "text/plain": [
       "shape: (2, 2)\n",
       "┌─────┬───────┐\n",
       "│ id  ┆ name  │\n",
       "│ --- ┆ ---   │\n",
       "│ i64 ┆ str   │\n",
       "╞═════╪═══════╡\n",
       "│ 1   ┆ Alice │\n",
       "│ 2   ┆ Bob   │\n",
       "└─────┴───────┘"
      ]
     },
     "execution_count": 38,
     "metadata": {},
     "output_type": "execute_result"
    }
   ],
   "source": [
    "data = [[1, \"Alice\"], [2, \"Bob\"]]\n",
    "df = pl.DataFrame(data, schema=[\"id\", \"name\"], orient=\"row\")\n",
    "df"
   ]
  },
  {
   "cell_type": "code",
   "execution_count": 39,
   "id": "a88ee6f87676e9d9",
   "metadata": {
    "ExecuteTime": {
     "end_time": "2024-08-02T14:43:11.746327Z",
     "start_time": "2024-08-02T14:43:11.742856Z"
    },
    "collapsed": false,
    "jupyter": {
     "outputs_hidden": false
    }
   },
   "outputs": [
    {
     "data": {
      "text/html": [
       "<div><style>\n",
       ".dataframe > thead > tr,\n",
       ".dataframe > tbody > tr {\n",
       "  text-align: right;\n",
       "  white-space: pre-wrap;\n",
       "}\n",
       "</style>\n",
       "<small>shape: (2, 2)</small><table border=\"1\" class=\"dataframe\"><thead><tr><th>id</th><th>name</th></tr><tr><td>i64</td><td>str</td></tr></thead><tbody><tr><td>1</td><td>&quot;Alice&quot;</td></tr><tr><td>2</td><td>&quot;Bob&quot;</td></tr></tbody></table></div>"
      ],
      "text/plain": [
       "shape: (2, 2)\n",
       "┌─────┬───────┐\n",
       "│ id  ┆ name  │\n",
       "│ --- ┆ ---   │\n",
       "│ i64 ┆ str   │\n",
       "╞═════╪═══════╡\n",
       "│ 1   ┆ Alice │\n",
       "│ 2   ┆ Bob   │\n",
       "└─────┴───────┘"
      ]
     },
     "execution_count": 39,
     "metadata": {},
     "output_type": "execute_result"
    }
   ],
   "source": [
    "# For [{key: value}, ...], polars try infer the data type\n",
    "data = [\n",
    "    {\"id\": 1, \"name\": \"Alice\"},\n",
    "    {\"id\": 2, \"name\": \"Bob\"},\n",
    "]\n",
    "df = pl.DataFrame(data)\n",
    "df"
   ]
  },
  {
   "cell_type": "code",
   "execution_count": 40,
   "id": "59ec76687d1009a5",
   "metadata": {
    "ExecuteTime": {
     "end_time": "2024-08-02T14:44:40.514439Z",
     "start_time": "2024-08-02T14:44:40.510531Z"
    },
    "collapsed": false,
    "jupyter": {
     "outputs_hidden": false
    }
   },
   "outputs": [
    {
     "data": {
      "text/html": [
       "<div><style>\n",
       ".dataframe > thead > tr,\n",
       ".dataframe > tbody > tr {\n",
       "  text-align: right;\n",
       "  white-space: pre-wrap;\n",
       "}\n",
       "</style>\n",
       "<small>shape: (2, 2)</small><table border=\"1\" class=\"dataframe\"><thead><tr><th>id</th><th>name</th></tr><tr><td>i64</td><td>str</td></tr></thead><tbody><tr><td>1</td><td>&quot;Alice&quot;</td></tr><tr><td>2</td><td>&quot;Bob&quot;</td></tr></tbody></table></div>"
      ],
      "text/plain": [
       "shape: (2, 2)\n",
       "┌─────┬───────┐\n",
       "│ id  ┆ name  │\n",
       "│ --- ┆ ---   │\n",
       "│ i64 ┆ str   │\n",
       "╞═════╪═══════╡\n",
       "│ 1   ┆ Alice │\n",
       "│ 2   ┆ Bob   │\n",
       "└─────┴───────┘"
      ]
     },
     "execution_count": 40,
     "metadata": {},
     "output_type": "execute_result"
    }
   ],
   "source": [
    "# For [{key: value}, ...], I suggest to define schema explicitly\n",
    "data = [\n",
    "    {\"id\": 1, \"name\": \"Alice\"},\n",
    "    {\"id\": 2, \"name\": \"Bob\"},\n",
    "]\n",
    "df = pl.DataFrame(data, schema={\"id\": int, \"name\": str})\n",
    "df"
   ]
  },
  {
   "cell_type": "markdown",
   "id": "a1d175243dd7aac1",
   "metadata": {
    "collapsed": false,
    "jupyter": {
     "outputs_hidden": false
    }
   },
   "source": [
    "## Handle Type Mismatch"
   ]
  },
  {
   "cell_type": "code",
   "execution_count": 41,
   "id": "eaf6fe6def30c621",
   "metadata": {
    "ExecuteTime": {
     "end_time": "2024-08-02T14:45:42.978902Z",
     "start_time": "2024-08-02T14:45:42.974382Z"
    },
    "collapsed": false,
    "jupyter": {
     "outputs_hidden": false
    }
   },
   "outputs": [
    {
     "data": {
      "text/html": [
       "<div><style>\n",
       ".dataframe > thead > tr,\n",
       ".dataframe > tbody > tr {\n",
       "  text-align: right;\n",
       "  white-space: pre-wrap;\n",
       "}\n",
       "</style>\n",
       "<small>shape: (3, 3)</small><table border=\"1\" class=\"dataframe\"><thead><tr><th>id</th><th>name</th><th>bank_account</th></tr><tr><td>i64</td><td>str</td><td>str</td></tr></thead><tbody><tr><td>1</td><td>&quot;Alice&quot;</td><td>&quot;1111111111&quot;</td></tr><tr><td>2</td><td>&quot;Bob&quot;</td><td>&quot;2222222222&quot;</td></tr><tr><td>3</td><td>&quot;Cathy&quot;</td><td>&quot;3333333333&quot;</td></tr></tbody></table></div>"
      ],
      "text/plain": [
       "shape: (3, 3)\n",
       "┌─────┬───────┬──────────────┐\n",
       "│ id  ┆ name  ┆ bank_account │\n",
       "│ --- ┆ ---   ┆ ---          │\n",
       "│ i64 ┆ str   ┆ str          │\n",
       "╞═════╪═══════╪══════════════╡\n",
       "│ 1   ┆ Alice ┆ 1111111111   │\n",
       "│ 2   ┆ Bob   ┆ 2222222222   │\n",
       "│ 3   ┆ Cathy ┆ 3333333333   │\n",
       "└─────┴───────┴──────────────┘"
      ]
     },
     "execution_count": 41,
     "metadata": {},
     "output_type": "execute_result"
    }
   ],
   "source": [
    "# For [{key: value}, ...], I suggest to define schema explicitly\n",
    "data = [\n",
    "    {\"id\": 1, \"name\": \"Alice\", \"bank_account\": \"1111111111\"},\n",
    "    {\"id\": 2, \"name\": \"Bob\", \"bank_account\": \"2222222222\"},\n",
    "    {\"id\": 3, \"name\": \"Cathy\", \"bank_account\": 3333333333},\n",
    "]\n",
    "df = pl.DataFrame(data)\n",
    "df"
   ]
  },
  {
   "cell_type": "code",
   "execution_count": 42,
   "id": "e7b84ff31c4ba6b8",
   "metadata": {
    "ExecuteTime": {
     "end_time": "2024-08-02T14:46:14.714829Z",
     "start_time": "2024-08-02T14:46:14.710553Z"
    },
    "collapsed": false,
    "jupyter": {
     "outputs_hidden": false
    }
   },
   "outputs": [
    {
     "data": {
      "text/html": [
       "<div><style>\n",
       ".dataframe > thead > tr,\n",
       ".dataframe > tbody > tr {\n",
       "  text-align: right;\n",
       "  white-space: pre-wrap;\n",
       "}\n",
       "</style>\n",
       "<small>shape: (3, 3)</small><table border=\"1\" class=\"dataframe\"><thead><tr><th>id</th><th>name</th><th>bank_account</th></tr><tr><td>i64</td><td>str</td><td>str</td></tr></thead><tbody><tr><td>1</td><td>&quot;Alice&quot;</td><td>&quot;1111111111&quot;</td></tr><tr><td>2</td><td>&quot;Bob&quot;</td><td>&quot;2222222222&quot;</td></tr><tr><td>3</td><td>&quot;Cathy&quot;</td><td>&quot;3333333333&quot;</td></tr></tbody></table></div>"
      ],
      "text/plain": [
       "shape: (3, 3)\n",
       "┌─────┬───────┬──────────────┐\n",
       "│ id  ┆ name  ┆ bank_account │\n",
       "│ --- ┆ ---   ┆ ---          │\n",
       "│ i64 ┆ str   ┆ str          │\n",
       "╞═════╪═══════╪══════════════╡\n",
       "│ 1   ┆ Alice ┆ 1111111111   │\n",
       "│ 2   ┆ Bob   ┆ 2222222222   │\n",
       "│ 3   ┆ Cathy ┆ 3333333333   │\n",
       "└─────┴───────┴──────────────┘"
      ]
     },
     "execution_count": 42,
     "metadata": {},
     "output_type": "execute_result"
    }
   ],
   "source": [
    "data = [\n",
    "    {\"id\": 1, \"name\": \"Alice\", \"bank_account\": \"1111111111\"},\n",
    "    {\"id\": 2, \"name\": \"Bob\", \"bank_account\": \"2222222222\"},\n",
    "    {\"id\": 3, \"name\": \"Cathy\", \"bank_account\": 3333333333},\n",
    "]\n",
    "df = pl.DataFrame(data, schema={\"id\": int, \"name\": str, \"bank_account\": str})\n",
    "df"
   ]
  },
  {
   "cell_type": "code",
   "execution_count": null,
   "id": "2800324d-2ff9-47b5-b070-d32fef7a162d",
   "metadata": {},
   "outputs": [],
   "source": []
  }
 ],
 "metadata": {
  "kernelspec": {
   "display_name": "Python 3 (ipykernel)",
   "language": "python",
   "name": "python3"
  },
  "language_info": {
   "codemirror_mode": {
    "name": "ipython",
    "version": 3
   },
   "file_extension": ".py",
   "mimetype": "text/x-python",
   "name": "python",
   "nbconvert_exporter": "python",
   "pygments_lexer": "ipython3",
   "version": "3.10.10"
  }
 },
 "nbformat": 4,
 "nbformat_minor": 5
}
